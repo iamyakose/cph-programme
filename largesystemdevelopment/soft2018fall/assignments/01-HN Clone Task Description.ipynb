{
 "cells": [
  {
   "cell_type": "markdown",
   "metadata": {},
   "source": [
    "# Description of Hacker News\n",
    "\n",
    "Your task during the first eight weeks of the course is to implement a functional clone of [Hacker News](https://news.ycombinator.com).\n",
    "\n",
    "  > _Hacker News_ is a social news website focusing on computer science and entrepreneurship. It is run by Paul Graham's investment fund and startup incubator, Y Combinator. In general, content that can be submitted is defined as \"anything that gratifies one's intellectual curiosity\".\n",
    "  > https://en.wikipedia.org/wiki/Hacker_News\n",
    "\n",
    "\n",
    "![screenshot](images/hn_screenshot.png)\n",
    "\n",
    "\n",
    "\n",
    "_Hacker News_ is a social news website similar to [Reddit](www.reddit.com). That is, it is a page on which registered users can post stories. Furthermore, the site enables discussions by letting users write comments on stories and on other's comments. To publish stories and comments, users have to be logged into the system.\n",
    "\n",
    "Furthermore, users can up-vote and down-vote published stories and comments. However, unlike Reddit where new users can immediately both up-vote and down-vote content, Hacker News does not allow users to down-vote content until they have accumulated 500 \"karma\" points. Karma points are calculated as the number of up-votes a given user's content has received minus the number of down-votes. Regardless of karma, all users have the option to flag submitted content as spam.\n",
    "\n",
    "That is, you will have to build a web-application. The site described above, which will very likely consist of a front-end and a back-end system, where the front-end is responsible of ingesting new stories and comments, presenting an overview of stories as in the screenshot above and the back-end system digests the data received from the front-end and it provides the corresponding data to the front-end. All content is stored in a database.\n",
    "\n",
    "Furthermore, for the purpose of this course your _Hacker News_ clone will provide an HTTP API which allows a simulator program to publish stories and comments to your system. Additionally, the HTTP API will allow an external program to query the state of your system, i.e., up-and-running or in upgrade, etc. and it will allow to query for the identifier of the last ingested story or comment. A more precise specification of that will be published to you in some weeks.\n",
    "\n",
    "Your system will be deployed to a publicly visible server. After going live (29th Oct. at the end of the lecture), your system has to have an uptime of more than 95% (29th Oct. until the end of the course 17th Dec.). Your system shall not 'loose' any content, which is sent to it from the simulator program. That is, even if your system is for example down for upgrade, there should be a mechanism buffering incoming content, which can be published to the system when it is operational again.\n",
    "\n",
    "\n",
    "## Your Task Until Next Week: Requirements Elicitation & Project Kick-off\n",
    "\n",
    "  * Extract a list of requirements from the description above.\n",
    "  * Take special care of extracting a complete set of functional as well as non-functional requirements.\n",
    "\n",
    "### Create a Product Backlog for Your Project\n",
    "\n",
    "Check the following documents to get an idea about product backlogs and requirements:\n",
    "\n",
    "  * http://www.goodagile.com/scrumprimer/scrumprimer20.pdf\n",
    "  * https://www.atlassian.com/agile/scrum/backlogs\n",
    "  * https://www.atlassian.com/agile/product-management/requirements\n",
    "\n",
    "That is, the structure of your product backlog will be similar to as described in the resources above.\n",
    "\n",
    "### Creating a Project Board with Work Tasks\n",
    "\n",
    "In your Github project with the project backlog, create a project board in which you fill the back-log/todo with the tasks/stories which you will solve in the beginning (first sprint in case you choose SCRUM).\n",
    "\n",
    "See Github's documentation on how to create a project board: https://help.github.com/articles/about-project-boards/.\n",
    "\n",
    "  \n",
    "### Hand-in Procedure\n",
    "\n",
    "  * You create the Product Backlog as a Markdown (`.md`) file in a Github repository.\n",
    "    - **OBS** You create a markdown document. No MS Word file, no PDF, no other format than `.md`\n",
    "  * Your group will work with that repository during the entire course.\n",
    "  * At latest on 9th Sep. 11am you will upload a link to the Product Backlog markdown document on Moodle."
   ]
  }
 ],
 "metadata": {
  "kernelspec": {
   "display_name": "Python 3",
   "language": "python",
   "name": "python3"
  },
  "language_info": {
   "codemirror_mode": {
    "name": "ipython",
    "version": 3
   },
   "file_extension": ".py",
   "mimetype": "text/x-python",
   "name": "python",
   "nbconvert_exporter": "python",
   "pygments_lexer": "ipython3",
   "version": "3.6.4"
  }
 },
 "nbformat": 4,
 "nbformat_minor": 2
}
