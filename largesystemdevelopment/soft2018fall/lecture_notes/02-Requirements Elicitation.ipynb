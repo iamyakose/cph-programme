{
 "cells": [
  {
   "cell_type": "markdown",
   "metadata": {
    "slideshow": {
     "slide_type": "slide"
    }
   },
   "source": [
    "# Requirements Elicitation\n",
    "\n",
    "![](http://assets.amuniversal.com/97642d406d6301301d80001dd8b71c47)"
   ]
  },
  {
   "cell_type": "markdown",
   "metadata": {
    "slideshow": {
     "slide_type": "slide"
    }
   },
   "source": [
    "# What is this?\n",
    "\n",
    "![](images/requirements.png)\n",
    "\n",
    "  > A requirement is a feature that a system must have or a constraint that it must satisfy to be accepted by the client."
   ]
  },
  {
   "cell_type": "markdown",
   "metadata": {
    "slideshow": {
     "slide_type": "subslide"
    }
   },
   "source": [
    "![](images/elicit.png)\n"
   ]
  },
  {
   "cell_type": "markdown",
   "metadata": {
    "slideshow": {
     "slide_type": "slide"
    }
   },
   "source": [
    "# Types of Requirements\n",
    "  \n",
    "### Functional requirements\n",
    "\n",
    "Functional requirements describe the interactions between the system and its environment independent from the implementation. That is, they describe user tasks that the system needs to support.\n",
    "\n",
    "For example: \n",
    "\n",
    "  > A user must be able to create a new login.\n",
    "  \n",
    "  > Create a new account\n",
    "  \n",
    "  > Notify a user"
   ]
  },
  {
   "cell_type": "markdown",
   "metadata": {},
   "source": [
    "### Non-functional requirements\n",
    "\n",
    "Non-functional requirements describe aspects not directly related to functional behavior of the system. They describe properties of the system or the domain. Usually, they are phrased as constraints or negative assertions\n",
    "\n",
    "  > All user inputs should be acknowledged within 1 second\n",
    "  > A system crash should not result in data loss”"
   ]
  },
  {
   "cell_type": "markdown",
   "metadata": {},
   "source": [
    "### Constraints (FURPS+)\n",
    "\n",
    "Constraints are imposed by the client or the environment.\n",
    "For example; \n",
    "\n",
    "  > The implementation language must be Java"
   ]
  },
  {
   "cell_type": "markdown",
   "metadata": {},
   "source": [
    "#### Types of Nonfunctional Requirements (FURPS+)\n",
    "\n",
    "  * Quality Requirements (FURPS) \n",
    "\n",
    "    * Usability\n",
    "    * Reliability  \n",
    "        - Robustness, Safety, ...\n",
    "    * Performance\n",
    "      - Response time, Scalability, Throughput, Availability, ...  \n",
    "    * Supportability\n",
    "      - Adaptability, Maintainability, ...\n",
    "\n",
    "  * Constraints or Pseudo Requirements (+) § Implementation\n",
    "    * Interface\n",
    "    * Operation\n",
    "    * Packaging \n",
    "    * Legal\n",
    "    * Licensing, Certification, Regulation, etc."
   ]
  },
  {
   "cell_type": "markdown",
   "metadata": {},
   "source": [
    "## What should *not* be in the Requirements?\n",
    "\n",
    "  * System structure\n",
    "  * Implementation technology\n",
    "  * Development methodology\n",
    "  * Development environment\n",
    "  * Implementation language\n",
    "  * Reusability"
   ]
  },
  {
   "cell_type": "markdown",
   "metadata": {
    "slideshow": {
     "slide_type": "slide"
    }
   },
   "source": [
    "## Product Backlog\n",
    "\n",
    " * _Product Backlog_, a prioritized list of **customer-centric** features.\n",
    " * It exists and evolves over the lifetime of a product\n",
    " * It is the product roadmap\n",
    " * Only a _single_ Product Backlog exists for a product"
   ]
  },
  {
   "cell_type": "markdown",
   "metadata": {
    "slideshow": {
     "slide_type": "subslide"
    }
   },
   "source": [
    "### What is in a Product Backlog?\n",
    "\n",
    "  * a variety of items, primarily new customer features \n",
    "  * major engineering improvement goals \n",
    "  * improvement goals\n",
    "  * research work \n",
    "  * possibly, known defects if there are only a few problems"
   ]
  },
  {
   "cell_type": "markdown",
   "metadata": {
    "slideshow": {
     "slide_type": "subslide"
    }
   },
   "source": [
    "### Characteristics of Items\n",
    "\n",
    "  * Product Backlog items are articulated in any way that is clear and sustainable. \n",
    "  * Items can be expressed as _user stories_, _use cases_, or any other requirements approach\n",
    "\n",
    "Most items should focus on delivering value to customers."
   ]
  },
  {
   "cell_type": "markdown",
   "metadata": {
    "slideshow": {
     "slide_type": "fragment"
    }
   },
   "source": [
    "#### Detailed Appropriately\n",
    "\n",
    "Top priority items are more fine-grained and detailed than the lower priority item."
   ]
  },
  {
   "cell_type": "markdown",
   "metadata": {
    "slideshow": {
     "slide_type": "fragment"
    }
   },
   "source": [
    "#### Estimated\n",
    "\n",
    "The items for the current release need to have estimates, and furthermore, should be considered for re-estimation each Sprint as everyones learns and new information arises. "
   ]
  },
  {
   "cell_type": "markdown",
   "metadata": {
    "slideshow": {
     "slide_type": "fragment"
    }
   },
   "source": [
    "#### Emergent\n",
    "\n",
    "In response to learning and variability, the Product Backlog is regularly refined."
   ]
  },
  {
   "cell_type": "markdown",
   "metadata": {
    "slideshow": {
     "slide_type": "fragment"
    }
   },
   "source": [
    "#### Prioritized \n",
    "\n",
    "The items at the top of the Product Backlog are prioritized or ordered in a 1-N order."
   ]
  },
  {
   "cell_type": "markdown",
   "metadata": {},
   "source": [
    "# References\n",
    "\n",
    "  * Many of the notes above are condensed from The Scrum Primer: http://www.goodagile.com/scrumprimer/scrumprimer20.pdf\n",
    "  * More on requirements and backlogs: \n",
    "    - https://www.atlassian.com/agile/product-management/requirements\n",
    "    - https://www.atlassian.com/agile/scrum/backlogs\n",
    "  * Read more in chapter 4 _Object-Oriented Software Engineering Using UML, Patterns, and Java_ Bernd Bruegge & Allen H. Dutoit\n",
    "  * See, https://efif-my.sharepoint.com/personal/rhp_cphbusiness_dk/_layouts/15/guestaccess.aspx?guestaccesstoken=rs4ZBCd9QNQL6QqnEh9olziXDZWG8eBQLtLacAlARCQ%3d&docid=2_0a6f69363debc456692cc3b8cbad9da61&rev=1\n",
    "\n",
    "---------------------\n"
   ]
  },
  {
   "cell_type": "markdown",
   "metadata": {
    "slideshow": {
     "slide_type": "slide"
    }
   },
   "source": [
    "\n",
    "\n",
    "# Techniques to Elicit Requirements\n",
    "\n",
    "Bridging the gap between end user and developer:\n",
    "\n",
    "  * _Questionnaires_: Asking the end user a list of pre-selected questions\n",
    "  * _Task Analysis_: Observing end users in their operational environment\n",
    "  * _Scenarios_: Describe the use of the system as a series of interactions between a concrete end user and the system\n",
    "  * _Use cases_: Abstractions that describe a class of scenarios.\n",
    "  * Create a _Product Backlog_ "
   ]
  },
  {
   "cell_type": "markdown",
   "metadata": {},
   "source": [
    "# Scenario?\n",
    "\n",
    "  * A synthetic description of an event or series of actions and events.\n",
    "  * A textual description of the usage of a system. The description is written from an end user’s point of view.\n",
    "  * A scenario can include text, video, pictures and story boards. It usually also contains details about the work place, social situations and resource constraints.\n",
    "  \n",
    "![scenario](images/scenario.png)\n",
    "\n",
    "\n",
    "# How to find scenarios?\n",
    "\n",
    "Ask yourself or the client the following questions:\n",
    "\n",
    "  * What are the primary tasks that the system needs to perform?\n",
    "  * What data will the actor create, store, change, remove or add in the system?\n",
    "  * What external changes does the system need to know about?\n",
    "  * What changes or events will the actor of the system need to be informed about?\n",
    " \n",
    " \n",
    "# How to find Use Cases?\n",
    "\n",
    "A **scenario** is an instance of a **use case**; that is, a use case specifies all possible scenarios for a given piece of functionality. A use case is initiated by an actor. After its initiation, a use case may interact with other actors, as well. A use case represents a complete flow of events through the system in the sense that it describes a series of related interactions that result from its initiation.\n",
    "\n",
    "Condense the scenarios into use cases:\n",
    "\n",
    "  * Describe participating actors\n",
    "  * Describe the entry condition\n",
    "  * Describe the flow of events\n",
    "  * Describe the exit condition\n",
    "  * Describe exceptions\n",
    "  * Describe non-functional requirements\n",
    "\n",
    "\n",
    "![use_case](images/use_case.png)"
   ]
  }
 ],
 "metadata": {
  "celltoolbar": "Slideshow",
  "kernelspec": {
   "display_name": "Python 3",
   "language": "python",
   "name": "python3"
  },
  "language_info": {
   "codemirror_mode": {
    "name": "ipython",
    "version": 3
   },
   "file_extension": ".py",
   "mimetype": "text/x-python",
   "name": "python",
   "nbconvert_exporter": "python",
   "pygments_lexer": "ipython3",
   "version": "3.6.4"
  }
 },
 "nbformat": 4,
 "nbformat_minor": 2
}
