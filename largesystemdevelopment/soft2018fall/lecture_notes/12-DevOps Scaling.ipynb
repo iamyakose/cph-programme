{
 "cells": [
  {
   "cell_type": "code",
   "execution_count": null,
   "metadata": {
    "slideshow": {
     "slide_type": "slide"
    }
   },
   "outputs": [],
   "source": []
  },
  {
   "cell_type": "markdown",
   "metadata": {
    "slideshow": {
     "slide_type": "slide"
    }
   },
   "source": [
    "# The state of your projects?\n",
    "\n",
    "  * See http://46.101.225.71/chart.svg\n",
    "  * and http://46.101.225.71/error_chart.svg"
   ]
  },
  {
   "cell_type": "code",
   "execution_count": 4,
   "metadata": {
    "slideshow": {
     "slide_type": "subslide"
    }
   },
   "outputs": [
    {
     "data": {
      "text/html": [
       "\n",
       "        <iframe\n",
       "            width=\"100%\"\n",
       "            height=\"500\"\n",
       "            src=\"http://46.101.225.71/chart.svg\"\n",
       "            frameborder=\"0\"\n",
       "            allowfullscreen\n",
       "        ></iframe>\n",
       "        "
      ],
      "text/plain": [
       "<IPython.lib.display.IFrame at 0x110f41358>"
      ]
     },
     "execution_count": 4,
     "metadata": {},
     "output_type": "execute_result"
    }
   ],
   "source": [
    "from IPython.display import IFrame\n",
    "\n",
    "url = 'http://46.101.225.71/chart.svg'\n",
    "IFrame(url, width='100%', height=500)"
   ]
  },
  {
   "cell_type": "code",
   "execution_count": 22,
   "metadata": {
    "slideshow": {
     "slide_type": "subslide"
    }
   },
   "outputs": [
    {
     "data": {
      "text/html": [
       "\n",
       "        <iframe\n",
       "            width=\"100%\"\n",
       "            height=\"500\"\n",
       "            src=\"http://46.101.225.71/error_chart.svg\"\n",
       "            frameborder=\"0\"\n",
       "            allowfullscreen\n",
       "        ></iframe>\n",
       "        "
      ],
      "text/plain": [
       "<IPython.lib.display.IFrame at 0x110fba390>"
      ]
     },
     "execution_count": 22,
     "metadata": {},
     "output_type": "execute_result"
    }
   ],
   "source": [
    "from IPython.display import IFrame\n",
    "\n",
    "url = 'http://46.101.225.71/error_chart.svg'\n",
    "IFrame(url, width='100%', height=500) "
   ]
  },
  {
   "cell_type": "code",
   "execution_count": 11,
   "metadata": {},
   "outputs": [
    {
     "data": {
      "text/html": [
       "\n",
       "        <iframe\n",
       "            width=\"100%\"\n",
       "            height=\"100%\"\n",
       "            src=\"http://104.248.252.68\"\n",
       "            frameborder=\"0\"\n",
       "            allowfullscreen\n",
       "        ></iframe>\n",
       "        "
      ],
      "text/plain": [
       "<IPython.lib.display.IFrame at 0x110fba400>"
      ]
     },
     "execution_count": 11,
     "metadata": {},
     "output_type": "execute_result"
    }
   ],
   "source": [
    "from IPython.display import IFrame\n",
    "\n",
    "url = 'http://104.248.252.68'\n",
    "IFrame(url, width='100%', height='100%') "
   ]
  },
  {
   "cell_type": "markdown",
   "metadata": {
    "slideshow": {
     "slide_type": "slide"
    }
   },
   "source": [
    "# Recap"
   ]
  },
  {
   "cell_type": "markdown",
   "metadata": {
    "slideshow": {
     "slide_type": "slide"
    }
   },
   "source": [
    "## Monitoring\n",
    "\n",
    "What do you see?\n",
    "\n",
    "\n",
    "  * Group A: http://hvadvardet.nu:9091/\n",
    "  * Group B: http://207.154.222.128:3000/\n",
    "  * Group C: http://3.16.90.93:3000/d/sWAtc7Biz/hnclone?orgId=4&from=1541960238351&to=1541981838351\n",
    "  * Group D: https://snapshot.raintank.io/dashboard/snapshot/2h5NrITOaBIcN3b1tfkSh4y7A6e67lv0?orgId=2\n",
    "  * Group E: http://dolphin.viter.dk:9091/d/dLQLH7Bmk/dolphin?orgId=1&tab=general&from=1541956589604&to=1541978189604&var-datasource=prometheus&var-deployment_namespace=default&var-deployment_name=dolphin-backend\n",
    "  * Group F: https://046894410058.signin.aws.amazon.com/console\n",
    "  * Group G: http://159.65.116.24:3000"
   ]
  },
  {
   "cell_type": "markdown",
   "metadata": {
    "slideshow": {
     "slide_type": "slide"
    }
   },
   "source": [
    "![](images/group_b_monitoring.png)"
   ]
  },
  {
   "cell_type": "code",
   "execution_count": 7,
   "metadata": {
    "slideshow": {
     "slide_type": "slide"
    }
   },
   "outputs": [
    {
     "data": {
      "text/html": [
       "\n",
       "        <iframe\n",
       "            width=\"100%\"\n",
       "            height=\"500\"\n",
       "            src=\"https://snapshot.raintank.io/dashboard/snapshot/2h5NrITOaBIcN3b1tfkSh4y7A6e67lv0?orgId=2\"\n",
       "            frameborder=\"0\"\n",
       "            allowfullscreen\n",
       "        ></iframe>\n",
       "        "
      ],
      "text/plain": [
       "<IPython.lib.display.IFrame at 0x110f41550>"
      ]
     },
     "execution_count": 7,
     "metadata": {},
     "output_type": "execute_result"
    }
   ],
   "source": [
    "from IPython.display import IFrame\n",
    "\n",
    "url = 'https://snapshot.raintank.io/dashboard/snapshot/2h5NrITOaBIcN3b1tfkSh4y7A6e67lv0?orgId=2'\n",
    "IFrame(url, width='100%', height=500) "
   ]
  },
  {
   "cell_type": "markdown",
   "metadata": {
    "slideshow": {
     "slide_type": "slide"
    }
   },
   "source": [
    "# Does it correspond to the SLAs?\n",
    "\n",
    "![](images/group_f_monitoring.png)"
   ]
  },
  {
   "cell_type": "markdown",
   "metadata": {},
   "source": [
    "## What can I see here? :(\n",
    "\n",
    "![](images/group_e_monitoring.png)\n",
    "![](images/group_g_monitoring.png)"
   ]
  },
  {
   "cell_type": "markdown",
   "metadata": {
    "slideshow": {
     "slide_type": "subslide"
    }
   },
   "source": [
    "## Logging/Post Mortem\n",
    "\n",
    "What did you see/analyze?"
   ]
  },
  {
   "cell_type": "markdown",
   "metadata": {
    "slideshow": {
     "slide_type": "slide"
    }
   },
   "source": [
    "# Bottlenecks appear in any good design\n",
    "\n",
    "Three problems:\n",
    "  * Congestion\n",
    "  * Single point of entry \n",
    "  * Single point of failure"
   ]
  },
  {
   "cell_type": "code",
   "execution_count": null,
   "metadata": {},
   "outputs": [],
   "source": []
  },
  {
   "cell_type": "markdown",
   "metadata": {
    "slideshow": {
     "slide_type": "slide"
    }
   },
   "source": [
    "# Single Point of Failure\n",
    "\n",
    "Very likely your systems look similar to the following:\n",
    "\n",
    "![](images/possible_arch1.png)"
   ]
  },
  {
   "cell_type": "markdown",
   "metadata": {
    "slideshow": {
     "slide_type": "subslide"
    }
   },
   "source": [
    "# Single Point of Failure\n",
    " \n",
    "Or perhaps you deployed the various components on their own machines:\n",
    "![](images/possible_arch2.png)"
   ]
  },
  {
   "cell_type": "markdown",
   "metadata": {
    "slideshow": {
     "slide_type": "subslide"
    }
   },
   "source": [
    "### What happens if one of the systems goes down?"
   ]
  },
  {
   "cell_type": "markdown",
   "metadata": {
    "slideshow": {
     "slide_type": "subslide"
    }
   },
   "source": [
    "## Congestion\n",
    "\n",
    "Very likely your systems look similar to the following:\n",
    "\n",
    "![](images/possible_arch1.png)"
   ]
  },
  {
   "cell_type": "markdown",
   "metadata": {
    "slideshow": {
     "slide_type": "subslide"
    }
   },
   "source": [
    "## Congestion\n",
    "\n",
    "Or perhaps you deployed the various components on their own machines:\n",
    "![](images/possible_arch2.png)"
   ]
  },
  {
   "cell_type": "markdown",
   "metadata": {
    "slideshow": {
     "slide_type": "subslide"
    }
   },
   "source": [
    "## Solution to Congestion - Scaling"
   ]
  },
  {
   "cell_type": "markdown",
   "metadata": {
    "slideshow": {
     "slide_type": "subslide"
    }
   },
   "source": [
    "## Vertical Scaling - Manually\n",
    "\n",
    "  * In a physical server add more memory, harddisk etc.\n",
    "  * Nice thing about using VMs, we can do that at runtime."
   ]
  },
  {
   "cell_type": "markdown",
   "metadata": {
    "slideshow": {
     "slide_type": "subslide"
    }
   },
   "source": [
    " \n",
    "## Vertical Scaling with VirtualBox\n",
    "\n",
    "Note the VM has to be powered off to perform modifications of RAM and storage. You can modify VMs via the GUI or on the CLI\n",
    "\n"
   ]
  },
  {
   "cell_type": "markdown",
   "metadata": {
    "slideshow": {
     "slide_type": "subslide"
    }
   },
   "source": [
    "### GUI\n",
    "\n",
    "![](https://i.stack.imgur.com/IEtuL.png)"
   ]
  },
  {
   "cell_type": "markdown",
   "metadata": {
    "slideshow": {
     "slide_type": "subslide"
    }
   },
   "source": [
    "![](https://i.stack.imgur.com/AYfo9.png)\n",
    "\n",
    "See https://askubuntu.com/a/510139"
   ]
  },
  {
   "cell_type": "markdown",
   "metadata": {
    "slideshow": {
     "slide_type": "subslide"
    }
   },
   "source": [
    "### CLI\n",
    "\n",
    "To increase RAM of an existing VM to 8GB, storage to 64GB, and the CPU to more cores, one could run:\n",
    "\n",
    "~~~bash\n",
    "$ VBoxManage list vms\n",
    "\"coursevm\" {e072b310-1922-4113-93f5-2ca865e01722}\n",
    "\"lsd2018vm\" {67fda2ea-7c3e-42f6-9a13-d0908020322d}\n",
    "$ VBoxManage modifyvm \"coursevm\" --cpus 8\n",
    "$ VBoxManage modifyvm \"coursevm\" --memory 8192\n",
    "~~~"
   ]
  },
  {
   "cell_type": "markdown",
   "metadata": {
    "slideshow": {
     "slide_type": "subslide"
    }
   },
   "source": [
    "~~~bash\n",
    "$ VBoxManage list hdds\n",
    "UUID:           d95b799f-0f33-4abd-925c-84ea5cbb3225\n",
    "Parent UUID:    base\n",
    "State:          created\n",
    "Type:           normal (base)\n",
    "Location:       /path/to/node1/ubuntu-16.04-amd64-disk001.vmdk\n",
    "Storage format: VMDK\n",
    "Capacity:       40960 MBytes\n",
    "Encryption:     disabled\n",
    "\n",
    "UUID:           9953ea1b-7295-4547-94fa-209f49c258f5\n",
    "Parent UUID:    base\n",
    "State:          created\n",
    "Type:           normal (base)\n",
    "Location:       /path/to/node1ubuntu-16.04-amd64-disk001.vmdk\n",
    "Storage format: VMDK\n",
    "Capacity:       40960 MBytes\n",
    "Encryption:     disabled\n",
    "$ VBoxManage clonehd \"9953ea1b-7295-4547-94fa-209f49c258f5\" \"cloned.vdi\" --format vdi\n",
    "$ VBoxManage modifymedium disk \"cloned.vdi\" --resize 65536\n",
    "~~~"
   ]
  },
  {
   "cell_type": "markdown",
   "metadata": {
    "slideshow": {
     "slide_type": "subslide"
    }
   },
   "source": [
    "Optionally, you may want to convert the disk back to `vmdk` with `VBoxManage clonehd \"cloned.vdi\" \"resized.vmdk\" --format vmdk`\n",
    "\n",
    "**OBS** from within your VM make use of the new space by extending your disk with `gparted` or similar tools.\n",
    "\n",
    "See:\n",
    "  * Modfication of RAM https://www.virtualbox.org/manual/ch08.html#vboxmanage-modifyvm \n",
    "  * Modification of storage https://www.virtualbox.org/manual/ch08.html#vboxmanage-modifyvdi\n"
   ]
  },
  {
   "cell_type": "markdown",
   "metadata": {
    "slideshow": {
     "slide_type": "subslide"
    }
   },
   "source": [
    "## Vertical Scaling with DigitalOcean\n",
    "\n",
    "\n",
    "### GUI\n",
    "\n",
    "\n",
    "![](https://assets.nyc3.cdn.digitaloceanspaces.com/droplets/resize-options.png)\n",
    "\n"
   ]
  },
  {
   "cell_type": "markdown",
   "metadata": {
    "slideshow": {
     "slide_type": "subslide"
    }
   },
   "source": [
    "But -similar to VirtualBox- you can only resize VMs that are not running.\n",
    "\n",
    "![](https://assets.nyc3.cdn.digitaloceanspaces.com/droplets/resize-switch-on.png)\n",
    "\n",
    "\n",
    "\n",
    "See https://www.digitalocean.com/docs/droplets/how-to/resize/#resizing-via-the-control-panel\n",
    "\n"
   ]
  },
  {
   "cell_type": "markdown",
   "metadata": {
    "slideshow": {
     "slide_type": "subslide"
    }
   },
   "source": [
    "### CLI\n",
    "\n",
    "Using the HTTP API vertical scaling could look as in the following.\n",
    "\n",
    "See \n",
    "\n",
    "  * https://www.digitalocean.com/docs/droplets/how-to/resize/\n",
    "  * https://developers.digitalocean.com/documentation/v2/#resize-a-droplet\n",
    "\n",
    "\n",
    "##### Create a New Droplet\n",
    "\n",
    "~~~bash\n",
    "$ curl -X POST \"https://api.digitalocean.com/v2/droplets\" \\\n",
    "       -d'{\"name\":\"New-Droplet\",\"region\":\"fra1\",\"size\":\"512mb\",\"image\":\"ubuntu-16-04-x64\"}' \\\n",
    "       -H \"Authorization: Bearer $DIGITAL_OCEAN_TOKEN\" \\\n",
    "\t   -H \"Content-Type: application/json\"\n",
    "~~~"
   ]
  },
  {
   "cell_type": "markdown",
   "metadata": {
    "slideshow": {
     "slide_type": "subslide"
    }
   },
   "source": [
    "##### List all Droplets\n",
    "\n",
    "~~~bash\n",
    "$ curl -X GET \"https://api.digitalocean.com/v2/droplets\" -H \"Authorization: Bearer $DIGITAL_OCEAN_TOKEN\" | jq\n",
    "{\n",
    "  \"droplets\": [\n",
    "    {\n",
    "      \"id\": 116690982,\n",
    "      \"name\": \"webserver\",\n",
    "      \"memory\": 1024,\n",
    "      \"vcpus\": 1,\n",
    "      \"disk\": 30,\n",
    "      \"locked\": false,\n",
    "      \"status\": \"active\",\n",
    "      \"kernel\": null,\n",
    "      \"created_at\": \"2018-10-26T12:54:08Z\",\n",
    "      \"features\": [],\n",
    "...\n",
    "      \"networks\": {\n",
    "        \"v4\": [\n",
    "          {\n",
    "            \"ip_address\": \"46.101.225.71\",\n",
    "            \"netmask\": \"255.255.192.0\",\n",
    "            \"gateway\": \"46.101.192.1\",\n",
    "            \"type\": \"public\"\n",
    "          }\n",
    "        ],\n",
    "        \"v6\": []\n",
    "      },\n",
    "...\n",
    "}\n",
    "~~~\n"
   ]
  },
  {
   "cell_type": "markdown",
   "metadata": {
    "slideshow": {
     "slide_type": "subslide"
    }
   },
   "source": [
    "##### Resizing it\n",
    "\n",
    "Resize CPU and RAM only to a 4GB droplet, which automatically shuts down the droplet. \n",
    "\n",
    "~~~bash\n",
    "$ curl -X POST -H 'Content-Type: application/json' \\\n",
    "       -H 'Authorization: Bearer $DIGITAL_OCEAN_TOKEN' \\\n",
    "       -d '{\"type\":\"resize\",\"size\":\"s-2vcpu-4gb\"}' \\\n",
    "       \"https://api.digitalocean.com/v2/droplets/droplet_id/actions\"\n",
    "~~~\n"
   ]
  },
  {
   "cell_type": "markdown",
   "metadata": {
    "slideshow": {
     "slide_type": "subslide"
    }
   },
   "source": [
    "\n",
    "To also increase disk size do:\n",
    "\n",
    "\n",
    "~~~bash\n",
    "$ curl -X POST -H 'Content-Type: application/json' \\ \n",
    "       -H 'Authorization: Bearer $DIGITAL_OCEAN_TOKEN' \\ \n",
    "       -d '{\"type\":\"resize\",\"size\": s-2vcpu-4gb\",\"disk\":true}'  \\\n",
    "       \"https://api.digitalocean.com/v2/droplets/droplet_id/actions\"\n",
    "~~~\n"
   ]
  },
  {
   "cell_type": "markdown",
   "metadata": {
    "slideshow": {
     "slide_type": "subslide"
    }
   },
   "source": [
    "Power on\n",
    "\n",
    "~~~bash\n",
    "$ curl -X POST -H 'Content-Type: application/json' \n",
    "       -H 'Authorization: Bearer $DIGITAL_OCEAN_TOKEN' \\\n",
    "       -d '{\"type\":\"power_on\"}' \\\n",
    "       \"https://api.digitalocean.com/v2/droplets/droplet_id/actions\"\n",
    "~~~"
   ]
  },
  {
   "cell_type": "markdown",
   "metadata": {
    "slideshow": {
     "slide_type": "subslide"
    }
   },
   "source": [
    "### Discussion\n",
    "\n",
    "Now that is quite cool no? You could attach a resize action to an alarm and scale you machines vertically automatically.\n",
    "\n",
    "But what is the drawback? You have to switch of the machines that you want to scale. That is quite unpractical if you have do not have reduntant machines, see more about that below."
   ]
  },
  {
   "cell_type": "markdown",
   "metadata": {},
   "source": [
    "# Horizontal Scaling\n",
    "\n",
    "\n",
    "Horizontal scaling means not increasing the resources of a single (virtual) machine but instead adding more (virtual) machines to your cluster.\n",
    "\n",
    "![](https://assets.digitalocean.com/blog/static/scaling-php/horizontal-scaling.png)"
   ]
  },
  {
   "cell_type": "markdown",
   "metadata": {
    "slideshow": {
     "slide_type": "subslide"
    }
   },
   "source": [
    "# Horizontal Scaling does not Only Solve Congestion but also Single Point of Failure\n",
    "\n",
    "![](images/possible_arch2.png)"
   ]
  },
  {
   "cell_type": "markdown",
   "metadata": {
    "slideshow": {
     "slide_type": "slide"
    }
   },
   "source": [
    "# Redundancy/High-available Setup\n",
    "\n",
    "![](https://assets.digitalocean.com/blog/static/floating-ips-start-architecting-your-applications-for-high-availability/ha-diagram-animated.gif)\n"
   ]
  },
  {
   "cell_type": "markdown",
   "metadata": {
    "slideshow": {
     "slide_type": "subslide"
    }
   },
   "source": [
    "For guides on manual horizontal scaling on DigitalOcean see for example:\n",
    "\n",
    "  * https://blog.digitalocean.com/floating-ips-start-architecting-your-applications-for-high-availability/\n",
    "  * https://www.digitalocean.com/community/tutorials/how-to-set-up-highly-available-web-servers-with-keepalived-and-floating-ips-on-ubuntu-14-04\n",
    "  * https://www.digitalocean.com/community/tutorials/how-to-create-a-high-availability-setup-with-heartbeat-and-floating-ips-on-ubuntu-16-04\n",
    "  * https://blog.digitalocean.com/load-balancers-simplifying-high-availability/\n",
    "  * https://blog.digitalocean.com/horizontally-scaling-php-applications/"
   ]
  },
  {
   "cell_type": "markdown",
   "metadata": {
    "slideshow": {
     "slide_type": "subslide"
    }
   },
   "source": [
    "# Tools that Help Horizontal Scaling\n",
    "\n",
    "  * Kubernetes, the elephant\n",
    "  * Docker Swarm, the mouse\n"
   ]
  },
  {
   "cell_type": "markdown",
   "metadata": {
    "slideshow": {
     "slide_type": "subslide"
    }
   },
   "source": [
    "## Kubernetes\n",
    "\n",
    "  * ... is popular in the US, see https://trends.google.com/trends/explore?geo=US&q=Kubernetes,Docker%20Swarm,Mesos\n",
    "  * But since Danmark has another size, it is not that much more popular compared to alternatives, see\n",
    "  https://trends.google.com/trends/explore?geo=DK&q=Kubernetes,Docker%20Swarm,Mesos"
   ]
  },
  {
   "cell_type": "markdown",
   "metadata": {
    "slideshow": {
     "slide_type": "subslide"
    }
   },
   "source": [
    "![](https://user-images.githubusercontent.com/300046/33525757-6fcd2624-d7f3-11e7-9745-79ce5f9600e9.jpg)"
   ]
  },
  {
   "cell_type": "markdown",
   "metadata": {},
   "source": [
    "## Docker Swarm\n",
    "\n",
    "We are going for the mouse...\n",
    "\n",
    "  * Based on `swarmkit`\n",
    "    > A toolkit for orchestrating distributed systems at any scale\n",
    "  * Orchestration\n",
    "    - Manages nodes and services\n",
    "  * Scheduling\n",
    "    - Resource aware task scheduling\n",
    "  * Security\n",
    "    - We will talk about this next week\n",
    "    \n",
    "    "
   ]
  },
  {
   "cell_type": "markdown",
   "metadata": {
    "slideshow": {
     "slide_type": "subslide"
    }
   },
   "source": [
    "## Docker Commands\n",
    "\n",
    "  * `docker-machine` ... to manage virtual machines\n",
    "  * `docker swarm` ... to manages a cluster (swarm)\n",
    "  * `docker service` ... to manage containers (services) in the swarm"
   ]
  },
  {
   "cell_type": "markdown",
   "metadata": {
    "slideshow": {
     "slide_type": "subslide"
    }
   },
   "source": [
    "## Docker Swarm: Concepts\n",
    "\n",
    "  * Nodes\n",
    "    - A VM instance participating in a swarm \n",
    "    - Worker nodes\n",
    "    - Manager nodes\n",
    "  * Services and tasks\n",
    "    - A collection of tasks to be executed on a node, i.e., containers\n",
    "    - Replicated services\n",
    "    - Global services (one instance per node)\n",
    "  * Load balancing\n",
    "See https://docs.docker.com/engine/swarm/"
   ]
  },
  {
   "cell_type": "markdown",
   "metadata": {
    "slideshow": {
     "slide_type": "subslide"
    }
   },
   "source": [
    "## Docker Swarm: Nodes\n",
    "\n",
    "Two types of nodes: \n",
    "  * Managers\n",
    "  * Workers\n",
    "\n",
    "![](https://docs.docker.com/engine/swarm/images/swarm-diagram.png)\n",
    "\n"
   ]
  },
  {
   "cell_type": "markdown",
   "metadata": {},
   "source": [
    "### Manager nodes\n",
    "\n",
    "  * maintain cluster state\n",
    "  * schedule services\n",
    "\n",
    "For teaching we run a single swarm manager. In production you should have at least three manager nodes.\n",
    "\n",
    "  * Three manager swarm tolerates a maximum loss of one manager.\n",
    "  * Five manager swarm tolerates a maximum loss of two managers.\n",
    "  * $n$ manager swarm tolerates maximum loss of $(n-1)/2$ managers.\n",
    "\n",
    "Docker recommends a maximum of seven manager nodes for a swarm.\n",
    "\n",
    "Important Note: Adding more managers does NOT mean increased scalability or higher performance. In general, the opposite is true."
   ]
  },
  {
   "cell_type": "markdown",
   "metadata": {
    "slideshow": {
     "slide_type": "subslide"
    }
   },
   "source": [
    "### Worker nodes\n",
    "\n",
    "  * are instances of Docker Engine whith sole purpose to execute containers\n",
    "  * do not participate in scheduling decisions, or serve the swarm mode HTTP API\n",
    "  * Have at least one manager node\n",
    "  * (By default, all managers are also workers)\n",
    "\n",
    "See more https://docs.docker.com/engine/swarm/how-swarm-mode-works/nodes/"
   ]
  },
  {
   "cell_type": "markdown",
   "metadata": {
    "slideshow": {
     "slide_type": "subslide"
    }
   },
   "source": [
    "![](https://docs.docker.com/engine/swarm/images/replicated-vs-global.png)"
   ]
  },
  {
   "cell_type": "markdown",
   "metadata": {
    "slideshow": {
     "slide_type": "subslide"
    }
   },
   "source": [
    "|Swarm Size|\tMajority\t|Fault Tolerance|\n",
    "|:----------:|:-------------:|:------:|\n",
    "|1\t|1\t|0|\n",
    "|2\t|2\t|0|\n",
    "|3\t|2\t|1|\n",
    "|4\t|3\t|1|\n",
    "|5\t|3\t|2|\n",
    "|6\t|4\t|2|\n",
    "|7\t|4\t|3|\n",
    "|8\t|5\t|3|\n",
    "|9\t|5\t|4|\n",
    "\n",
    "\n",
    "https://docs.docker.com/engine/swarm/admin_guide/#add-manager-nodes-for-fault-tolerance"
   ]
  },
  {
   "cell_type": "markdown",
   "metadata": {
    "slideshow": {
     "slide_type": "subslide"
    }
   },
   "source": [
    "# Your Turn!\n",
    "\n",
    "Create a Docker Swarm cluster on DigitalOcean (or locally with VirtualBox) with the following guide.\n"
   ]
  },
  {
   "cell_type": "markdown",
   "metadata": {},
   "source": [
    "### Creating a Docker Swarm Cluster Node\n",
    "\n",
    "If you want to create such a node on your local machine with VirtualBox as backend:\n",
    "\n",
    "~~~bash\n",
    "$ docker-machine create --driver virtualbox default\n",
    "~~~\n",
    "\n",
    "See more on that in the documentation: https://docs.docker.com/machine/get-started/\n",
    "\n",
    "\n",
    "However, in the following we will use DigitalOcean for providing VMs for the nodes, see https://docs.docker.com/machine/drivers/digital-ocean/#usage\n",
    "\n",
    "If your project runs on another provider you may want to check the other available drivers:\n",
    "https://docs.docker.com/machine/drivers/\n",
    "\n",
    "\n",
    "~~~bash\n",
    "$ export DIGITALOCEAN_REGION=fra1\n",
    "$ export DIGITALOCEAN_SIZE=512mb\n",
    "$ export DIGITALOCEAN_PRIVATE_NETWORKING=true\n",
    "$ docker-machine create --driver digitalocean \\\n",
    "                        --digitalocean-image ubuntu-16-04-x64 \\\n",
    "                        --digitalocean-access-token $DIGITAL_OCEAN_TOKEN \\\n",
    "                        node-0\n",
    "~~~\n",
    "\n",
    "~~~bash\n",
    "$ docker-machine ls\n",
    "NAME     ACTIVE   DRIVER         STATE     URL                         SWARM   DOCKER     ERRORS\n",
    "node-0   -        digitalocean   Running   tcp://142.93.109.102:2376           v18.09.0\n",
    "~~~\n",
    "\n",
    "\n",
    "#### Creating Two More Nodes\n",
    "\n",
    "~~~bash\n",
    "$ docker-machine create --driver digitalocean \\\n",
    "                        --digitalocean-image ubuntu-16-04-x64 \\\n",
    "                        --digitalocean-access-token $DIGITAL_OCEAN_TOKEN \\\n",
    "                        node-1\n",
    "$ docker-machine create --driver digitalocean \\\n",
    "                        --digitalocean-image ubuntu-16-04-x64 \\\n",
    "                        --digitalocean-access-token $DIGITAL_OCEAN_TOKEN \\\n",
    "                        node-2\n",
    "~~~\n",
    "\n",
    "\n",
    "Alternatively, you could create a cluster with multiple nodes (here 3) via a loop:\n",
    "\n",
    "\n",
    "~~~bash\n",
    "#!/bin/bash\n",
    "\n",
    "export DIGITALOCEAN_REGION=fra1\n",
    "export DIGITALOCEAN_SIZE=512mb\n",
    "export DIGITALOCEAN_PRIVATE_NETWORKING=true\n",
    "for (( i=0; i<=2; i++ ))\n",
    "do\n",
    "    echo \"Creating node $i\"\n",
    "    docker-machine create --driver digitalocean \\\n",
    "                          --digitalocean-image  ubuntu-16-04-x64 \\\n",
    "                          --digitalocean-access-token $DIGITAL_OCEAN_TOKEN \\\n",
    "                          node-$i\n",
    "done\n",
    "~~~\n",
    "\n",
    "\n",
    "#### Configuring the Firewall on All Nodes\n",
    "\n",
    "To make `node-0` a manager node, you have to first open the corresponding ports that allow the Docker Engine to act as a manager node.\n",
    "\n",
    "~~~bash\n",
    "$ docker-machine ssh node-0 \"ufw allow 22/tcp;ufw allow 2376/tcp;ufw allow 2377/tcp;ufw allow 7946/tcp;ufw allow 7946/udp;ufw allow 4789/udp;ufw reload;ufw --force enable;systemctl restart docker\"\n",
    "~~~\n",
    "\n",
    "\n",
    "The worker nodes need some other ports opened up. In the following an example for the first worker node. Remember to do this for all of your worker nodes, for example in a loop as above.\n",
    "\n",
    "Note, that we will have a dockerized application running that is listening to port `8080``\n",
    "\n",
    "~~~bash\n",
    "$ docker-machine ssh node-1 \"ufw allow 22/tcp;ufw allow 2376/tcp;ufw allow 7946/tcp;ufw allow 8080/tcp;ufw allow 7946/udp;ufw allow 4789/udp;ufw reload;ufw --force enable;systemctl restart docker\"\n",
    "$ docker-machine ssh node-2 \"ufw allow 22/tcp;ufw allow 2376/tcp;ufw allow 7946/tcp;ufw allow 8080/tcp;ufw allow 7946/udp;ufw allow 4789/udp;ufw reload;ufw --force enable;systemctl restart docker\"\n",
    "~~~~\n",
    "\n",
    "### Getting the IP of a Cluster Node\n",
    "\n",
    "~~~bash\n",
    "$ docker-machine ip node-0\n",
    "~~~\n",
    "\n",
    "\n",
    "\n",
    "### Making `node-0` a Cluster Manager\n",
    "\n",
    "~~~bash\n",
    "$ SWARM_MANAGER_IP=`docker-machine ip node-0`\n",
    "$ echo $SWARM_MANAGER_IP\n",
    "142.93.109.102\n",
    "$ docker-machine ssh node-0 \"docker swarm init --advertise-addr $SWARM_MANAGER_IP\"\n",
    "Swarm initialized: current node (sozjy3nmfrieacm2pbgj41ek3) is now a manager.\n",
    "\n",
    "To add a worker to this swarm, run the following command:\n",
    "\n",
    "    docker swarm join --token SWMTKN-1-4rndqz4hwe38wtbl9fwgj33rk48ok3hri7a0xy42o7sf5ll38z-afkri2vu57m5z31v34bny16aj 142.93.109.102:2377\n",
    "\n",
    "To add a manager to this swarm, run 'docker swarm join-token manager' and follow the instructions.\n",
    "~~~\n",
    "\n",
    "\n",
    "### Converting `node-1` and `node-2` to Workers\n",
    "\n",
    "Now let's get that token from the remote node and build a command that we can run on `node-1` and `node-2` to join the swarm.\n",
    "\n",
    "\n",
    "~~~bash\n",
    "$ docker-machine ssh node-0 \"docker swarm join-token worker -q\"\n",
    "SWMTKN-1-4rndqz4hwe38wtbl9fwgj33rk48ok3hri7a0xy42o7sf5ll38z-afkri2vu57m5z31v34bny16aj\n",
    "$ MANAGER_TOKEN=`docker-machine ssh node-0 \"docker swarm join-token worker -q\"`\n",
    "$ REMOTE_CMD=\"docker swarm join --token $MANAGER_TOKEN $SWARM_MANAGER_IP:2377\"\n",
    "$ docker-machine ssh node-1 \"$REMOTE_CMD\"\n",
    "This node joined a swarm as a worker.\n",
    "$ docker-machine ssh node-2 \"$REMOTE_CMD\"\n",
    "This node joined a swarm as a worker.\n",
    "~~~\n",
    "\n",
    "\n",
    "\n",
    "On the manager node, we can now see the state of our cluster:\n",
    "\n",
    "\n",
    "~~~bash\n",
    "$ docker-machine ssh node-0 \"docker node ls\"\n",
    "ID                            HOSTNAME            STATUS              AVAILABILITY        MANAGER STATUS      ENGINE VERSION\n",
    "sozjy3nmfrieacm2pbgj41ek3 *   node-0              Ready               Active              Leader              18.09.0\n",
    "hy6ie5xq561f9w1zpiyaqkrk5     node-1              Ready               Active                                  18.09.0\n",
    "~~~\n",
    "\n",
    "\n",
    "\n",
    "### Starting a Service\n",
    "\n",
    "Now that everything is setup, let's run a service on our cluster:\n",
    "\n",
    "~~~bash\n",
    "$ docker-machine ssh node-0 \"docker service create -p 8080:8080 --name appserver helgecph/promserver\"\n",
    "overall progress: 0 out of 1 tasks\n",
    "...\n",
    "overall progress: 1 out of 1 tasks\n",
    "verify: Waiting 5 seconds to verify that tasks are stable...\n",
    "...\n",
    "verify: Waiting 1 seconds to verify that tasks are stable...\n",
    "verify: Service converged\n",
    "~~~~\n",
    "\n",
    "#### Checking the State of the Service\n",
    "\n",
    "\n",
    "~~~bash\n",
    "$ docker-machine ssh node-0 \"docker service ls\"\n",
    "ID                  NAME                MODE                REPLICAS            IMAGE                        PORTS\n",
    "ttkqm9wzthgu        appserver           replicated          1/1                 helgecph/promserver:latest   *:8080->8080/tcp\n",
    "~~~\n",
    "\n",
    "You may directly ask for the state of a service with\n",
    "\n",
    "~~~bash\n",
    "$ docker-machine ssh node-0 \"docker service ps appserver\"\n",
    "~~~\n",
    "\n",
    "\n",
    "Now, navigate to http://142.93.109.102:8080 and see the webpage served. Now what happens if you navigate to http://68.183.73.66:8080? Nice no? Something that Docker Swarm take care for you.\n",
    "\n",
    "~~~bash\n",
    "$ docker-machine ip node-0\n",
    "142.93.109.102\n",
    "$ docker-machine ip node-1\n",
    "68.183.73.66\n",
    "~~~\n",
    "\n",
    "\n",
    "\n",
    "# Finally, Scaling\n",
    "\n",
    "~~~bash\n",
    "$ docker-machine ssh node-0 \"docker service scale appserver=5\"\n",
    "$ docker-machine ssh node-0 \"docker service ls\"\n",
    "ID                  NAME                MODE                REPLICAS            IMAGE                        PORTS\n",
    "ttkqm9wzthgu        appserver           replicated          5/5                 helgecph/promserver:latest   *:8080->8080/tcp\n",
    "$ docker-machine ssh node-0 \"docker service ps appserver\"\n",
    "ID                  NAME                IMAGE                        NODE                DESIRED STATE       CURRENT STATE            ERROR               PORTS\n",
    "vbg02o9bsaog        appserver.1         helgecph/promserver:latest   node-1              Running             Running 7 minutes ago\n",
    "mudpe1lokpj7        appserver.2         helgecph/promserver:latest   node-0              Running             Running 13 seconds ago\n",
    "t7enei6pz4jw        appserver.3         helgecph/promserver:latest   node-0              Running             Running 12 seconds ago\n",
    "sfpn4f2kg5nq        appserver.4         helgecph/promserver:latest   node-1              Running             Running 39 seconds ago\n",
    "wa8f99b6t199        appserver.5         helgecph/promserver:latest   node-0              Running             Running 12 seconds ago\n",
    "~~~\n",
    "\n",
    "\n",
    "\n",
    "# The Swarm also Restarts Services\n",
    "\n",
    "\n",
    "To demonstrate this, we make use of a service, a webserver which kills itself constantly. First, we stop the currently running service:\n",
    "\n",
    "~~~bash\n",
    "$ docker-machine ssh node-0 \"docker service rm appserver\"\n",
    "$ docker-machine ssh node-0 \"docker service ls\"\n",
    "ID                  NAME                MODE                REPLICAS            IMAGE               PORTS\n",
    "~~~\n",
    "\n",
    "Subsequently, we start the new service and scale it up\n",
    "\n",
    "~~~bash\n",
    "$ docker-machine ssh node-0 \"docker service create -p 8080:8080 --name webserver helgecph/swarmserver\"\n",
    "\n",
    "$ docker-machine ssh node-0 \"docker service ls\"\n",
    "ID                  NAME                MODE                REPLICAS            IMAGE                         PORTS\n",
    "mabmg8j9o1gt        webserver           replicated          1/1                 helgecph/swarmserver:latest   *:8080->8080/tcp\n",
    "$ docker-machine ssh node-0 \"docker service ls\"\n",
    "ID                  NAME                MODE                REPLICAS            IMAGE                         PORTS\n",
    "mabmg8j9o1gt        webserver           replicated          0/1                 helgecph/swarmserver:latest   *:8080->8080/tcp\n",
    "$ docker-machine ssh node-0 \"docker service ls\"\n",
    "ID                  NAME                MODE                REPLICAS            IMAGE                         PORTS\n",
    "mabmg8j9o1gt        webserver           replicated          0/1                 helgecph/swarmserver:latest   *:8080->8080/tcp\n",
    "$ docker-machine ssh node-0 \"docker service ps webserver\"\n",
    "ID                  NAME                IMAGE                         NODE                DESIRED STATE       CURRENT STATE             ERROR               PORTS\n",
    "k833brh082xr        webserver.1         helgecph/swarmserver:latest   node-0              Ready               Ready 2 seconds ago\n",
    "mbqqbbgfmyai         \\_ webserver.1     helgecph/swarmserver:latest   node-0              Shutdown            Complete 2 seconds ago\n",
    "swn761f0hkdl         \\_ webserver.1     helgecph/swarmserver:latest   node-0              Shutdown            Complete 26 seconds ago\n",
    "zkzaqr8btt54         \\_ webserver.1     helgecph/swarmserver:latest   node-0              Shutdown            Complete 35 seconds ago\n",
    "cr7zzd574muz         \\_ webserver.1     helgecph/swarmserver:latest   node-0              Shutdown            Complete 49 seconds ago\n",
    "~~~\n",
    "\n",
    "Now, navigate to http://142.93.109.102:8080/status and refresh your browser window every now and then to observe what is going on.\n",
    "\n",
    "\n",
    "Now, scale the service up and observe how it changes behavior in the browser as well as when using `docker service ps webserver`\n",
    "\n",
    "~~~bash\n",
    "$ docker-machine ssh node-0 \"docker service scale webserver=5\"\n",
    "~~~\n",
    "\n",
    "\n",
    "# Cleaning up to not pay anymore...\n",
    "\n",
    "\n",
    "\n",
    "~~~bash\n",
    "$ docker-machine ls --filter name=node-.* --filter driver=digitalocean --format \"{{.Name}}\" | xargs docker-machine rm -y\n",
    "About to remove node-0, node-1\n",
    "WARNING: This action will delete both local reference and remote instance.\n",
    "Successfully removed node-0\n",
    "Successfully removed node-1\n",
    "~~~\n",
    "\n",
    "\n",
    "\n",
    "The guide above is based on the guide at:\n",
    "https://www.digitalocean.com/community/tutorials/how-to-create-a-cluster-of-docker-containers-with-docker-swarm-and-digitalocean-on-ubuntu-16-04"
   ]
  },
  {
   "cell_type": "markdown",
   "metadata": {
    "slideshow": {
     "slide_type": "subslide"
    }
   },
   "source": [
    "# Upgrade Strategies\n",
    "\n",
    "\n",
    "  * _Blue-green_ ... Two identical environments, where only one is hot at any time\n",
    "  ![](https://opensource.com/sites/default/files/f1_2.png)"
   ]
  },
  {
   "cell_type": "markdown",
   "metadata": {
    "slideshow": {
     "slide_type": "subslide"
    }
   },
   "source": [
    "  * _Canary_ ... Deploy to a small group first, then deploy to the rest\n",
    "  ![](https://opensource.com/sites/default/files/f3_0.png)\n"
   ]
  },
  {
   "cell_type": "markdown",
   "metadata": {
    "slideshow": {
     "slide_type": "subslide"
    }
   },
   "source": [
    "  * _Rolling_ ... Deploy in rolling iterations\n",
    "  ![](https://opensource.com/sites/default/files/images/business-uploads/rolling2.gif)\n",
    "  \n",
    "See https://opensource.com/article/17/5/colorful-deployments"
   ]
  },
  {
   "cell_type": "markdown",
   "metadata": {},
   "source": [
    "## Docker Swarm: Rolling Updates\n",
    "\n",
    "  1. Stop the first task\n",
    "  2. Schedule update for the stopped task\n",
    "  3. Start the container for the updated task\n",
    "  4. If the update to a task returns RUNNING, wait for the specified delay period then start the next task\n",
    "  5. If, at any  me during the update, a task returns FAILED, pause the update\n",
    "\n",
    "PS: You need at least two replicas!\n",
    "\n",
    "\n",
    "See https://docs.docker.com/engine/swarm/swarm-tutorial/rolling-update/"
   ]
  },
  {
   "cell_type": "markdown",
   "metadata": {
    "slideshow": {
     "slide_type": "subslide"
    }
   },
   "source": [
    "# Your Task Until Next Week\n",
    "\n",
    "Either \n",
    "\n",
    "  * create a high-available setup with _hot_ and _standby_ server for your Hacker News Clone, or\n",
    "  * create a Docker Swarm cluster for your Hacker News Clone in which all components run as services.\n",
    "  \n",
    "  \n",
    "In both cases implement a rolling update strategy to your build chain."
   ]
  }
 ],
 "metadata": {
  "celltoolbar": "Slideshow",
  "kernelspec": {
   "display_name": "Python 3",
   "language": "python",
   "name": "python3"
  },
  "language_info": {
   "codemirror_mode": {
    "name": "ipython",
    "version": 3
   },
   "file_extension": ".py",
   "mimetype": "text/x-python",
   "name": "python",
   "nbconvert_exporter": "python",
   "pygments_lexer": "ipython3",
   "version": "3.6.4"
  }
 },
 "nbformat": 4,
 "nbformat_minor": 2
}
