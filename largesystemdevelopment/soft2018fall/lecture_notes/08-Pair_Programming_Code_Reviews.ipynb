{
 "cells": [
  {
   "cell_type": "markdown",
   "metadata": {
    "slideshow": {
     "slide_type": "slide"
    }
   },
   "source": [
    "# Pair Programming\n",
    "\n",
    "\n",
    "![](https://images.ctfassets.net/k428n7s2pxlu/1aJnbCcUvAa4qiIg4kMeI/9c93dd78ff2c7c5ffbff3e14f5878a87/6-reasons-for-pair-programming.jpg)"
   ]
  },
  {
   "cell_type": "markdown",
   "metadata": {
    "slideshow": {
     "slide_type": "subslide"
    }
   },
   "source": [
    "  > **Pair programming** is a practice in which two programmers work collaboratively at one computer on the same design, algorithm, or code.\n",
    "  >\n",
    "  > http://andrewbegel.com/papers/esem-begel-2008.pdf"
   ]
  },
  {
   "cell_type": "markdown",
   "metadata": {
    "slideshow": {
     "slide_type": "subslide"
    }
   },
   "source": [
    "  * **Any production code** in an XP project is created by a pair of developers working together at one computer.\n",
    "  * Two roles:\n",
    "    - _Driver_ does the actual coding\n",
    "    - _Navigator_ (\"shotgun partner\") is constantly reviewing the code\n",
    "    \n",
    "    \n",
    "  - If the driver creates some code, with which the navigator does not agree, the driver has to justify it. \n",
    "  - The navigator thinks _ahead_\n",
    "  - The navigator usually handles interruptions like questions from other developers, phone calls and the like.\n",
    "  - The pair switches roles often\n",
    "  - Pairs change frequently during a day, usually when some relatively independent task is finished.\n",
    "\n",
    "  - If a developer is asked for help and can spare time he or she is obliged to help.\n",
    "\n",
    "\n",
    "Source: http://csis.pace.edu/~marchese/CS616/Agile/XP/XP_Overview.pdf"
   ]
  },
  {
   "cell_type": "markdown",
   "metadata": {
    "slideshow": {
     "slide_type": "subslide"
    }
   },
   "source": [
    "### Pair Programming is Not\n",
    "\n",
    "  * I let the other person do everything while checking my mobile\n",
    "  * Mentoring, in pair programming you work as equals\n",
    "\n",
    "Source: http://www.extremeprogramming.org/rules/pair.html\n",
    "\n",
    "![](https://cdn-images-1.medium.com/max/1600/0*Jr7_IOOSUyPMAGsl.)"
   ]
  },
  {
   "cell_type": "markdown",
   "metadata": {
    "slideshow": {
     "slide_type": "slide"
    }
   },
   "source": [
    "## Perceived Benefits\n",
    "\n",
    "  * introduction of fewer bugs\n",
    "  * spreading code understanding\n",
    "  * producing overall higher quality code\n",
    "  \n",
    "  \n",
    "Source: http://andrewbegel.com/papers/esem-begel-2008.pdf"
   ]
  },
  {
   "cell_type": "markdown",
   "metadata": {
    "slideshow": {
     "slide_type": "subslide"
    }
   },
   "source": [
    "\n",
    "\n",
    "  > for a development-time cost of about 15%, pair programming improves design quality, reduces defects, reduces staffing risk, enhances technical skills, improves team communications and is considered more enjoyable at statistically significant levels.\n",
    "  >\n",
    "  > https://collaboration.csc.ncsu.edu/laurie/Papers/XPSardinia.PDF\n",
    "\n",
    "\n",
    "![](images/pp_time.png)"
   ]
  },
  {
   "cell_type": "markdown",
   "metadata": {
    "slideshow": {
     "slide_type": "subslide"
    }
   },
   "source": [
    "![](images/pp_testspassed.png)\n"
   ]
  },
  {
   "cell_type": "markdown",
   "metadata": {
    "slideshow": {
     "slide_type": "subslide"
    }
   },
   "source": [
    "![](images/pp_loc.png)"
   ]
  },
  {
   "cell_type": "markdown",
   "metadata": {
    "slideshow": {
     "slide_type": "subslide"
    }
   },
   "source": [
    "![](images/pp_enjoy.png)"
   ]
  },
  {
   "cell_type": "markdown",
   "metadata": {
    "slideshow": {
     "slide_type": "slide"
    }
   },
   "source": [
    "## How do I pair program effectively?\n",
    "\n",
    "  * Keep talking\n",
    "  * Spend equal time typing\n",
    "  * Use a development environment that both people are equally comfortable with\n",
    "\n",
    "Source: https://www.codementor.io/pair-programming"
   ]
  },
  {
   "cell_type": "markdown",
   "metadata": {
    "slideshow": {
     "slide_type": "subslide"
    }
   },
   "source": [
    "### Pairing Techniques"
   ]
  },
  {
   "cell_type": "markdown",
   "metadata": {},
   "source": [
    "![](https://cdn-images-1.medium.com/max/1600/0*CYfLDpWVmJosv0C9.)"
   ]
  },
  {
   "cell_type": "markdown",
   "metadata": {
    "slideshow": {
     "slide_type": "subslide"
    }
   },
   "source": [
    "### Driver-Navigator\n",
    "\n",
    "This form of pair programming is a looser form of the Ping Pong Pattern. It works a little bit like two people driving in a rally car race, with one person driving (or typing) and the other navigating. The driver carries out the navigator’s instructions, but has the opportunity to make corrections or ask for clarification. This style is an effective antidote for the anti-pattern where the person typing often controls what is typed, placing the other person in a passive mode where they are merely watching what is happening. The driver and navigator regularly switch roles every 15 minutes or so.\n",
    "\n",
    "Source: https://www.codementor.io/pair-programming"
   ]
  },
  {
   "cell_type": "markdown",
   "metadata": {
    "slideshow": {
     "slide_type": "subslide"
    }
   },
   "source": [
    "### Unstructured Pairing\n",
    "\n",
    "This is the kind of pairing that generally happens when no particular approach is being followed. It is free-flowing, with turn-taking between driver and navigator occuring as, and when, it makes sense. This freedom from structure can help naturally well-matched pairs move even faster. However, pairs that have different styles may struggle with the lack of structure involved here.\n",
    "\n",
    "Source: https://www.codementor.io/pair-programming"
   ]
  },
  {
   "cell_type": "markdown",
   "metadata": {
    "slideshow": {
     "slide_type": "subslide"
    }
   },
   "source": [
    "## Perceived Problems\n",
    "\n",
    "  * cost-efficiency\n",
    "  * work time scheduling problems\n",
    "  * personality conflicts"
   ]
  },
  {
   "cell_type": "markdown",
   "metadata": {
    "slideshow": {
     "slide_type": "subslide"
    }
   },
   "source": [
    "## Most engineers seem to prefer a partner with\n",
    "\n",
    "  * complementary skills to their own\n",
    "  * who is flexible\n",
    "  * who has good communication skills"
   ]
  },
  {
   "cell_type": "markdown",
   "metadata": {
    "slideshow": {
     "slide_type": "slide"
    }
   },
   "source": [
    "## Your Turn!\n",
    "\n",
    "Pair up. Use the next 45 minutes to 1 hour to do three to four iterations in pair programming. That is, each iteration takes 15 minutes and each of you works as _driver_ and as _navigator_.\n",
    "\n",
    "Work on one of the open issues for your Hacker News Clone project. Make sure you follow the advice given above.\n",
    "\n",
    "**Reflection**:\n",
    "\n",
    "  * What went well in this session of pair programming?\n",
    "  * What was an issue?\n",
    "  * How can you implement pair programming in your project work?"
   ]
  },
  {
   "cell_type": "markdown",
   "metadata": {
    "slideshow": {
     "slide_type": "slide"
    }
   },
   "source": [
    "--------------------------------\n",
    "\n",
    "# Code Reviews\n",
    "\n"
   ]
  },
  {
   "cell_type": "markdown",
   "metadata": {
    "slideshow": {
     "slide_type": "subslide"
    }
   },
   "source": [
    "## What is it?\n",
    "\n",
    "  > Code review (sometimes referred to as peer review) is a software quality assurance activity in which one or several humans check a program mainly by viewing and reading parts of its source code, and they do so after implementation or as an interruption of implementation. At least one of the humans must not be the code's author. The humans performing the checking, excluding the author, are called \"reviewers\".\n",
    "  >\n",
    "  > https://en.wikipedia.org/wiki/Code_review"
   ]
  },
  {
   "cell_type": "markdown",
   "metadata": {
    "slideshow": {
     "slide_type": "fragment"
    }
   },
   "source": [
    "  >Peer review -an activity in which people other than the author of a software deliverable examine it for defects and improvement opportunities- is one of the most powerful software quality tools available. Peer review methods include inspections, walkthroughs, peer deskchecks, and other similar activities. After experiencing the benefits of peer reviews for nearly fifteen years, I would never work in a team that did not perform them.\n",
    "  >\n",
    "  > http://www.processimpact.com/articles/humanizing_reviews.pdf"
   ]
  },
  {
   "cell_type": "markdown",
   "metadata": {
    "slideshow": {
     "slide_type": "slide"
    }
   },
   "source": [
    "## Why to do it?\n",
    "\n",
    "  > ... software testing alone has limited effectiveness – the average defect detection rate is only 25 percent for unit testing, 35 percent for function testing, and 45 percent for integration testing. In contrast, the average effectiveness of design and code inspections are 55 and 60 percent. \n",
    "  > Steve McConnell, _Code Complete_"
   ]
  },
  {
   "cell_type": "markdown",
   "metadata": {
    "slideshow": {
     "slide_type": "subslide"
    }
   },
   "source": [
    "  > \" ... (1) makes people less protective about their code, (2) gives another person insight into the code, so there is (3) better sharing of information across the team, (4) helps support coding conventions on the team, and [...] (5) helps improving the overall process and quality of code.”\n",
    "  >\n",
    "  > https://www.microsoft.com/en-us/research/wp-content/uploads/2016/02/ICSE202013-codereview.pdf"
   ]
  },
  {
   "cell_type": "markdown",
   "metadata": {
    "slideshow": {
     "slide_type": "subslide"
    }
   },
   "source": [
    "![](images/cr_motivations.png)\n",
    "\n",
    "https://www.microsoft.com/en-us/research/wp-content/uploads/2016/02/ICSE202013-codereview.pdf"
   ]
  },
  {
   "cell_type": "markdown",
   "metadata": {
    "slideshow": {
     "slide_type": "slide"
    }
   },
   "source": [
    "## How to do it?\n",
    "\n",
    "\n",
    "While reviewing the code, ask yourself the following basic questions:\n",
    "\n",
    "  * Am I able to understand the code easily?\n",
    "  * Is the code written following the coding standards/guidelines?\n",
    "  * Is the same code duplicated more than twice?\n",
    "  * Can I unit test / debug the code easily to find the root cause?\n",
    "  * Is this function or class too big? If yes, is the function or class having too many responsibilities?\n",
    "\n",
    "\n",
    "Source: https://www.evoketechnologies.com/blog/code-review-checklist-perform-effective-code-reviews/\n"
   ]
  },
  {
   "cell_type": "markdown",
   "metadata": {
    "slideshow": {
     "slide_type": "subslide"
    }
   },
   "source": [
    "#### Everyone\n",
    "\n",
    "  * Accept that many programming decisions are opinions. Discuss tradeoffs, which you prefer, and reach a resolution quickly.\n",
    "  * Ask good questions; don't make demands. (\"What do you think about naming this :user_id?\")\n",
    "  * Good questions avoid judgment and avoid assumptions about the author's perspective.\n",
    "  * Ask for clarification. (\"I didn't understand. Can you clarify?\")\n",
    "  * Avoid selective ownership of code. (\"mine\", \"not mine\", \"yours\")\n",
    "  * Avoid using terms that could be seen as referring to personal traits. (\"dumb\", \"stupid\").   * Assume everyone is intelligent and well-meaning.\n",
    "  * Be explicit. Remember people don't always understand your intentions online.\n",
    "  * Be humble. (\"I'm not sure - let's look it up.\")\n",
    "  * Don't use hyperbole. (\"always\", \"never\", \"endlessly\", \"nothing\")\n",
    "  * Don't use sarcasm.\n",
    "  * Keep it real. If emoji, animated gifs, or humor aren't you, don't force them. If they are,   use them with aplomb.\n",
    "  * Talk synchronously (e.g. chat, screensharing, in person) if there are too many \"I didn't understand\" or \"Alternative solution:\" comments. Post a follow-up comment summarizing the discussion.\n",
    "\n",
    "Source: https://github.com/thoughtbot/guides/tree/master/code-review There are more recommendations for reviewers and reviewees."
   ]
  },
  {
   "cell_type": "markdown",
   "metadata": {
    "slideshow": {
     "slide_type": "subslide"
    }
   },
   "source": [
    "  > **What do you look for when you’re reviewing someone else’s code?**\n",
    "  > * Formatting\n",
    "  > * Style\n",
    "  > * Naming\n",
    "  > * Test coverage\n",
    "  >\n",
    "  > https://blog.jetbrains.com/upsource/2015/07/23/what-to-look-for-in-a-code-review/"
   ]
  },
  {
   "cell_type": "markdown",
   "metadata": {
    "slideshow": {
     "slide_type": "fragment"
    }
   },
   "source": [
    "  > However, having humans looking for these is probably not the best use of time and resources in your organisation, as many of these checks can be automated."
   ]
  },
  {
   "cell_type": "markdown",
   "metadata": {
    "slideshow": {
     "slide_type": "subslide"
    }
   },
   "source": [
    "### What should you look for?\n",
    "\n",
    "#### Design\n",
    "\n",
    "  * How does the new code fit with the overall architecture?\n",
    "  * Does the code follow SOLID principles, Domain Driven Design and/or other design paradigms the team favours?\n",
    "  * If the codebase has a mix of standards or design styles, does this new code follow the current practices? \n",
    "  * Is the code migrating in the correct direction?\n",
    "  * Is the code in the right place?\n",
    "  * Does the new code introduce duplication?\n",
    "  * Is the code over-engineered?\n",
    "\n",
    "#### Readability & Maintainability\n",
    "\n",
    "  * Do the names actually reflect the thing they represent?\n",
    "  * Can I understand what the code does by reading it?\n",
    "  * Can I understand what the tests do?\n",
    "  * Do the tests cover a good subset of cases?\n",
    "  * Are the exception error messages understandable?\n",
    "  * Are confusing sections of code either documented, commented, or covered by understandable tests?\n",
    "\n",
    "#### Functionality\n",
    "\n",
    "  * Does the code actually do what it was supposed to do?\n",
    "  * Does the code look like it contains subtle bugs, like using the wrong variable for a check, or accidentally using an and instead of an or?\n",
    "\n",
    "#### Have you thought about…?\n",
    "\n",
    "  * Are there potential security problems with the code?\n",
    "  * Are there regulatory requirements that need to be met?\n",
    "   For areas that are not covered with automated performance tests, does the new code introduce avoidable performance issues, like unnecessary calls to a database or remote service?\n",
    "  * Does the author need to create public documentation, or change existing help files?\n",
    "  * Have user-facing messages been checked for correctness?\n",
    "  * Are there obvious errors that will stop this working in production?\n",
    "  \n",
    "Source: https://blog.jetbrains.com/upsource/2015/07/23/what-to-look-for-in-a-code-review/"
   ]
  },
  {
   "cell_type": "markdown",
   "metadata": {
    "slideshow": {
     "slide_type": "subslide"
    }
   },
   "source": [
    "Additional resources for checklists:\n",
    "\n",
    "  * https://blog.jetbrains.com/upsource/2015/07/23/what-to-look-for-in-a-code-review/\n",
    "  * https://blog.jetbrains.com/upsource/2017/01/18/code-review-as-a-gateway/\n",
    "  * https://smartbear.com/learn/code-review/guide-to-code-review-process/\n",
    "  * https://smartbear.com/learn/code-review/best-practices-for-peer-code-review/    \n",
    "  * https://medium.com/@andreigridnev/examples-of-code-review-checklists-and-guides-2dfed082a86d"
   ]
  },
  {
   "cell_type": "markdown",
   "metadata": {
    "slideshow": {
     "slide_type": "slide"
    }
   },
   "source": [
    "## Your turn!\n",
    "\n",
    "You are all working on Github with your Hacker News Clone projects.\n",
    "\n",
    "Read the following guide on how Gihtub recommends collaboration via pull requests, reviews and discussions:\n",
    "https://guides.github.com/introduction/flow/. Addtionally, see a feature overview og Github's code review building blocks here: https://github.com/features/code-review/\n",
    "\n",
    "Try to do a code review on the code that was produced by other group members in the previous exercise following the checklists above.\n",
    "\n",
    "In case you do not have coding standards setup/decided in your project decide on some now."
   ]
  },
  {
   "cell_type": "markdown",
   "metadata": {
    "slideshow": {
     "slide_type": "slide"
    }
   },
   "source": [
    "# At home\n",
    "\n",
    "\n",
    "Consider Praqma's blog entry in which they critizise the pull-request driven work style and suggest their flavor of the Git Flow https://www.praqma.com/stories/git-phlow/ for which they even provide a tool https://github.com/Praqma/git-phlow that was written by one former student.\n",
    "\n",
    "Discuss in your group if that is actually suitable for your project."
   ]
  }
 ],
 "metadata": {
  "celltoolbar": "Slideshow",
  "kernelspec": {
   "display_name": "Python 3",
   "language": "python",
   "name": "python3"
  },
  "language_info": {
   "codemirror_mode": {
    "name": "ipython",
    "version": 3
   },
   "file_extension": ".py",
   "mimetype": "text/x-python",
   "name": "python",
   "nbconvert_exporter": "python",
   "pygments_lexer": "ipython3",
   "version": "3.6.4"
  }
 },
 "nbformat": 4,
 "nbformat_minor": 2
}
