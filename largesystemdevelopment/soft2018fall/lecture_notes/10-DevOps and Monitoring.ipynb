{
 "cells": [
  {
   "cell_type": "markdown",
   "metadata": {
    "slideshow": {
     "slide_type": "slide"
    }
   },
   "source": [
    "# The state of your projects?\n",
    "\n",
    "  * See http://46.101.225.71/chart.svg\n",
    "  * and http://46.101.225.71/error_chart.svg"
   ]
  },
  {
   "cell_type": "code",
   "execution_count": 4,
   "metadata": {
    "slideshow": {
     "slide_type": "subslide"
    }
   },
   "outputs": [
    {
     "data": {
      "text/html": [
       "\n",
       "        <iframe\n",
       "            width=\"100%\"\n",
       "            height=\"500\"\n",
       "            src=\"http://46.101.225.71/chart.svg\"\n",
       "            frameborder=\"0\"\n",
       "            allowfullscreen\n",
       "        ></iframe>\n",
       "        "
      ],
      "text/plain": [
       "<IPython.lib.display.IFrame at 0x103555240>"
      ]
     },
     "execution_count": 4,
     "metadata": {},
     "output_type": "execute_result"
    }
   ],
   "source": [
    "from IPython.display import IFrame\n",
    "\n",
    "url = 'http://46.101.225.71/chart.svg'\n",
    "IFrame(url, width='100%', height=500) "
   ]
  },
  {
   "cell_type": "code",
   "execution_count": 5,
   "metadata": {
    "slideshow": {
     "slide_type": "subslide"
    }
   },
   "outputs": [
    {
     "data": {
      "text/html": [
       "\n",
       "        <iframe\n",
       "            width=\"100%\"\n",
       "            height=\"500\"\n",
       "            src=\"http://46.101.225.71/error_chart.svg\"\n",
       "            frameborder=\"0\"\n",
       "            allowfullscreen\n",
       "        ></iframe>\n",
       "        "
      ],
      "text/plain": [
       "<IPython.lib.display.IFrame at 0x1035553c8>"
      ]
     },
     "execution_count": 5,
     "metadata": {},
     "output_type": "execute_result"
    }
   ],
   "source": [
    "from IPython.display import IFrame\n",
    "\n",
    "url = 'http://46.101.225.71/error_chart.svg'\n",
    "IFrame(url, width='100%', height=500) "
   ]
  },
  {
   "cell_type": "markdown",
   "metadata": {
    "slideshow": {
     "slide_type": "slide"
    }
   },
   "source": [
    "# DevOps\n",
    "\n",
    "## This is how many big organizations develop(ed) software\n",
    "\n",
    "![](https://upload.wikimedia.org/wikipedia/commons/1/19/Development-iterative.png)"
   ]
  },
  {
   "cell_type": "markdown",
   "metadata": {
    "slideshow": {
     "slide_type": "subslide"
    }
   },
   "source": [
    "### What happens after deployment?\n",
    "\n",
    "\n",
    "  * What happens after deployment?\n",
    "  * What happens if you need to upgrade the system? \n",
    "  * What happens when your system goes down?\n",
    "  * What happens when your system is flooded by traffic?"
   ]
  },
  {
   "cell_type": "markdown",
   "metadata": {
    "slideshow": {
     "slide_type": "subslide"
    }
   },
   "source": [
    "### After Deployment Background\n",
    "\n",
    "  > M2. Maintenance typically consumes about 40 to 80 percent (60 percent average) of software costs. Therefore, it is probably the most important life cycle phase.\n",
    "  > \n",
    "  > ...\n",
    "  > \n",
    "  > M5. Most software development tasks and software maintenance tasks are the same—except for the additional maintenance task of \"understanding the existing product.\"\" This task is the dominant maintenance activity, consuming roughly 30 percent of maintenance time. So, you could claim that maintenance is more difficult than development.\n",
    "  >\n",
    "  > Robert L. Glass _\"Frequently Forgotten Fundamental Facts about Software Engineering\"_ http://www.eng.auburn.edu/~kchang/comp6710/readings/Forgotten_Fundamentals_IEEE_Software_May_2001.pdf"
   ]
  },
  {
   "cell_type": "markdown",
   "metadata": {
    "slideshow": {
     "slide_type": "fragment"
    }
   },
   "source": [
    "The Danish TAX authorities (SKAT) have operational systems from back in the 1960ies.\n",
    "https://www.version2.dk/artikel/milliarddyr-udskiftning-skat-har-foraeldede-it-systemer-1960erne-1086062/\n",
    "\n",
    "That is, if we say such a system was built within 5 years back then. Then operations and maintenance time accounted for more then 10 times (>91%) of the projects lifetime."
   ]
  },
  {
   "cell_type": "markdown",
   "metadata": {
    "slideshow": {
     "slide_type": "subslide"
    }
   },
   "source": [
    "## DevOps, what is it?\n",
    "\n",
    "  > Think of developers being able to do some of the tasks that are normally assigned to system administrators, such as creating new servers, making updates to production sites, deploying apps. Also think of sysadmins sharing some duties with developers, and being able to manage multiple servers at once.\n",
    "  >\n",
    "  > See https://www.sitepoint.com/devops-by-example-tools-pros-and-cons-of-a-devops-culture/\n"
   ]
  },
  {
   "cell_type": "markdown",
   "metadata": {
    "slideshow": {
     "slide_type": "subslide"
    }
   },
   "source": [
    "<img src=\"https://upload.wikimedia.org/wikipedia/commons/b/b5/Devops.svg\" width=\"50%\"/>"
   ]
  },
  {
   "cell_type": "markdown",
   "metadata": {
    "slideshow": {
     "slide_type": "subslide"
    }
   },
   "source": [
    "### Main ideas of DevOps\n",
    "\n",
    "  * Automation \n",
    "  * Monitoring\n",
    "  * Development in \"Production Environment\""
   ]
  },
  {
   "cell_type": "markdown",
   "metadata": {
    "slideshow": {
     "slide_type": "fragment"
    }
   },
   "source": [
    "<img src=\"https://upload.wikimedia.org/wikipedia/commons/0/05/Devops-toolchain.svg\" width=\"50%\"/>"
   ]
  },
  {
   "cell_type": "markdown",
   "metadata": {
    "slideshow": {
     "slide_type": "subslide"
    }
   },
   "source": [
    "## Benefits\n",
    "\n",
    "\n",
    "  * Accelerated Time to Market\n",
    "  * Building the Right Product\n",
    "  * Improved Productivity and Efficiency\n",
    "     - For example, developers used to spend 20% of their time setting up and fixing their test environments. Now, the CD pipeline automatically sets up the environments. \n",
    "     - testers used to spend considerable effort setting up their test environments. Now, they don’t need to do this, either.\n",
    "     - Operations engineers used to take a few days’ effort to release an application to production. Now, they only need to click a button; the pipeline automatically releases the application to production.\n",
    "  * More Reliable Releases\n",
    "  * Improved Product Quality\n",
    "     - Some companies report, that the number of open bugs for the applications has decreased by more than 90%\n",
    "  * Improved Customer Satisfaction\n",
    "  \n",
    "See https://www.researchgate.net/profile/Lianping_Chen/publication/271635510_Continuous_Delivery_Huge_Benefits_but_Challenges_Too/links/551d850a0cf2a2d9e13aec8f/Continuous-Delivery-Huge-Benefits-but-Challenges-Too.pdf\n",
    "\n",
    "\n"
   ]
  },
  {
   "cell_type": "markdown",
   "metadata": {
    "slideshow": {
     "slide_type": "subslide"
    }
   },
   "source": [
    "## Challenges\n",
    "\n",
    "  * Organizational Challenges\n",
    "  * Process Challenges\n",
    "  * Technical Challenges"
   ]
  },
  {
   "cell_type": "markdown",
   "metadata": {
    "slideshow": {
     "slide_type": "slide"
    }
   },
   "source": [
    "# Service Level Agreements (SLA's)\n",
    "\n",
    "\n",
    "  > A service-level agreement (SLA) is a commitment between a service provider and a client. Particular aspects of the service – quality, availability, responsibilities – are agreed between the service provider and the service user. The most common component of SLA is that the services should be provided to the customer as agreed upon in the contract.\n",
    "  >\n",
    "  > See https://en.wikipedia.org/wiki/Service-level_agreement"
   ]
  },
  {
   "cell_type": "markdown",
   "metadata": {
    "slideshow": {
     "slide_type": "subslide"
    }
   },
   "source": [
    "## Common metrics\n",
    "\n",
    "  * Uptime/availability (usually percentage of all time)\n",
    "  * Mean response time (average  time to serve answer)\n",
    "  * Mean time to recover ( time to recover after outage) \n",
    "  * Failure frequency (number of failures/ timeouts over time)\n",
    "\n",
    "See https://en.wikipedia.org/wiki/Service-level_agreement#Common_metrics and http://rbsla.ruleml.org/docs/GI-Proceedings-80-2.pdf"
   ]
  },
  {
   "cell_type": "markdown",
   "metadata": {
    "slideshow": {
     "slide_type": "slide"
    }
   },
   "source": [
    "# Monitoring\n",
    "\n",
    "## Passive Monitoring\n",
    "\n",
    "Detecting problems after they occur \n",
    "Example: Dashboards\n",
    "\n",
    "## Active Monitoring\n",
    "\n",
    "Detects problem while they occur\n",
    "Example: Alarms\n",
    "\n",
    "See https://wiki.dotcom-monitor.com/white-papers/active-vs-passive-web-performance-monitoring/"
   ]
  },
  {
   "cell_type": "markdown",
   "metadata": {
    "slideshow": {
     "slide_type": "subslide"
    }
   },
   "source": [
    "# Monitoring in Practice\n",
    "\n",
    "## Prometheus\n",
    "\n",
    "  * Basically a time series key-value storage \n",
    "  * Supports both, pulling and pushing data\n",
    "    - We will only use data pull\n",
    "  * Targets (for pulling) via service discovery or config\n",
    "    - [client libraries](https://prometheus.io/docs/instrumenting/clientlibs/) for instrumenting application code"
   ]
  },
  {
   "cell_type": "markdown",
   "metadata": {
    "slideshow": {
     "slide_type": "subslide"
    }
   },
   "source": [
    "![](https://prometheus.io/assets/architecture.png)"
   ]
  },
  {
   "cell_type": "markdown",
   "metadata": {
    "slideshow": {
     "slide_type": "subslide"
    }
   },
   "source": [
    "Client Libraries:\n",
    "\n",
    "  * Go\n",
    "  * Java or Scala\n",
    "  * Python\n",
    "  * Ruby\n",
    "\n",
    "Unofficial third-party client libraries:\n",
    "\n",
    "  * Bash\n",
    "  * C++\n",
    "  * Common Lisp\n",
    "  * Elixir\n",
    "  * Erlang\n",
    "  * Haskell\n",
    "  * Lua\n",
    "  * .NET / C#\n",
    "  * Node.js\n",
    "  * Perl\n",
    "  * PHP\n",
    "  * Rust\n",
    "\n",
    "\n",
    "See, https://prometheus.io/docs/introduction/overview/"
   ]
  },
  {
   "cell_type": "markdown",
   "metadata": {
    "slideshow": {
     "slide_type": "subslide"
    }
   },
   "source": [
    "## Grafana Dashboards\n",
    "\n",
    "  * Just because you can include everything does not mean you should!\n",
    "    - Keep them organized\n",
    "    - Try to \"tell a story\", i.e., you will likely have different dashboards for you and the operators\n",
    "    - Se more here: https://www.metricly.com/devops-dashboard-best-practices/\n",
    "  * See https://grafana.com/dashboards"
   ]
  },
  {
   "cell_type": "markdown",
   "metadata": {
    "slideshow": {
     "slide_type": "subslide"
    }
   },
   "source": [
    "Grafana dashboards support alerts. For active monitoring, you might want to setup some alarms and get notified when something goes wrong.\n",
    "You can get alerts either on the dashboard or -likely more suitable- via other channels such as: Mail, PagerDuty, Slack, Telegram"
   ]
  },
  {
   "cell_type": "markdown",
   "metadata": {
    "slideshow": {
     "slide_type": "subslide"
    }
   },
   "source": [
    "### Configuring the Dashboard\n",
    "\n",
    "To configure the dashboard you have to use queries in PromQL, see more here: https://prometheus.io/docs/prometheus/latest/querying/basics/\n",
    "\n",
    "  * Grafana can connect to mul ple backends\n",
    "  * When querying Prometheus you need to use the PromQL syntax\n",
    "    - `http_requests_total`\n",
    "    - `http_requests_total{group=\"production\",instance=\"localhost:8080\",job=\"example-my-app\"}`\n",
    "    - `rate(http_requests_total[5m])`\n",
    "    - `sum(rate(http_requests_total[5m])) by (job)`\n"
   ]
  },
  {
   "cell_type": "markdown",
   "metadata": {},
   "source": [
    "# Your Turn - Scenario\n",
    "\n",
    "\n",
    "![](images/your_turn.gif)\n",
    "\n",
    "Reproduce the following scenario to get a first feeling for how to work with Prometheus and Grafana.\n",
    "\n",
    "This scenario is described on a Linux machine. It will likely not work with a Native Docker installation on Windows and OS X. You can find the entire source code for this scenario on Github https://github.com/datsoftlyngby/soft2018fall-lsd-teaching-material/tree/master/lecture_notes/10-DevOps_Monitoring\n",
    "\n",
    "\n",
    "## Starting a web-application \n",
    "\n",
    "This web-application does nothing more that displaying a welcome page on the root endpoint, i.e. `http://<your_host>:8080/`. However, it serves a set of Prometheus metrics on the `http://<your_host>:8080/metrics`\n",
    "    \n",
    "Run the web-application:\n",
    "~~~bash\n",
    "$ docker run --rm --name appserver --net=\"host\" -p 8080:8080 -d helgecph/promserver\n",
    "~~~\n",
    "\n",
    "While starting the webservice inspect the code of the web-application. In particular have a look at how the metrics are logged via the Prometheus client library.\n",
    "\n",
    "Navigate to https://prometheus.io/docs/instrumenting/clientlibs/ to find a suitable client library for your project.\n",
    "\n",
    "Observe that the server application is really running. Navigate to `http://<your_host>:8080`. You should see a page saying:\n",
    "  \n",
    "  > **Welcome**\n",
    "  > \n",
    "  > To this server.\n",
    "\n",
    "## Starting a Client, \n",
    "\n",
    "The client program simulates user interactions on the server by sending one request per second to get the main page.\n",
    "\n",
    "~~~bash\n",
    "$ docker run --rm --name appclient --net=\"host\" -it helgecph/promclient\n",
    "~~~\n",
    "\n",
    "Now, navigate your browser to `http://<your_host>:8080/metrics` and refresh from time to time to see the metrics changing\n",
    "\n",
    "\n",
    "\n",
    "## Starting Prometheus to Collect Metrics\n",
    "\n",
    "Now, we let Prometheus collect our applications metrics:\n",
    "\n",
    "~~~bash\n",
    "$ docker run --name prometheus --net=\"host\" -v `pwd`/prometheus.yml:/etc/prometheus/prometheus.yml -p 9090:9090 -d prom/prometheus\n",
    "~~~\n",
    "\n",
    "Navigate your browser to `http://<your_host>:9090/graph?g0.range_input=1h&g0.expr=cpu_load_percent&g0.tab=0&g1.range_input=1h&g1.expr=http_responses_total&g1.tab=0&g2.range_input=1h&g2.expr=request_duration_milliseconds_bucket&g2.tab=0` to see your metrics through Prometheus inbuilt dashboard.\n",
    "\n",
    "\n",
    "## Starting Grafana and Instantiating a Dashboard\n",
    "\n",
    "Finally, to get visually more appealing metrics and to configure alarms, we start up Grafana\n",
    "\n",
    "~~~bash\n",
    "$ docker run --net=\"host\" --name grafana -p 3000:3000 -d grafana/grafana:4.5.2\n",
    "~~~\n",
    "\n",
    "\n",
    "Navigate your browser to `http://<your_host>:3000` and login with the default credentials `admin`/`admin`. Remember later to change the password for your projects!\n",
    "\n",
    "Now do the following:\n",
    "\n",
    "  * `Add data source`\n",
    "  * Set the `Name` to `My App`\n",
    "  * Under `Config` choose the `Type` `Prometheus`\n",
    "  * Under `Http settings` set the `Url` to `http://<your_host>:9090` \n",
    "  * Finally, click `Add`\n",
    "\n",
    "Now, `Create your first dashboard`, add a `Graph` click on the `Panel Title` and choose `Edit`.\n",
    "Set `Data Source` to `My App` and add the PromQL query  `http_responses_total{group=\"production\",instance=\"localhost:8080\",job=\"example-my-app\"}` to the field below.\n",
    "\n",
    "Now, play and customize the dashboard a bit to your liking and add some other metrics.\n",
    "\n",
    "\n",
    "### Installing new Panels\n",
    "\n",
    "In case you need another panel type for example a gauge for the CPU load and in case you are running Grafana via Docker follow the steps below.\n",
    "\n",
    "  * Navigate to https://grafana.com/plugins?type=panel\n",
    "  * Choose a panel of your liking, e.g., https://grafana.com/plugins/briangann-gauge-panel/installation\n",
    "  * Copy the installation command, which has to be run on the Grafana server (machine)\n",
    "\n",
    "~~~bash\n",
    "vagrant@vagrant:~$ docker exec -it lsd_monitoring_grafana_1 /bin/bash\n",
    "root@vagrant:/# grafana-cli plugins install briangann-gauge-panel\n",
    "installing briangann-gauge-panel @ 0.0.6\n",
    "from url: https://grafana.com/api/plugins/briangann-gauge-panel/versions/0.0.6/download\n",
    "into: /var/lib/grafana/plugins\n",
    "\n",
    "✔ Installed briangann-gauge-panel successfully\n",
    "\n",
    "Restart grafana after installing plugins . <service grafana-server restart>\n",
    "\n",
    "root@vagrant:/# exit\n",
    "exit\n",
    "vagrant@vagrant:~$ docker restart lsd_monitoring_grafana_1\n",
    "~~~"
   ]
  },
  {
   "cell_type": "markdown",
   "metadata": {
    "slideshow": {
     "slide_type": "slide"
    }
   },
   "source": [
    "# Your Turn at Home\n",
    "\n",
    "## Next hand-in: Monitoring\n",
    "\n",
    "Until next week:\n",
    "\n",
    "  * Make an SLA with the group operating your system\n",
    "    - This can be as sophisticated as you want it to be\n",
    "    - However, it must include:\n",
    "      * an uptime requirement\n",
    "      * a requirement on \"lost\" posts from the simulator (customers)\n",
    "      * a requirement on serving speed of the landing page    \n",
    "  * Setup Grafana and Prometheus\n",
    "    - Install Grafana and Prometheus on a globally accessible server\n",
    "    - Alter your services to expose Prometheus metrics\n",
    "    - Configure Prometheus to monitor your services. All of them!\n",
    "  * Setup a dashboard that displays:\n",
    "    - The metrics necessary to uphold the SLA\n",
    "    - A text element (on the dashboard itself) linking to or including the SLA\n",
    "  * Optionally, setup and configure alarms for you and your team\n",
    "\n",
    "## Hand-in:\n",
    "\n",
    "A link to your Grafana dashboard with your metrics and the SLA"
   ]
  }
 ],
 "metadata": {
  "celltoolbar": "Slideshow",
  "kernelspec": {
   "display_name": "Python 3",
   "language": "python",
   "name": "python3"
  },
  "language_info": {
   "codemirror_mode": {
    "name": "ipython",
    "version": 3
   },
   "file_extension": ".py",
   "mimetype": "text/x-python",
   "name": "python",
   "nbconvert_exporter": "python",
   "pygments_lexer": "ipython3",
   "version": "3.6.4"
  }
 },
 "nbformat": 4,
 "nbformat_minor": 2
}
