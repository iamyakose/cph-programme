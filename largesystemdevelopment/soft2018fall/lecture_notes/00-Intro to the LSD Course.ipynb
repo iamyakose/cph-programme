{
 "cells": [
  {
   "cell_type": "markdown",
   "metadata": {},
   "source": [
    "# Welcome...\n",
    "\n",
    "![back_to_school](images/welcome_back.jpeg)"
   ]
  },
  {
   "cell_type": "markdown",
   "metadata": {},
   "source": [
    "# Organisational Notes\n",
    "\n",
    "You will run through that course in groups. All project groups have ca. five members. These groups realize the projects together.\n",
    "\n",
    "\n",
    "## Assignments\n",
    "\n",
    "See, the master document on https://datsoftlyngby.github.io/soft2018fall/LSD_plan.html\n",
    "\n",
    "\n",
    "## Exam\n",
    "\n",
    "Examination form: \n",
    "  * Oral group exam. \n",
    "  * The students have in their groups certain roles like product owner, architect, lead developer, devops engineer, quality assurance/testing lead, etc.\n",
    "  * The groups develop their projects with the help of an issues tracker. These issues together with the linked solutions (commits) form their development diary. \n",
    "  * In the end of the class each group hands-in a project report, in which they reflect on important issues, their solutions and corresponding problems out of perspective of the respective roles.\n",
    "  * The exam will last in total 10 minutes per student but at least 30 minutes. That is, a five-person group has a 50 minutes exam, a two person group has a 30 minutes exam.\n",
    "\n",
    "The exam thus starts from this project report. There will not be predefined questions to draw. But the following questions are of course related to the curriculum.\n",
    "\n",
    "The project and all its corresponding artefacts in Github repositories form the **basis for grading** (eksamensgrundlag).\n",
    "\n",
    "\n",
    "## Course Material\n",
    "\n",
    "  * You will find all the notebooks (the presentation you are looking at) and other code examples with corresponding data under the following GitHub repository:\n",
    "https://github.com/datsoftlyngby/soft2018fall-lsd-teaching-material\n",
    "For cloning use:\n",
    "`git@github.com:datsoftlyngby/soft2018fall-lsd-teaching-material.git`\n",
    "\n",
    "\n",
    "## Literature\n",
    "\n",
    "You should not really need any other literature besides all the information given in the notebooks in the `lecture_notes` directory.\n",
    "\n",
    "  * We will use some excertps from _\"Object-Oriented Software Engineering Using UML, Patterns, and Java\"_ Third Edition, Bernd Bruegge & Allen H. Dutoit, which we will provide you.\n",
    "  * You might want to have a look at for some _\"UML Distilled: A Brief Guide to the Standard Object Modeling Language\"_ by Martin Fowler.\n",
    "  * Some chapters from: _\"Pro Git\"_, 2nd Edition, Scott Chacon & Ben Straub, which you can read online: https://git-scm.com/book/en/v2\n",
    "  * Some resource on Docker, for example, _\"Docker for Java Developers\"_, Arun Gupta, which you can get for free from http://www.oreilly.com/programming/free/docker-for-java-developers.csp"
   ]
  },
  {
   "cell_type": "markdown",
   "metadata": {},
   "source": [
    "# Schedule\n",
    "\n",
    "  * Course in three blocks\n",
    "    - Technical fundamentals block\n",
    "    - Disciplined development methods block\n",
    "    - Large systems in perspective block\n",
    "  * See the plan at https://datsoftlyngby.github.io/soft2018fall/LSD_plan.html\n",
    "  * Monday mornings (8.30 to 12.00) lecture\n",
    "  * Monday afternoons (12.30 to 14:00) workshop\n",
    "  * Lokale 2.03\n",
    "  \n",
    "The course is taught by Anders (`aka`) and Helge (`rhp`), as indicated in the plan linked above."
   ]
  },
  {
   "cell_type": "markdown",
   "metadata": {},
   "source": [
    "# Groups\n",
    "\n",
    "  * Each group should have _five_ members.\n",
    "  * We will form them **now!**\n",
    "  \n",
    "![](https://i.gifer.com/RFm.gif)\n",
    "  "
   ]
  },
  {
   "cell_type": "markdown",
   "metadata": {},
   "source": [
    "# Getting Discounts\n",
    "\n",
    "Check the Github student developers pack, https://education.github.com/pack.\n",
    "\n",
    "You can get credits for some of the platforms we are going to use."
   ]
  }
 ],
 "metadata": {
  "kernelspec": {
   "display_name": "Python 3",
   "language": "python",
   "name": "python3"
  },
  "language_info": {
   "codemirror_mode": {
    "name": "ipython",
    "version": 3
   },
   "file_extension": ".py",
   "mimetype": "text/x-python",
   "name": "python",
   "nbconvert_exporter": "python",
   "pygments_lexer": "ipython3",
   "version": "3.6.4"
  }
 },
 "nbformat": 4,
 "nbformat_minor": 2
}
