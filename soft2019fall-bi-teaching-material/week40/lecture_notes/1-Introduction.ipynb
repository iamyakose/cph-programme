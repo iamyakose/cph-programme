{
 "cells": [
  {
   "cell_type": "markdown",
   "metadata": {
    "slideshow": {
     "slide_type": "slide"
    }
   },
   "source": [
    "## Reading the 100 page ML book\n",
    "\n",
    "1. Don't give up ...\n",
    "2. Realize that it takes time. \n",
    "3. Therefore: take the time!\n",
    "4. Ask questions when you don't understand\n",
    "  * Suggestion: make a list of questions\n",
    "5. don't give up: you will only read a few excerpts of chapters."
   ]
  },
  {
   "cell_type": "markdown",
   "metadata": {
    "slideshow": {
     "slide_type": "slide"
    }
   },
   "source": [
    "# Machine learning wheel"
   ]
  },
  {
   "cell_type": "markdown",
   "metadata": {
    "slideshow": {
     "slide_type": "subslide"
    }
   },
   "source": [
    "<img src = \"images/MLWheel.png\" style=\"width:50%\">"
   ]
  },
  {
   "cell_type": "code",
   "execution_count": null,
   "metadata": {
    "slideshow": {
     "slide_type": "skip"
    }
   },
   "outputs": [],
   "source": [
    "import numpy as np\n",
    "import matplotlib.pyplot as plt\n",
    "%matplotlib inline"
   ]
  },
  {
   "cell_type": "markdown",
   "metadata": {
    "slideshow": {
     "slide_type": "slide"
    }
   },
   "source": [
    "## Machine learning vs. AI vs. statistics\n",
    "\n",
    "![](https://www.explainxkcd.com/wiki/images/d/d3/machine_learning.png)"
   ]
  },
  {
   "cell_type": "markdown",
   "metadata": {
    "slideshow": {
     "slide_type": "subslide"
    }
   },
   "source": [
    "## Intelligence\n",
    "\n",
    "Definition: **Adaptation in the face of change** (Steven Pinker)\n",
    "\n",
    "* We want things that adapts to our problems, and that can **predict the future**"
   ]
  },
  {
   "cell_type": "markdown",
   "metadata": {
    "slideshow": {
     "slide_type": "subslide"
    }
   },
   "source": [
    "## Statistics\n",
    "\n",
    "* A very handy discipline to predict the future\n",
    "* **Models** the real world into mathematical objects (lines, curves, etc.)\n",
    "* Deals in likelihoods (80% chance of living beyond 60 years of age, etc.) and large populations (requires lots of data)\n",
    "* We will use this extensively"
   ]
  },
  {
   "cell_type": "markdown",
   "metadata": {
    "slideshow": {
     "slide_type": "subslide"
    }
   },
   "source": [
    "## Machine learning (ML)\n",
    "\n",
    "Definition: **Systems that continually improve**\n",
    "\n",
    "* Why not just statistics?\n",
    "  * Because statistical models are ideal\n",
    "  \n",
    "* Machine learning models are **highly** parameterised\n",
    "  * $10^{6}$ knobs"
   ]
  },
  {
   "cell_type": "markdown",
   "metadata": {
    "slideshow": {
     "slide_type": "subslide"
    }
   },
   "source": [
    "## Artificial intelligence (AI)\n",
    "\n",
    "* ... It sounds cool"
   ]
  },
  {
   "cell_type": "markdown",
   "metadata": {
    "slideshow": {
     "slide_type": "fragment"
    }
   },
   "source": [
    "* Seriously, AI can be defined as **intelligent agents**\n",
    "  * *Agents that adapts in the face of change*"
   ]
  },
  {
   "cell_type": "markdown",
   "metadata": {
    "slideshow": {
     "slide_type": "fragment"
    }
   },
   "source": [
    "* Disappoingly, AI is still very stupid\n",
    "  * But we will work with models that adapt to data, gaining power of prediction and generalization (contrary to statistics)"
   ]
  },
  {
   "cell_type": "markdown",
   "metadata": {
    "slideshow": {
     "slide_type": "fragment"
    }
   },
   "source": [
    "Google's Deep Mind AI, example of learning: https://www.youtube.com/watch?v=gn4nRCC9TwQ"
   ]
  },
  {
   "cell_type": "markdown",
   "metadata": {
    "slideshow": {
     "slide_type": "subslide"
    }
   },
   "source": [
    "## Using math\n",
    "\n",
    "* No AI without ML, no ML without statistics, no statistics without math"
   ]
  },
  {
   "cell_type": "markdown",
   "metadata": {
    "slideshow": {
     "slide_type": "fragment"
    }
   },
   "source": [
    "* Yep that's right. If you want to be good at AI, you **have** to understand the math!\n",
    "  * Luckily, because AI is fun, likewise math can be fun"
   ]
  },
  {
   "cell_type": "markdown",
   "metadata": {
    "slideshow": {
     "slide_type": "fragment"
    }
   },
   "source": [
    "* Math is many things\n",
    "  * Basic algebra\n",
    "  * Linear algebra\n",
    "  * Probabilities\n",
    "  * Calculus"
   ]
  },
  {
   "cell_type": "markdown",
   "metadata": {
    "slideshow": {
     "slide_type": "slide"
    }
   },
   "source": [
    "# Math foundations\n",
    "\n",
    "* Understanding \"mathy\" notation\n",
    "* Working with simple linear algebra\n",
    "* Basic probability tools\n",
    "* Reading the 100 page ML book!"
   ]
  },
  {
   "cell_type": "markdown",
   "metadata": {
    "slideshow": {
     "slide_type": "subslide"
    }
   },
   "source": [
    "## Understanding mathy notation\n",
    "\n",
    "* Math is essentially code. You can convert everything in math into Python"
   ]
  },
  {
   "cell_type": "markdown",
   "metadata": {
    "slideshow": {
     "slide_type": "subslide"
    }
   },
   "source": [
    "Math: $w = 1$\n",
    "\n",
    "Python: \n",
    "```python\n",
    "w = 1\n",
    "```"
   ]
  },
  {
   "cell_type": "markdown",
   "metadata": {
    "slideshow": {
     "slide_type": "subslide"
    }
   },
   "source": [
    "Math: f(x) = x\n",
    "\n",
    "Python:\n",
    "```python\n",
    "def f(x):\n",
    "    return x\n",
    "\n",
    "f = lamba x: x\n",
    "```"
   ]
  },
  {
   "cell_type": "markdown",
   "metadata": {
    "slideshow": {
     "slide_type": "subslide"
    }
   },
   "source": [
    "Math: $m = \\begin{bmatrix} -2 \\\\ 0 \\\\ 1 \\end{bmatrix}$\n",
    "\n",
    "Python:\n",
    "```python\n",
    "m = np.array([-2, 0, 1])\n",
    "```"
   ]
  },
  {
   "cell_type": "markdown",
   "metadata": {
    "slideshow": {
     "slide_type": "subslide"
    }
   },
   "source": [
    "Math: $v = \\begin{bmatrix} -2 & 0 & 1 \\\\ 5 & -4 & 2 \\\\ 7 & -1 & 3\\end{bmatrix}$\n",
    "\n",
    "Python:\n",
    "```python\n",
    "v = np.array([[-2, 0, 1], [5, -4, 2], [7, -1, 3]])\n",
    "```\n",
    "\n",
    "So; to be consistent...."
   ]
  },
  {
   "cell_type": "markdown",
   "metadata": {
    "slideshow": {
     "slide_type": "subslide"
    }
   },
   "source": [
    "## Your turn\n",
    "\n",
    "* Create a new Jupyter Notebook\n",
    "* Make sure you have `numpy` installed by typing\n",
    "  * `import numpy as np`\n",
    "  \n",
    "  \n",
    "* Write $f(x) = x ^ 2$\n",
    "* Write $g(x) = {1 \\over 10^{-x}}$\n",
    "* Write $h(x) = g(x) + 2$\n",
    "* Write $v = \\begin{bmatrix} -2 \\\\ 0 \\\\ 1 \\end{bmatrix}$\n",
    "* Write $y = h(v)$"
   ]
  },
  {
   "cell_type": "markdown",
   "metadata": {
    "slideshow": {
     "slide_type": "subslide"
    }
   },
   "source": [
    "## Creating lists of stuff with Numpy\n",
    "\n",
    "Math: $v = [0  \\dots 100]$\n",
    "\n",
    "Python:\n",
    "```python\n",
    "v = np.arange(0, 100)\n",
    "```"
   ]
  },
  {
   "cell_type": "code",
   "execution_count": null,
   "metadata": {
    "slideshow": {
     "slide_type": "subslide"
    }
   },
   "outputs": [],
   "source": [
    "np.arange(0, 100)"
   ]
  },
  {
   "cell_type": "markdown",
   "metadata": {
    "slideshow": {
     "slide_type": "subslide"
    }
   },
   "source": [
    "## Plotting stuff with Matplotlib"
   ]
  },
  {
   "cell_type": "code",
   "execution_count": null,
   "metadata": {
    "slideshow": {
     "slide_type": "fragment"
    }
   },
   "outputs": [],
   "source": [
    "plt.plot(np.arange(0, 100))"
   ]
  },
  {
   "cell_type": "code",
   "execution_count": null,
   "metadata": {
    "slideshow": {
     "slide_type": "subslide"
    }
   },
   "outputs": [],
   "source": [
    "xs = np.arange(0, 100)\n",
    "ys = []\n",
    "for x in xs:\n",
    "    ys.append(x ** 2)\n",
    "plt.plot(xs, ys)"
   ]
  },
  {
   "cell_type": "code",
   "execution_count": null,
   "metadata": {
    "slideshow": {
     "slide_type": "subslide"
    }
   },
   "outputs": [],
   "source": [
    "xs = np.arange(0, 100)\n",
    "ys = [x ** 2 for x in xs]\n",
    "plt.plot(xs, ys)"
   ]
  },
  {
   "cell_type": "markdown",
   "metadata": {
    "slideshow": {
     "slide_type": "subslide"
    }
   },
   "source": [
    "## Your turn!\n",
    "\n",
    "* Make sure you have matplotlib installed by typing `import matplotlib.pyplot as plt`\n",
    "* To view the graphs *inline* in your notebook add:\n",
    "  * `%matplotlib inline` (yes, with a `%`)\n",
    "  \n",
    "  \n",
    "* Plot $f(x) = x ** 2$\n",
    "* Plot $g(y) = y * \\pi$ \n",
    "* Plot $h(z) = g(z) * cos(z)$"
   ]
  },
  {
   "cell_type": "markdown",
   "metadata": {
    "slideshow": {
     "slide_type": "subslide"
    }
   },
   "source": [
    "## A dimension\n",
    "\n",
    "* A vector, $\\textbf{v}$, of length $n$ \"lives\" in a vector space of $n$ dimensions, you all know this\n",
    "  * The length of $n$, `len(v)` is the number of elements in that vector\n",
    "  * Think about a vector in a 2D vector space: $\\textbf{v} = [x, y]$, and in 3D: $\\textbf{v} = [x, y, z]$"
   ]
  },
  {
   "cell_type": "markdown",
   "metadata": {
    "slideshow": {
     "slide_type": "subslide"
    }
   },
   "source": [
    "## A feature vector\n",
    "\n",
    "\"A feature vector is a vector in which each dimension $j = 1, \\dots , D$ contains a value that describes the example somehow.\"\n",
    "\n",
    "* \"A feature vector is a vector in which...\" \n",
    "  * This means that we have an unnamed vector that we're trying to define\n",
    "* \"each dimension $j = 1, \\dots , D$\"\n",
    "  * Now we know we have a variable $j$ and that $j$ contains a number of things\n",
    "  * The thing starts with the 1 and ends with D -- Oh, a second variable!\n",
    "  * What is D? ... Could be 100; let's say it's 100\n",
    "  * So D is the number of dimensions, then D must be the length! And if D is 100 then the unnamed feature vector is 100 elements long\n",
    "* \"contains a value that describes the example\"\n",
    "  * Ok, so each thing inside the unnamed vector (the thing with number $1, \\dots, D$) helps us describe one piece of example data\n",
    "  * Ok, that must mean that element $1$ is describing something different that element $2$\n",
    "  * ... I don't understand much more, let's move on!"
   ]
  },
  {
   "cell_type": "markdown",
   "metadata": {
    "slideshow": {
     "slide_type": "subslide"
    }
   },
   "source": [
    "\"That value is called a *feature* and is denoted as $x^j$\"\n",
    "\n",
    "* Ok, so now we have a name for our list called $x$\n",
    "* We also heard that each single element (the ones with numbers $1, \\dots, D$) is called a **feature**\n",
    "  * And each element is uniquely identifiable by $j$: $x^j$\n",
    "  * Hey, I've seen that before! That's an index!\n",
    "  * Ahhhh, easy, so this just means that I can look at an element in the vector by it's index!\n",
    "  * ... Oh, and that element is then for some reason called a *feature*"
   ]
  },
  {
   "cell_type": "code",
   "execution_count": null,
   "metadata": {
    "slideshow": {
     "slide_type": "subslide"
    }
   },
   "outputs": [],
   "source": [
    "# We have a vector x of 1, ..., D elements\n",
    "D = 100\n",
    "x = np.arange(1, D + 1)\n",
    "\n",
    "# Apparently we can look up a certain element in the list given j:\n",
    "j = 1\n",
    "x[j]"
   ]
  },
  {
   "cell_type": "code",
   "execution_count": null,
   "metadata": {
    "slideshow": {
     "slide_type": "subslide"
    }
   },
   "outputs": [],
   "source": [
    "# Be careful with indexing!\n",
    "print(x[0])\n",
    "print(x[1])"
   ]
  },
  {
   "cell_type": "markdown",
   "metadata": {
    "slideshow": {
     "slide_type": "subslide"
    }
   },
   "source": [
    "A **feature vector** is then simply just a list where we can look an element up by its index.\n",
    "\n",
    "Math: $x^1$\n",
    "\n",
    "Python:\n",
    "```python\n",
    "x[0]\n",
    "    ```\n",
    "\n",
    "Math: $x^{100}$\n",
    "\n",
    "Python: \n",
    "```python\n",
    "x[99]\n",
    "```\n"
   ]
  },
  {
   "cell_type": "markdown",
   "metadata": {
    "slideshow": {
     "slide_type": "subslide"
    }
   },
   "source": [
    "## Feature vectors as descriptions of things\n",
    "\n",
    "Let's say we have a Person class:\n",
    "\n",
    "```python\n",
    "\n",
    "class Person:\n",
    "    \n",
    "    def __init__(self, age, height):\n",
    "        self.age = age\n",
    "        self.height = height\n",
    "```\n",
    "\n",
    "A Person is described by two **features**: `age` and `height`\n",
    "\n",
    "* So a **feature vector** for a person would have 2 dimensions\n",
    "  * $x^1 = $ age\n",
    "  * $x^2 = $ height"
   ]
  },
  {
   "cell_type": "markdown",
   "metadata": {
    "slideshow": {
     "slide_type": "subslide"
    }
   },
   "source": [
    "## Feature vectors in high dimensions\n",
    "\n",
    "* Imagine an image with the resolution `1024 x 800`\n",
    "  * How many pixels does that image have?"
   ]
  },
  {
   "cell_type": "markdown",
   "metadata": {
    "slideshow": {
     "slide_type": "fragment"
    }
   },
   "source": [
    "* That image has `1024 * 800 = 819200` features!\n",
    "```python\n",
    "x[0]      # First feature\n",
    "x[819199] # Last feature\n",
    "```"
   ]
  },
  {
   "cell_type": "markdown",
   "metadata": {
    "slideshow": {
     "slide_type": "fragment"
    }
   },
   "source": [
    "* BUT Wait a moment....! How many was that?? (monochrome, each pixel is a bit (0/1))\n",
    "  * For an RGB image the number of features is, rather, `1024 * 800 * 3 = 2457600` features!\n"
   ]
  }
 ],
 "metadata": {
  "celltoolbar": "Slideshow",
  "kernelspec": {
   "display_name": "Python 3",
   "language": "python",
   "name": "python3"
  },
  "language_info": {
   "codemirror_mode": {
    "name": "ipython",
    "version": 3
   },
   "file_extension": ".py",
   "mimetype": "text/x-python",
   "name": "python",
   "nbconvert_exporter": "python",
   "pygments_lexer": "ipython3",
   "version": "3.7.1"
  }
 },
 "nbformat": 4,
 "nbformat_minor": 2
}
