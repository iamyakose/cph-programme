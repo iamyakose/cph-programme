{
 "cells": [
  {
   "cell_type": "markdown",
   "metadata": {},
   "source": [
    "The following introduction to NumPy is based on the following article:\n",
    "    http://www.datadependence.com/2016/05/scientific-python-numpy/\n",
    "    \n",
    "For futher details refer to the official quickstart documentation:\n",
    "https://docs.scipy.org/doc/numpy-dev/user/quickstart.html\n",
    "\n",
    "# NumPy\n",
    "\n",
    "NumPy is the fundamental package for scientific computing with Python, which contains for example a powerful and efficient n-dimensional array object.\n",
    "\n",
    "\n",
    "# Initialization of NumPy Arrays\n",
    "\n",
    "You can initialize a one-dimensional NumPy array, for example, by passing a list or a tuple to `np.array`."
   ]
  },
  {
   "cell_type": "code",
   "execution_count": null,
   "metadata": {},
   "outputs": [],
   "source": [
    "import numpy as np\n",
    "\n",
    "\n",
    "a = np.array([0, 1, 2, 3, 4])\n",
    "b = np.array((0, 1, 2, 3, 4))\n",
    "\n",
    "print(a)\n",
    "print(b)"
   ]
  },
  {
   "cell_type": "markdown",
   "metadata": {},
   "source": [
    "Alternatively, you can create a one-dimensional NumPy array with the `np.arange` function, which is similar to its counterpart `range` in the standard library. Read it's documentation with `np.arange?`."
   ]
  },
  {
   "cell_type": "code",
   "execution_count": null,
   "metadata": {},
   "outputs": [],
   "source": [
    "c = np.arange(9, 30, 3)\n",
    "print(c)"
   ]
  },
  {
   "cell_type": "markdown",
   "metadata": {},
   "source": [
    "Similar to `np.arange`, `np.linspace` creates an array of evenly spaced numbers over a specified interval."
   ]
  },
  {
   "cell_type": "code",
   "execution_count": null,
   "metadata": {},
   "outputs": [],
   "source": [
    "pi_steps = np.linspace(0, 2 * np.pi, 5)\n",
    "print(pi_steps)"
   ]
  },
  {
   "cell_type": "markdown",
   "metadata": {},
   "source": [
    "## Indexing Elements"
   ]
  },
  {
   "cell_type": "code",
   "execution_count": null,
   "metadata": {},
   "outputs": [],
   "source": [
    "c = np.arange(9, 30, 3)\n",
    "print(c)\n",
    "print(c[0])  # Get element at index position 0\n",
    "print(c[1])  # Get element at index position 1\n",
    "print(c[2:6])  # Get subarray from index pos. 2 to excluding index pos. 6\n",
    "print(c[1:-1:2])  # Get every second element from subarray"
   ]
  },
  {
   "cell_type": "markdown",
   "metadata": {},
   "source": [
    "# Multi-Dimensional Arrays\n",
    "\n",
    "You can initialize multi-dimensional arrays either explicitely as in the following."
   ]
  },
  {
   "cell_type": "code",
   "execution_count": null,
   "metadata": {},
   "outputs": [],
   "source": [
    "two_dim = np.array([[ 0,  1,  2,  3],\n",
    "                    [ 4,  5,  6,  7],\n",
    "                    [ 8,  9, 10, 11]])\n",
    "\n",
    "three_dim = np.array([[[ 0,  1,  2,  3],\n",
    "                       [ 4,  5,  6,  7],\n",
    "                       [ 8,  9, 10, 11]],\n",
    "\n",
    "                      [[12, 13, 14, 15],\n",
    "                       [16, 17, 18, 19],\n",
    "                       [20, 21, 22, 23]],\n",
    "\n",
    "                      [[24, 25, 26, 27],\n",
    "                       [28, 29, 30, 31],\n",
    "                       [32, 33, 34, 35]]])\n",
    "print(two_dim.shape)\n",
    "print(three_dim.shape)"
   ]
  },
  {
   "cell_type": "markdown",
   "metadata": {},
   "source": [
    "Or you create a one-dimensional array, which you `reshape` into the desired form."
   ]
  },
  {
   "cell_type": "code",
   "execution_count": null,
   "metadata": {},
   "outputs": [],
   "source": [
    "a = np.arange(11, 36).reshape(5,5)\n",
    "\n",
    "print(a)\n",
    "print(a[2, 4])\n",
    "a.shape\n",
    "np.arange(12).reshape(3,4)"
   ]
  },
  {
   "cell_type": "markdown",
   "metadata": {},
   "source": [
    "When defining shapes the shape coordinates are given in the order '*y*', '*x*' for two-dimensional arrays, '*z*', '*y*', '*x*' for three-dimensional arrays, and so on."
   ]
  },
  {
   "cell_type": "code",
   "execution_count": null,
   "metadata": {},
   "outputs": [],
   "source": [
    "a = np.arange(60).reshape((4,3,5))\n",
    "print(a)"
   ]
  },
  {
   "cell_type": "markdown",
   "metadata": {},
   "source": [
    "## Indexing Elements of Multi-dimensional Arrays"
   ]
  },
  {
   "cell_type": "code",
   "execution_count": null,
   "metadata": {},
   "outputs": [],
   "source": [
    "a = np.arange(11, 36).reshape(5,5)\n",
    "\n",
    "print(a[0, 1:4])  # get one-dim. subarray of row 0\n",
    "print(a[1:4, 0])  # get one-dim. subarray of column 0\n",
    "print(a[::2,::2])  # get a two-dim. subarray of every second element by row and column\n",
    "print(a[:, 1])  # get the second column"
   ]
  },
  {
   "cell_type": "markdown",
   "metadata": {},
   "source": [
    "![slicing_img](https://1.bp.blogspot.com/-7a-mSPtfScw/Vze66QWv_MI/AAAAAAAAC7c/1PaKQQzwGwY6GIo4RX3u-rsDuCoFlkkaACLcB/s1600/numpy_2D_slicing_diagram.jpg)"
   ]
  },
  {
   "cell_type": "code",
   "execution_count": null,
   "metadata": {},
   "outputs": [],
   "source": [
    "a = np.arange(10, 70).reshape((4,3,5))\n",
    "print(a)\n",
    "\n",
    "print(a[0,1,2])  # equal to a[0][1][2]\n",
    "print(a[:,2])  # a list of the third rows of each inner 2d-array\n",
    "print(a[:,:,2])  # a list of the third column of each inner 2d-array\n",
    "print(a[::2,::2,::2])  # collect every second array of the three dimensions"
   ]
  },
  {
   "cell_type": "markdown",
   "metadata": {},
   "source": [
    "# Auxiliary Array Properties"
   ]
  },
  {
   "cell_type": "code",
   "execution_count": null,
   "metadata": {},
   "outputs": [],
   "source": [
    "a = np.arange(10, 70, dtype=np.int8).reshape((4,3,5))\n",
    "\n",
    "print(type(a))\n",
    "print(a.dtype)\n",
    "print(a.size)\n",
    "print(a.shape)\n",
    "print(a.itemsize)\n",
    "print(a.ndim)\n",
    "print(a.nbytes)"
   ]
  },
  {
   "cell_type": "markdown",
   "metadata": {},
   "source": [
    "## Basic Operators"
   ]
  },
  {
   "cell_type": "code",
   "execution_count": null,
   "metadata": {},
   "outputs": [],
   "source": [
    "a = np.ones((3,3))\n",
    "a[1] = 2\n",
    "a[2] = 3\n",
    "b = np.arange(9).reshape(3,3)\n",
    "\n",
    "print(a)\n",
    "print(b)"
   ]
  },
  {
   "cell_type": "code",
   "execution_count": null,
   "metadata": {},
   "outputs": [],
   "source": [
    "a = np.ones((3,3), dtype=int)\n",
    "a[1] = 2\n",
    "a[2] = 3\n",
    "b = np.arange(9).reshape(3,3)\n",
    "\n",
    "print(a)\n",
    "print(b) \n",
    "\n",
    "print(a + b)"
   ]
  },
  {
   "cell_type": "code",
   "execution_count": null,
   "metadata": {},
   "outputs": [],
   "source": [
    "print(a - b)"
   ]
  },
  {
   "cell_type": "code",
   "execution_count": null,
   "metadata": {},
   "outputs": [],
   "source": [
    "print(a * b)"
   ]
  },
  {
   "cell_type": "code",
   "execution_count": null,
   "metadata": {},
   "outputs": [],
   "source": [
    "print(b / a)"
   ]
  },
  {
   "cell_type": "code",
   "execution_count": null,
   "metadata": {},
   "outputs": [],
   "source": [
    "print(a ** 2)"
   ]
  },
  {
   "cell_type": "code",
   "execution_count": null,
   "metadata": {},
   "outputs": [],
   "source": [
    "print(a < b)"
   ]
  },
  {
   "cell_type": "code",
   "execution_count": null,
   "metadata": {},
   "outputs": [],
   "source": [
    "print(a > b)"
   ]
  },
  {
   "cell_type": "code",
   "execution_count": null,
   "metadata": {},
   "outputs": [],
   "source": [
    "print(a.dot(b))"
   ]
  },
  {
   "cell_type": "code",
   "execution_count": null,
   "metadata": {},
   "outputs": [],
   "source": [
    "print(a)\n",
    "\n",
    "print(a.sum())\n",
    "print(a.cumsum())\n",
    "print(a.min())\n",
    "print(a.max())"
   ]
  },
  {
   "cell_type": "markdown",
   "metadata": {},
   "source": [
    "## Fancy Indexing\n",
    "\n"
   ]
  },
  {
   "cell_type": "code",
   "execution_count": null,
   "metadata": {},
   "outputs": [],
   "source": [
    "a = np.arange(0, 100, 10)\n",
    "indices = np.array([1, 5, -1])\n",
    "b = a[indices]\n",
    "print(indices)\n",
    "print(a)\n",
    "print(b)"
   ]
  },
  {
   "cell_type": "markdown",
   "metadata": {},
   "source": [
    "## Boolean masking\n",
    "\n"
   ]
  },
  {
   "cell_type": "code",
   "execution_count": null,
   "metadata": {},
   "outputs": [],
   "source": [
    "import matplotlib.pyplot as plt\n",
    " \n",
    "\n",
    "xs = np.linspace(0, 2 * np.pi, 50)\n",
    "ys = np.sin(xs)\n",
    "plt.plot(xs, ys)\n",
    "mask = ys >= 0\n",
    "plt.plot(xs[mask], ys[mask], 'bo')\n",
    "mask = (ys <= 0) & (xs >= np.pi)\n",
    "plt.plot(xs[mask], ys[mask], 'go')\n",
    "plt.show()"
   ]
  },
  {
   "cell_type": "markdown",
   "metadata": {},
   "source": [
    "## Incomplete Indexing\n",
    "\n",
    "As you saw above, you can omit index numbers, which then default to index 0 or index for the last element of the array."
   ]
  },
  {
   "cell_type": "code",
   "execution_count": null,
   "metadata": {},
   "outputs": [],
   "source": [
    "a = np.arange(0, 100, 10)\n",
    "b = a[:5]\n",
    "c = a[a >= 50]\n",
    "print(b)\n",
    "print(c)"
   ]
  },
  {
   "cell_type": "markdown",
   "metadata": {},
   "source": [
    "## Where\n",
    "\n",
    "the `where()` function is another useful way of retrieving elements of an array conditionally. Simply pass it a condition and it will return a tuple of lists of elements where that condition is true."
   ]
  },
  {
   "cell_type": "code",
   "execution_count": null,
   "metadata": {},
   "outputs": [],
   "source": [
    "a = np.arange(0, 100, 10)\n",
    "b = np.where(a < 50) \n",
    "c = np.where(a >= 50)[0]\n",
    "print(b)\n",
    "print(c)"
   ]
  },
  {
   "cell_type": "markdown",
   "metadata": {},
   "source": [
    "# Why do we care about NumPy?\n",
    "\n",
    "Because we want to get things done. As you remember from the last session *14-Intro to Plotting.ipynb*, we had to write quite a bit of code to compute the histograms for the age distribution within Copenhagen citizens per year.\n",
    "\n",
    "By representing our input data as a matrix, i.e., a two-dimensional array, and using boolean indexing, we can generate for example the histograms way more concisely and with way fewer lines of code.\n",
    "\n",
    "In the following we us Pandas, to import the CSV file with the statistics about Copenhagen citizens and we convert the read data into a numpy matrix. We will have a closer look on the  Pandas library in the next session."
   ]
  },
  {
   "cell_type": "code",
   "execution_count": null,
   "metadata": {},
   "outputs": [],
   "source": [
    "import os\n",
    "import requests\n",
    "\n",
    "\n",
    "def download_csv(url):\n",
    "    filename = os.path.join('/tmp', os.path.basename(url))\n",
    "    \n",
    "    if not os.path.exists(filename):\n",
    "        # Download the file\n",
    "        r = requests.get(url)\n",
    "\n",
    "        with open(filename, 'wb') as f:\n",
    "            f.write(r.content)\n",
    "    return filename"
   ]
  },
  {
   "cell_type": "code",
   "execution_count": null,
   "metadata": {},
   "outputs": [],
   "source": [
    "import pandas as pd\n",
    "\n",
    "\n",
    "filename = download_csv('http://data.kk.dk/dataset/76ecf368-bf2d-46a2-bcf8-adaf37662528/resource/9286af17-f74e-46c9-a428-9fb707542189/download/befkbhalderstatkode.csv')\n",
    "\n",
    "bef_stats_df = pd.read_csv(filename)\n",
    "bef_stats_df"
   ]
  },
  {
   "cell_type": "code",
   "execution_count": null,
   "metadata": {},
   "outputs": [],
   "source": [
    "dd = bef_stats_df.as_matrix()"
   ]
  },
  {
   "cell_type": "markdown",
   "metadata": {},
   "source": [
    "### Amount of 18 years old Danes in CPH?\n",
    "\n",
    "For example, how can we quickly compute the amount of all Danes (`STATKODE == 5100`) with age 18 in all neighbourhoods for the year 2015?\n",
    "\n",
    "We just collect that data by expressing it as a conjunction of constraints and subsequently sum it up.\n"
   ]
  },
  {
   "cell_type": "code",
   "execution_count": null,
   "metadata": {},
   "outputs": [],
   "source": [
    "mask = (dd[:,0] == 2015) & (dd[:,2] == 18) & (dd[:,3] == 5100)\n",
    "print(dd[mask])\n",
    "np.sum(dd[mask][:,4])"
   ]
  },
  {
   "cell_type": "markdown",
   "metadata": {},
   "source": [
    "### Distribution of French and Germans in CPH?\n",
    "\n",
    "\n",
    "Similarly, in which neighbourhood lifed the most Frenchmen and Germans respectively in 2015?\n",
    "\n",
    "The following dictionary of neighbourhood codes is created from the explanatory text on the municipalities homepage."
   ]
  },
  {
   "cell_type": "code",
   "execution_count": null,
   "metadata": {},
   "outputs": [],
   "source": [
    "neighb = {1: 'Indre By', 2: 'Østerbro', 3: 'Nørrebro', 4: 'Vesterbro/Kgs. Enghave', \n",
    "          5: 'Valby', 6: 'Vanløse', 7: 'Brønshøj-Husum', 8: 'Bispebjerg', 9: 'Amager Øst', \n",
    "          10: 'Amager Vest', 99: 'Udenfor'}"
   ]
  },
  {
   "cell_type": "code",
   "execution_count": null,
   "metadata": {},
   "outputs": [],
   "source": [
    "french_mask = (dd[:,0] == 2015) & (dd[:,3] == 5130)\n",
    "german_mask = (dd[:,0] == 2015) & (dd[:,3] == 5180)\n",
    "\n",
    "french = np.array([np.sum(dd[french_mask & (dd[:,1] == n)][:,4]) \n",
    "                   for n in neighb.keys()])\n",
    "germans = np.array([np.sum(dd[german_mask & (dd[:,1] == n)][:,4]) \n",
    "                    for n in neighb.keys()])\n",
    "\n",
    "index_max_fr = np.argmax(french)\n",
    "index_max_de = np.argmax(germans)\n",
    "\n",
    "msg = 'The majority of {} {} are living in {}'\n",
    "print(msg.format(french.max(), 'Frenchmen', neighb[list(neighb.keys())[index_max_fr]]))\n",
    "print(msg.format(germans.max(), 'Germans', neighb[list(neighb.keys())[index_max_de]]))"
   ]
  },
  {
   "cell_type": "markdown",
   "metadata": {},
   "source": [
    "### From which country come the most imigrants in 2015?\n",
    "\n",
    "Popular belief says that most imigrants come somewhere from the middle-east. But is it true?\n",
    "\n",
    "To answer this question, convert the cuntry code data from Danmarks Statistik (http://www.dst.dk/da/Statistik/dokumentation/Times/forebyggelsesregistret/statkode.aspx) into a Python dictionary."
   ]
  },
  {
   "cell_type": "code",
   "execution_count": null,
   "metadata": {},
   "outputs": [],
   "source": [
    "country_codes = {0: 'Uoplyst (1)', 5001: 'Uoplyst (2)', 5100: 'Danmark', 5101: 'Grønland', \n",
    "                 5102: 'Udlandet uoplyst', 5103: 'Statsløs', 5104: 'Finland', \n",
    "                 5105: 'Island, ligeret dansk', 5106: 'Island', 5107: 'Liechtenstein', \n",
    "                 5108: 'Luxembourg', 5109: 'Monaco', 5110: 'Norge', 5114: 'Europa uoplyst', \n",
    "                 5115: 'Kongelig', 5120: 'Sverige', 5122: 'Albanien', 5124: 'Andorra', \n",
    "                 5126: 'Belgien', 5128: 'Bulgarien', 5129: 'Tjekkoslovakiet', \n",
    "                 5130: 'Frankrig', 5134: 'Grækenland', 5140: 'Nederlandene', \n",
    "                 5142: 'Irland', 5150: 'Italien', 5151: 'Serbien og Montenegro', \n",
    "                 5152: 'Jugoslavien', 5153: 'Malta', 5154: 'Polen', 5156: 'Portugal', \n",
    "                 5158: 'Rumænien', 5159: 'San Marino', 5160: 'Schweiz', \n",
    "                 5162: 'Sovjetunionen', 5164: 'Spanien', 5170: 'Storbritannien', \n",
    "                 5172: 'Tyrkiet', 5174: 'Ungarn', 5176: 'Vatikanstaten', 5180: 'Tyskland', \n",
    "                 5182: 'Østrig', 5199: 'Europa uoplyst', 5202: 'Algeriet', 5204: 'Angola', \n",
    "                 5207: 'Botswana', 5213: 'Burundi', 5214: 'Etiopien', 5215: 'Comorerne', \n",
    "                 5216: 'Eritrea', 5222: 'Gambia', 5228: 'Ghana', 5230: 'Ækvatorialguinea', \n",
    "                 5231: 'Guinea-Bissau', 5232: 'Guinea', 5233: 'Kap Verde', 5234: 'Kenya', \n",
    "                 5235: 'Lesotho', 5236: 'Liberia', 5238: 'Libyen', 5240: 'Mozambique', \n",
    "                 5242: 'Madagaskar', 5243: 'Mali', 5244: 'Marokko', 5245: 'Mauritius', \n",
    "                 5246: 'Nigeria', 5247: 'Namibia', 5248: 'Marshalløerne', \n",
    "                 5255: 'Sierra Leone', 5258: 'Sudan', 5259: 'Swaziland', 5260: 'Sydsudan', \n",
    "                 5262: 'Sydafrika', 5266: 'Tanzania', 5268: 'Tunesien', 5269: 'Uganda', \n",
    "                 5272: 'Egypten', 5273: 'Tuvalu', 5274: 'Kiribati', 5275: 'Vanuatu', \n",
    "                 5276: 'Centralafrikanske Republik', 5277: 'Cameroun', \n",
    "                 5278: 'Congo, Demokratiske Republik', 5279: 'Congo, Republikken', \n",
    "                 5281: 'Benin', 5282: 'Elfenbenskysten', 5283: 'Gabon', 5284: 'Mauretanien', \n",
    "                 5285: 'Niger', 5287: 'Rwanda', 5288: 'Senegal', 5289: 'Somalia', \n",
    "                 5292: 'Tchad', 5293: 'Togo', 5294: 'Burkina Faso', 5295: 'Zimbabwe', \n",
    "                 5296: 'Zambia', 5297: 'Malawi', 5298: 'Seychellerne', \n",
    "                 5299: 'Afrika uoplyst', 5302: 'Argentina', 5303: 'Bahamas', \n",
    "                 5304: 'Bolivia', 5305: 'Barbados', 5306: 'Brasilien', 5308: 'Guyana', \n",
    "                 5309: 'Antigua og Barbuda', 5310: 'Nauru', \n",
    "                 5311: 'Skt. Vincent og Grenadinerne', 5314: 'Canada', 5316: 'Chile', \n",
    "                 5318: 'Colombia', 5319: 'Syd- og Mellemamerika uoplyst', \n",
    "                 5322: 'Costa Rica', 5324: 'Cuba', 5326: 'Dominikanske Republik', \n",
    "                 5328: 'Ecuador', 5338: 'Guatemala', 5339: 'Grenada', 5342: 'Haiti', \n",
    "                 5344: 'Surinam', 5345: 'Dominica', 5347: 'Skt. Lucia', 5348: 'Honduras', \n",
    "                 5352: 'Jamaica', 5354: 'Mexico', 5356: 'Nicaragua', 5358: 'Panama', \n",
    "                 5364: 'Paraguay', 5366: 'Peru', 5372: 'El Salvador', \n",
    "                 5374: 'Trinidad og Tobago', 5376: 'Uruguay', 5390: 'USA', \n",
    "                 5392: 'Venezuela', 5395: 'Vestindiske Øer', 5397: 'Nordamerika uoplyst', \n",
    "                 5398: 'Syd- og Mellemamerika uoplyst', 5402: 'Yemen', \n",
    "                 5403: 'Forenede Arabiske Emirater', 5404: 'Afghanistan', 5406: 'Bahrain', \n",
    "                 5408: 'Bhutan', 5410: 'Bangladesh', 5412: 'Brunei', 5414: 'Myanmar', \n",
    "                 5416: 'Cambodja', 5418: 'Sri Lanka', 5422: 'Cypern', 5424: 'Taiwan', \n",
    "                 5432: 'Indien', 5434: 'Indonesien', 5435: 'Østtimor', 5436: 'Irak', \n",
    "                 5438: 'Iran', 5442: 'Israel', 5444: 'Japan', 5446: 'Jordan', 5448: 'Kina', \n",
    "                 5452: 'Kuwait', 5454: 'Laos', 5456: 'Libanon', 5457: 'Maldiverne', \n",
    "                 5458: 'Malaysia', 5459: 'Mongoliet', 5462: 'Oman', 5464: 'Nepal', \n",
    "                 5466: 'Nordkorea', 5468: 'Vietnam (1)', 5471: 'Asien uoplyst', \n",
    "                 5472: 'Pakistan', 5474: 'Filippinerne', 5478: 'Saudi-Arabien', \n",
    "                 5482: 'Singapore', 5484: 'Sydkorea', 5486: 'Syrien', \n",
    "                 5487: 'Mellemøsten uoplyst', 5488: 'Vietnam (2)', 5492: 'Thailand', \n",
    "                 5496: 'Qatar', 5499: 'Asien uoplyst', 5502: 'Australien', 5505: 'Tonga', \n",
    "                 5508: 'Fiji', 5514: 'New Zealand', 5522: 'Samoa', 5525: 'Djibouti', \n",
    "                 5526: 'Belize', 5534: 'Papua Ny Guinea', 5599: 'Øer i Stillehavet', \n",
    "                 5607: 'Estland', 5609: 'Letland', 5611: 'Litauen', \n",
    "                 5621: 'Sao Tome og Principe', 5623: 'Salomonøerne', \n",
    "                 5625: 'Skt. Kitts og Nevis', 5700: 'Rusland', 5704: 'Ukraine', \n",
    "                 5706: 'Hviderusland', 5708: 'Armenien', 5710: 'Aserbajdsjan', \n",
    "                 5712: 'Moldova', 5714: 'Usbekistan', 5716: 'Kasakhstan', \n",
    "                 5718: 'Turkmenistan', 5720: 'Kirgisistan', 5722: 'Tadsjikistan', \n",
    "                 5724: 'Georgien', 5750: 'Kroatien', 5752: 'Slovenien', \n",
    "                 5754: 'Bosnien-Hercegovina', 5756: 'Makedonien', 5757: 'Serbien', \n",
    "                 5758: 'Jugoslavien, Forbundsrepublikken', 5759: 'Montenegro', \n",
    "                 5761: 'Kosovo', 5776: 'Tjekkiet', 5778: 'Slovakiet', 5779: 'Cookøerne', \n",
    "                 5800: 'Land ukendt (2)', 5901: 'Færøerne uoplyst', 5902: 'Færøerne', \n",
    "                 5999: 'Land ukendt (1)'}"
   ]
  },
  {
   "cell_type": "code",
   "execution_count": null,
   "metadata": {},
   "outputs": [],
   "source": [
    "# create a set of country codes with people living in Copenhagen\n",
    "c_keys = np.unique(dd[:,3])\n",
    "# we are interested in non-danes only\n",
    "c_keys = c_keys[c_keys != 5100]\n",
    "# and again we only consider 2015\n",
    "mask = (dd[:,0] == 2015)\n",
    "\n",
    "no_per_c = np.array([(c_code, np.sum(dd[mask & (dd[:,3] == c_code)][:,4])) \n",
    "                     for c_code in c_keys])\n",
    "msg = '{} inhabitants come from {}'\n",
    "country_codes[no_per_c[np.argmax(no_per_c[:,1]),0]]"
   ]
  },
  {
   "cell_type": "code",
   "execution_count": null,
   "metadata": {},
   "outputs": [],
   "source": [
    "%matplotlib notebook\n",
    "import matplotlib.pyplot as plt\n",
    "\n",
    "\n",
    "sorted_distribution = no_per_c[no_per_c[:,1].argsort()[::-1]]\n",
    "\n",
    "c_codes = sorted_distribution[:,0]\n",
    "c_sums = sorted_distribution[:,1]\n",
    "\n",
    "c_codes = [country_codes[c] for c in c_codes]\n",
    "\n",
    "plt.plot(range(len(c_codes)), c_sums)\n",
    "plt.xticks(range(len(c_codes)), c_codes, size='small', rotation=45)\n",
    "\n",
    "plt.show()\n"
   ]
  },
  {
   "cell_type": "markdown",
   "metadata": {},
   "source": [
    "### Computing a Histogram Concisely\n",
    "\n",
    "As said, we are using NumPy to express our data queries more concisely. The first three lines of the following program compute the histogram of ages in 2015."
   ]
  },
  {
   "cell_type": "code",
   "execution_count": null,
   "metadata": {
    "scrolled": false
   },
   "outputs": [],
   "source": [
    "%matplotlib notebook\n",
    "\n",
    "\n",
    "mask = (dd[:,0] == 2015)\n",
    "set_of_ages = np.unique(dd[mask][:,2])\n",
    "freq_ages = np.array([np.sum(dd[mask & (dd[:,2] == age)][:,4]) \n",
    "                      for age in set_of_ages])\n",
    "\n",
    "plt.bar(set_of_ages, freq_ages)\n",
    "# plt.show()"
   ]
  },
  {
   "cell_type": "markdown",
   "metadata": {},
   "source": [
    "And computing the increase of foreign population from 2014 to 2015 is similarly easy. Read and explain the following program."
   ]
  },
  {
   "cell_type": "code",
   "execution_count": null,
   "metadata": {},
   "outputs": [],
   "source": [
    "%matplotlib notebook\n",
    "\n",
    "\n",
    "mask = (dd[:,3] != 5100)\n",
    "sum_14 = np.sum(dd[(dd[:,0] == 2014) & mask][:,4])\n",
    "sum_15 = np.sum(dd[(dd[:,0] == 2015) & mask][:,4])\n",
    "\n",
    "plt.axis([2013, 2016, 0, max([sum_14, sum_15]) + 2000])\n",
    "plt.bar([2014, 2015], [sum_14, sum_15], width=0.8,  align='center')\n",
    "plt.xticks([2014, 2015])\n",
    "plt.ticklabel_format(useOffset=False)\n"
   ]
  },
  {
   "cell_type": "markdown",
   "metadata": {},
   "source": [
    "# For what else can we use NumPy?\n",
    "\n",
    "Images are just multi-dimensional arrays. So we can do image processing effectively and efficiently.\n",
    "\n",
    "Let's for example have a look on some data on ice concentrations in the arctic...\n",
    "\n",
    "Let's start by collecting some data."
   ]
  },
  {
   "cell_type": "code",
   "execution_count": null,
   "metadata": {},
   "outputs": [],
   "source": [
    "import os\n",
    "\n",
    "\n",
    "base_url = 'ftp://osisaf.met.no/archive/ice/conc/201{}/02/ice_conc_{}h_polstere-100_multi_201{}02011200.nc'\n",
    "current_dir = os.getcwd()\n",
    "\n",
    "os.chdir('./data')\n",
    "for idx in range(5, 8):\n",
    "    for h in ['n', 's']:\n",
    "        url = base_url.format(idx, h, idx)\n",
    "        print('Downloading {}'.format(url))\n",
    "        os.system('wget {}'.format(url))\n",
    "        \n",
    "os.chdir('../')"
   ]
  },
  {
   "cell_type": "code",
   "execution_count": null,
   "metadata": {},
   "outputs": [],
   "source": [
    "%%bash\n",
    "\n",
    "ls -ltr"
   ]
  },
  {
   "cell_type": "markdown",
   "metadata": {},
   "source": [
    "Now we read the data, which is distributed in NetCDF format. That is a file format, which is often used in scientific computing. In case the library is not installed on your machine, install it with the appropriate package manager; like `conda install netcdf4` (Anaconda), `pip install netcdf4` (PyPi)"
   ]
  },
  {
   "cell_type": "code",
   "execution_count": null,
   "metadata": {},
   "outputs": [],
   "source": [
    "%%bash\n",
    "\n",
    "pwd"
   ]
  },
  {
   "cell_type": "code",
   "execution_count": null,
   "metadata": {},
   "outputs": [],
   "source": [
    "from netCDF4 import Dataset\n",
    "\n",
    "nc = Dataset('./data/ice_conc_nh_polstere-100_multi_201502011200.nc')\n",
    "nc2 = Dataset('./data/ice_conc_nh_polstere-100_multi_201602011200.nc')"
   ]
  },
  {
   "cell_type": "code",
   "execution_count": null,
   "metadata": {},
   "outputs": [],
   "source": [
    "%matplotlib notebook\n",
    "\n",
    "import matplotlib.pyplot as plt\n",
    "\n",
    "\n",
    "plt.subplot(1, 3, 3)\n",
    "plt.title('2015')\n",
    "plt.imshow(nc.variables['ice_conc'][0], interpolation='None')\n",
    "plt.subplot(1, 3, 2)\n",
    "plt.title('2016')\n",
    "plt.imshow(nc2.variables['ice_conc'][0], interpolation='None')\n",
    "plt.subplot(1, 3, 1)\n",
    "plt.title('Diff')\n",
    "plt.imshow(nc2.variables['ice_conc'][0] - nc.variables['ice_conc'][0], interpolation='None')\n",
    "\n",
    "plt.show()"
   ]
  },
  {
   "cell_type": "code",
   "execution_count": null,
   "metadata": {},
   "outputs": [],
   "source": []
  }
 ],
 "metadata": {
  "kernelspec": {
   "display_name": "Python 3",
   "language": "python",
   "name": "python3"
  },
  "language_info": {
   "codemirror_mode": {
    "name": "ipython",
    "version": 3
   },
   "file_extension": ".py",
   "mimetype": "text/x-python",
   "name": "python",
   "nbconvert_exporter": "python",
   "pygments_lexer": "ipython3",
   "version": "3.7.1"
  }
 },
 "nbformat": 4,
 "nbformat_minor": 2
}
