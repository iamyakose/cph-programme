{
 "cells": [
  {
   "cell_type": "markdown",
   "metadata": {},
   "source": []
  },
  {
   "cell_type": "markdown",
   "metadata": {
    "slideshow": {
     "slide_type": "slide"
    }
   },
   "source": [
    "# Welcome\n",
    "\n",
    "![back_to_school](./images/MLWheel.png)"
   ]
  },
  {
   "cell_type": "markdown",
   "metadata": {
    "slideshow": {
     "slide_type": "subslide"
    }
   },
   "source": [
    "# Organisational Notes\n",
    "\n",
    "\n",
    "## The Exam\n",
    "\n",
    "The exam date is TBD.\n",
    "\n",
    "  * 20 min. oral exam, individual.\n",
    "  * Room is TBD.\n",
    "\n",
    "Exam grade is computed like: \n",
    "\n",
    "  * Mean of weekly (8) assignments counts half of the final grade\n",
    "  * Grade of oral exam as the other half\n",
    "\n",
    "## Assignments\n",
    "\n",
    "  * Eight mandatory assignments in groups (one per session)\n",
    "  * You hand-in the solutions in group repositories on Github\n",
    "  * You hand-in each time before Wednesday at noon (11:59)\n",
    "  * You will get a grade per solution and these grades are part of your final grade\n",
    "  * If you do all your exercises, the exam will be easier\n",
    "\n",
    "## Course Material\n",
    "\n",
    "  * You will find all the notebooks (the presentation you are looking at) and other code examples with corresponding data under the following GitHub repository:\n",
    "https://github.com/datsoftlyngby/soft2019fall-bi-teaching-material\n",
    "For cloning use:\n",
    "`git@github.com:datsoftlyngby/soft2019fall-bi-teaching-material.git`\n",
    "\n",
    "\n",
    "## Literature\n",
    "You should not really need any other literature besides all the information given in the notebooks in the `lecture_notes` directory.\n",
    "\n",
    "However, this course uses in it's first session parts of the **free** ebook _A Whirlwind Tour of Python_ (http://www.oreilly.com/programming/free/a-whirlwind-tour-of-python.csp), along with Jupyter notebooks from that publication as well. ![](http://covers.oreillystatic.com/images/0636920053194/cat.gif) \n",
    "You can read it online https://jakevdp.github.io/WhirlwindTourOfPython/\n",
    "\n",
    "Later sessions are inspired by the book _Hands-On Machine Learning with Scikit-Learn and TensorFlow_ (http://shop.oreilly.com/product/0636920052289.do). ![](https://covers.oreillystatic.com/images/0636920052289/cat.gif)\n",
    "\n",
    "The **free** _\"Python Data Science Handbook\"_ ebook https://jakevdp.github.io/PythonDataScienceHandbook/index.html might be a useful source too.\n",
    "![](https://covers.oreillystatic.com/images/0636920034919/cat.gif) "
   ]
  },
  {
   "cell_type": "markdown",
   "metadata": {
    "slideshow": {
     "slide_type": "subslide"
    }
   },
   "source": [
    "# Schedule\n",
    "\n",
    "  * Course in two blocks\n",
    "    - Data Processing Fundamentals Block\n",
    "    - Modelling and Machine Learning Basics Block\n",
    "  * Wednesday afternoons (12:30 to 16:00)\n",
    "  * Lokale 2.03\n",
    "\n",
    "## Data Processing Fundamentals Block\n",
    "\n",
    "  * Session 1: Whirlwind Tour of Python (5th September)\n",
    "  * Session 2: Data Collection (12th September)\n",
    "  * Session 3: Data Preprocessing (19th September), visit **from** Hitachi Vantara (13:00-14:30), Hitachi's Website: http://www.hitachi.eu/da-dk .\n",
    "  * Session 4: Data Visualisation (26th September), visit **to** Innofactor Danmark A/S (Idrætsparken, Øster Allé 48). Innofactor's Website: https://www.innofactor.com/dk/ .\n",
    "\n",
    "## Modelling and Machine Learning Basics Block\n",
    "\n",
    "  * Session 1: Basic machine learning (7th November)\n",
    "  * Session 2: Multivariate regression, Logistic regression and cross validation (14th November)\n",
    "  * Session 3: Classification and geospatial data (21st November)\n",
    "  * Session 4: Deep learning and populations (28th November)"
   ]
  },
  {
   "cell_type": "markdown",
   "metadata": {
    "slideshow": {
     "slide_type": "subslide"
    }
   },
   "source": [
    "# Groups\n",
    "\n",
    "  * Each group should not have more than three members.\n",
    "  * We will form them **now**  "
   ]
  },
  {
   "cell_type": "markdown",
   "metadata": {
    "slideshow": {
     "slide_type": "slide"
    }
   },
   "source": [
    "# What is Business Intelligence?"
   ]
  },
  {
   "cell_type": "markdown",
   "metadata": {
    "slideshow": {
     "slide_type": "subslide"
    }
   },
   "source": [
    "# What is Business Intelligence?\n",
    "\n",
    "\n",
    "### Definition 1\n",
    "> Companies use BI to improve decision making, cut costs and identify new business opportunities. BI is more than just corporate reporting and more than a set of tools to coax data out of enterprise systems. CIOs use BI to identify inefficient business processes that are ripe for re-engineering.\n",
    "http://www.cio.com/article/2439504/business-intelligence/business-intelligence-business-intelligence-definition-and-solutions.html"
   ]
  },
  {
   "cell_type": "markdown",
   "metadata": {
    "slideshow": {
     "slide_type": "subslide"
    }
   },
   "source": [
    "# What is Business Intelligence?\n",
    "\n",
    "\n",
    "### Definition 2\n",
    "> Good BI is instrumental in making businesses successful. The information gathered and sorted by BI analysts helps companies better understand their history, where they stand and how they might grow in the future.\n",
    "http://www.businessnewsdaily.com/4692-business-intelligence.html"
   ]
  },
  {
   "cell_type": "markdown",
   "metadata": {
    "slideshow": {
     "slide_type": "subslide"
    }
   },
   "source": [
    "# What is Business Intelligence?\n",
    "\n",
    "\n",
    "### Definition 3\n",
    "> Business intelligence (BI) simplifies information discovery and analysis, making it possible for decision-makers at all levels of an organization to more easily access, understand, analyze, collaborate, and act on information, anytime and anywhere. https://technet.microsoft.com/en-us/library/cc811595(v=office.12).aspx"
   ]
  },
  {
   "cell_type": "markdown",
   "metadata": {},
   "source": [
    "# What is Business Intelligence?\n",
    "\n",
    "**Business intelligence, or BI, is an umbrella term that refers to a variety of software applications used to analyze an organization’s raw data. BI as a discipline is made up of several related activities, including data mining, online analytical processing, querying and reporting.**"
   ]
  },
  {
   "cell_type": "code",
   "execution_count": null,
   "metadata": {},
   "outputs": [],
   "source": []
  }
 ],
 "metadata": {
  "celltoolbar": "Slideshow",
  "kernelspec": {
   "display_name": "Python 3",
   "language": "python",
   "name": "python3"
  },
  "language_info": {
   "codemirror_mode": {
    "name": "ipython",
    "version": 3
   },
   "file_extension": ".py",
   "mimetype": "text/x-python",
   "name": "python",
   "nbconvert_exporter": "python",
   "pygments_lexer": "ipython3",
   "version": "3.7.1"
  }
 },
 "nbformat": 4,
 "nbformat_minor": 2
}
