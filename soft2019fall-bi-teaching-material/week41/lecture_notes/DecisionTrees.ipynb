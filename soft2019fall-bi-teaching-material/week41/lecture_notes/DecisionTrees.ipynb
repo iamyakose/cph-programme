{
 "cells": [
  {
   "cell_type": "markdown",
   "metadata": {
    "slideshow": {
     "slide_type": "slide"
    }
   },
   "source": [
    "# Decision Tree Classifiers"
   ]
  },
  {
   "cell_type": "markdown",
   "metadata": {
    "slideshow": {
     "slide_type": "subslide"
    }
   },
   "source": [
    "## Theory -- Explained by Examples.\n",
    "### Workings of a Binary Classifier"
   ]
  },
  {
   "cell_type": "markdown",
   "metadata": {
    "slideshow": {
     "slide_type": "subslide"
    }
   },
   "source": [
    "Predict people go golfing, based on people that went golfing under certain weather conditions.\n",
    "\n",
    "![Golfing](images/golfing.png)"
   ]
  },
  {
   "cell_type": "markdown",
   "metadata": {
    "slideshow": {
     "slide_type": "subslide"
    }
   },
   "source": [
    "## Objective\n",
    "Separate classes maximally in a tree structure, i.e. minimize _Entropy_, or maximize _Information Gain_.\n",
    "\n",
    "![Golfing](images/golfing.png)"
   ]
  },
  {
   "cell_type": "markdown",
   "metadata": {
    "slideshow": {
     "slide_type": "subslide"
    }
   },
   "source": [
    "## A look at the data\n",
    "- Features = ['outlook', 'temperature', 'humidity', 'wind']\n",
    "- Feature values (i.e. 'outlook') = ['sunny', 'overcast', 'rainy']\n",
    "- Target = ['play']\n",
    "- Target values = ['yes', 'no']  (hence 'binary' classification)\n",
    "\n",
    "- play golf?\n",
    "  - Outlook\n",
    "    - sunny   : yes=3, no=2\n",
    "    - overcast: yes=4, no=0\n",
    "    - sunny   : yes=2, no=3\n",
    "  - Temperature\n",
    "    - hot : yes=2, no=2\n",
    "    - mild: yes=...\n",
    "    \n",
    "The Shannon Entropy Measure\n",
    "\n",
    "$${\\bf H}( {\\bf X}) = - \\sum_{i=1}^n P(x_i)\\textrm{log}_2P(x_i),$$\n",
    "\n",
    "- If data _all_ true, or _all_ false, then $H = 0$ (minimal entropy, or \"mess\" in the data set).\n",
    "- If data are perfectly mixed (equally divided), then $H = 1$ (maximal entropy)."
   ]
  },
  {
   "cell_type": "markdown",
   "metadata": {
    "slideshow": {
     "slide_type": "subslide"
    }
   },
   "source": [
    "## Shannon Entropy, and entropy in data.\n",
    "The Shannon Entropy is used to measure how clearly data are separable.\n",
    "\n",
    "It is a part of finding out whether there is a _signal_ in the data.\n",
    "\n",
    "$${\\bf H}( {\\bf X}) = - \\sum_{i=1}^n P(x_i)\\textrm{log}_2P(x_i),$$\n",
    "\n",
    "- If data _all_ true, or _all_ false, then $H = 0$ (minimal entropy, or minimal \"mess\" in the data set).\n",
    "- If data are perfectly mixed (equally divided), then $H = 1$ (maximal entropy)."
   ]
  },
  {
   "cell_type": "markdown",
   "metadata": {
    "slideshow": {
     "slide_type": "fragment"
    }
   },
   "source": [
    "We have 9 times 'yes' and 5 times 'no' for label 'play'. Leading to \n",
    "\n",
    "$$H('play') = - 0.64*Log2(0.64) - 0.36*Log2(0.36) = 0.94,$$\n",
    "\n",
    "since 9+5=14, 9/14=0.64, and 5/14=0.36.\n"
   ]
  },
  {
   "cell_type": "markdown",
   "metadata": {
    "slideshow": {
     "slide_type": "subslide"
    }
   },
   "source": [
    "## Tree Node Construction\n",
    "- Iterate through _all_ features (outlook, temperature, etc...)\n",
    "- For _all_ features iterate through _all_ ranges of values\n",
    "\n",
    "Then we get the following result:  "
   ]
  },
  {
   "cell_type": "markdown",
   "metadata": {
    "slideshow": {
     "slide_type": "subslide"
    }
   },
   "source": [
    "## Information Gain\n",
    "Is defined as \n",
    "\n",
    "$$ \\mathcal{G} \\equiv {\\bf H}({\\bf X}) - {\\bf E}({\\bf T},{\\bf X}),$$\n",
    "\n",
    "where \n",
    "\n",
    "$${\\bf E}({\\bf T},{\\bf X}) = \\sum_x P({\\bf x})E({\\bf x}).$$\n",
    "\n",
    "The Information Gain for 'outlook', with our table data becomes:\n",
    "\n",
    "$$ \\frac{5}{14} \\cdot 0.971 \\frac{5}{14} \\cdot 0.0 \\frac{5}{14} \\cdot 0.971 = 0.247 .$$\n",
    "\n",
    "For all the features, we get \n",
    "- **0.247 for 'outlook'**\n",
    "- **0.029 for 'temperature'**\n",
    "- **0.152 for 'humidity'**\n",
    "- **0.048 for 'wind'**\n",
    "\n",
    "Concluding that the decision should first split on the 'outlook' feature, since this yields the most information."
   ]
  },
  {
   "cell_type": "markdown",
   "metadata": {
    "slideshow": {
     "slide_type": "subslide"
    }
   },
   "source": [
    "### Training \"result\"\n",
    "We get a tree something like this:\n",
    "![TreeResult](images/tree_result.png)"
   ]
  },
  {
   "cell_type": "markdown",
   "metadata": {
    "slideshow": {
     "slide_type": "slide"
    }
   },
   "source": [
    "# Classifying the Iris Data Set\n",
    "### Objective\n",
    "- get the data\n",
    "- select the features\n",
    "- train a model (make the tree)\n",
    "- plot the tree\n",
    "- understand the idea"
   ]
  },
  {
   "cell_type": "markdown",
   "metadata": {
    "slideshow": {
     "slide_type": "subslide"
    }
   },
   "source": [
    "## Introducing the iris dataset\n",
    "\n",
    "![Iris](images/03_iris.png)\n",
    "\n",
    "- 50 samples of 3 different species of iris (150 samples total)\\n\",\n",
    "- Measurements: sepal length, sepal width, petal length, petal width"
   ]
  },
  {
   "cell_type": "code",
   "execution_count": null,
   "metadata": {
    "slideshow": {
     "slide_type": "slide"
    }
   },
   "outputs": [],
   "source": [
    "from sklearn.datasets import load_iris"
   ]
  },
  {
   "cell_type": "code",
   "execution_count": null,
   "metadata": {
    "slideshow": {
     "slide_type": "fragment"
    }
   },
   "outputs": [],
   "source": [
    "from sklearn.tree import DecisionTreeClassifier"
   ]
  },
  {
   "cell_type": "code",
   "execution_count": null,
   "metadata": {
    "slideshow": {
     "slide_type": "fragment"
    }
   },
   "outputs": [],
   "source": [
    "iris = load_iris()"
   ]
  },
  {
   "cell_type": "code",
   "execution_count": null,
   "metadata": {
    "slideshow": {
     "slide_type": "fragment"
    }
   },
   "outputs": [],
   "source": [
    "iris"
   ]
  },
  {
   "cell_type": "code",
   "execution_count": null,
   "metadata": {
    "slideshow": {
     "slide_type": "subslide"
    }
   },
   "outputs": [],
   "source": [
    "iris.target_names"
   ]
  },
  {
   "cell_type": "code",
   "execution_count": null,
   "metadata": {
    "slideshow": {
     "slide_type": "fragment"
    }
   },
   "outputs": [],
   "source": [
    "iris.feature_names"
   ]
  },
  {
   "cell_type": "code",
   "execution_count": null,
   "metadata": {
    "slideshow": {
     "slide_type": "subslide"
    }
   },
   "outputs": [],
   "source": [
    "# Select number of features (btween 2 and 4, really).\n",
    "n_features = 3"
   ]
  },
  {
   "cell_type": "code",
   "execution_count": null,
   "metadata": {
    "slideshow": {
     "slide_type": "fragment"
    }
   },
   "outputs": [],
   "source": [
    "X = iris.data[:,-n_features:]\n",
    "iris.feature_names = iris.feature_names[-n_features:]\n",
    "\n",
    "# Get the target values (classes)\n",
    "y = iris.target"
   ]
  },
  {
   "cell_type": "code",
   "execution_count": null,
   "metadata": {
    "slideshow": {
     "slide_type": "fragment"
    }
   },
   "outputs": [],
   "source": [
    "X, y"
   ]
  },
  {
   "cell_type": "code",
   "execution_count": null,
   "metadata": {},
   "outputs": [],
   "source": [
    "iris.feature_names"
   ]
  },
  {
   "cell_type": "code",
   "execution_count": null,
   "metadata": {
    "slideshow": {
     "slide_type": "subslide"
    }
   },
   "outputs": [],
   "source": [
    "tree_clf = DecisionTreeClassifier(max_depth=3)"
   ]
  },
  {
   "cell_type": "code",
   "execution_count": null,
   "metadata": {
    "scrolled": true,
    "slideshow": {
     "slide_type": "fragment"
    }
   },
   "outputs": [],
   "source": [
    "tree_clf.fit(X,y)"
   ]
  },
  {
   "cell_type": "markdown",
   "metadata": {},
   "source": [
    "Get the _'Graphviz'_ package with your favourite package manager: \n",
    "\n",
    "`$ conda install graphviz`\n",
    "\n",
    "Then convert the graph to PNG in your command line:\n",
    "\n",
    "`$ dot -Tpng iris_tree.dot -o iris_tree.png`"
   ]
  },
  {
   "cell_type": "code",
   "execution_count": null,
   "metadata": {
    "slideshow": {
     "slide_type": "subslide"
    }
   },
   "outputs": [],
   "source": [
    "from sklearn.tree import export_graphviz\n",
    "import io"
   ]
  },
  {
   "cell_type": "code",
   "execution_count": null,
   "metadata": {
    "slideshow": {
     "slide_type": "fragment"
    }
   },
   "outputs": [],
   "source": [
    "export_graphviz(\n",
    "    tree_clf, \n",
    "    out_file=\"iris_tree.dot\",\n",
    "    feature_names=iris.feature_names[-n_features:],\n",
    "    class_names=iris.target_names,\n",
    "    rounded=True,\n",
    "    filled=True\n",
    ")\n"
   ]
  },
  {
   "cell_type": "markdown",
   "metadata": {
    "slideshow": {
     "slide_type": "subslide"
    }
   },
   "source": [
    "Or we can do it in the notebook directly...\n",
    "...after we install the graphviz in the right place:\n",
    "\n",
    "`$ conda install python-graphviz`"
   ]
  },
  {
   "cell_type": "code",
   "execution_count": null,
   "metadata": {
    "slideshow": {
     "slide_type": "fragment"
    }
   },
   "outputs": [],
   "source": [
    "from sklearn import tree\n",
    "import graphviz \n",
    "dot_data = tree.export_graphviz(tree_clf, out_file=None) \n",
    "graph = graphviz.Source(dot_data) \n",
    "graph.render(\"iris\") "
   ]
  },
  {
   "cell_type": "code",
   "execution_count": null,
   "metadata": {
    "slideshow": {
     "slide_type": "subslide"
    }
   },
   "outputs": [],
   "source": [
    "dot_data = tree.export_graphviz(tree_clf, out_file=None, \n",
    "                      feature_names=iris.feature_names,  \n",
    "                      class_names=iris.target_names,  \n",
    "                      filled=True, rounded=True,  \n",
    "                      special_characters=True)  \n",
    "graph = graphviz.Source(dot_data)  \n",
    "graph "
   ]
  },
  {
   "cell_type": "code",
   "execution_count": null,
   "metadata": {
    "slideshow": {
     "slide_type": "subslide"
    }
   },
   "outputs": [],
   "source": [
    "# Make a prediction on the data.\n",
    "prediction = tree_clf.predict(X)"
   ]
  },
  {
   "cell_type": "code",
   "execution_count": null,
   "metadata": {
    "slideshow": {
     "slide_type": "subslide"
    }
   },
   "outputs": [],
   "source": [
    "prediction"
   ]
  },
  {
   "cell_type": "code",
   "execution_count": null,
   "metadata": {
    "slideshow": {
     "slide_type": "fragment"
    }
   },
   "outputs": [],
   "source": [
    "len(prediction)"
   ]
  },
  {
   "cell_type": "code",
   "execution_count": null,
   "metadata": {
    "slideshow": {
     "slide_type": "fragment"
    }
   },
   "outputs": [],
   "source": [
    "prediction - iris.target"
   ]
  },
  {
   "cell_type": "markdown",
   "metadata": {
    "slideshow": {
     "slide_type": "subslide"
    }
   },
   "source": [
    "Strange; should have been all zeroes.... but why?"
   ]
  },
  {
   "cell_type": "markdown",
   "metadata": {
    "slideshow": {
     "slide_type": "slide"
    }
   },
   "source": [
    "## Exercise\n",
    "Find some data, build a binary (or multiclass) decision tree classifier.\n",
    "Try Kaggle for data, or use the \"safe\" choice Scikit:\n",
    "\n",
    "**Kaggle:** https://www.kaggle.com/datasets\n",
    "**SciKit:** https://scikit-learn.org/stable/auto_examples/index.html#classification\n",
    "\n"
   ]
  },
  {
   "cell_type": "markdown",
   "metadata": {
    "slideshow": {
     "slide_type": "fragment"
    }
   },
   "source": [
    "### Interesting prospect\n",
    "... by the way, Kaggle offers rewarded competitions, here's one from LANL:\n",
    "https://www.kaggle.com/c/LANL-Earthquake-Prediction#description\n",
    "\n",
    "#### Why don't we go try out as a team?? -- just a thought. We could try it as an on-the-side effort...\n",
    "I am thinking; we have computer expertise in abundance (you guys in class!), we have AI expertise in abundance (Jens, in particular), and we have a bit of physics know-how (me) to put to the show. So what do you think, do you have some spare time...??            :-) "
   ]
  },
  {
   "cell_type": "code",
   "execution_count": null,
   "metadata": {},
   "outputs": [],
   "source": [
    "from sklearn.model_selection import train_test_split"
   ]
  }
 ],
 "metadata": {
  "celltoolbar": "Slideshow",
  "kernelspec": {
   "display_name": "Python 3",
   "language": "python",
   "name": "python3"
  },
  "language_info": {
   "codemirror_mode": {
    "name": "ipython",
    "version": 3
   },
   "file_extension": ".py",
   "mimetype": "text/x-python",
   "name": "python",
   "nbconvert_exporter": "python",
   "pygments_lexer": "ipython3",
   "version": "3.7.1"
  }
 },
 "nbformat": 4,
 "nbformat_minor": 2
}
