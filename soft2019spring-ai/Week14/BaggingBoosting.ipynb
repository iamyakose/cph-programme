{
 "cells": [
  {
   "cell_type": "markdown",
   "metadata": {
    "slideshow": {
     "slide_type": "slide"
    }
   },
   "source": [
    "# Ensemble Learning"
   ]
  },
  {
   "cell_type": "markdown",
   "metadata": {
    "slideshow": {
     "slide_type": "subslide"
    }
   },
   "source": [
    "## Bagging\n",
    "### Simple Average of 'Weak Learners' $y \\leftarrow \\tilde{f}(\\vec x) \\equiv \\frac{1}{B}\\sum_{b=1}^B f_b(\\vec x)$, where B is a hyperparameter.\n",
    "\n",
    "![Bagging](images/bagging.png)\n"
   ]
  },
  {
   "cell_type": "markdown",
   "metadata": {
    "slideshow": {
     "slide_type": "subslide"
    }
   },
   "source": [
    "## Boosting\n",
    "### Serialized Improvement of Learners $y \\leftarrow f_0 + \\alpha (\\rho_1 f_1 + \\rho_2 f_2 + \\ldots + \\rho_M f_M)$, where $\\alpha$ is learning rate, and $M$ -- the number of learners -- both, hyperparameters!! \n",
    "\n",
    "### $\\rho_i$ is not a tunable (hyperparameter) but a complicated function. It expresses just a difference between successive learners accuracy.\n",
    "\n",
    "![Boosting](images/boosting.png)"
   ]
  },
  {
   "cell_type": "markdown",
   "metadata": {
    "slideshow": {
     "slide_type": "subslide"
    }
   },
   "source": [
    "## Boosting\n",
    "Rather than math rigor, let's do a bit of demo'ing...!\n",
    "\n",
    "![Boosting](images/boosting_sequence.png)"
   ]
  },
  {
   "cell_type": "markdown",
   "metadata": {
    "slideshow": {
     "slide_type": "fragment"
    }
   },
   "source": [
    "## Azure Machine Learning Revisited\n",
    "https://studio.azureml.net/Home/ViewWorkspaceCached/1126eb934c704363bccc2801633a3351#Workspace/Experiments/ListExperiments\n",
    "\n",
    "### Should we try this together?"
   ]
  },
  {
   "cell_type": "markdown",
   "metadata": {
    "slideshow": {
     "slide_type": "subslide"
    }
   },
   "source": [
    "## Bagging _vs._ Boosting?\n",
    "For large datasets:\n",
    "\n",
    "- \"Serialized\" **_Boosting_** can be **expensive** during training but yields more **accurate** models.\n",
    "- \"Parallelized\" **_Bagging_** can be **fast** during training, but normally yields **less accurate** models."
   ]
  },
  {
   "cell_type": "markdown",
   "metadata": {
    "slideshow": {
     "slide_type": "subslide"
    }
   },
   "source": [
    "## Stacking, Varying Model Classes\n",
    "![stacking](images/stacking.png)"
   ]
  },
  {
   "cell_type": "code",
   "execution_count": null,
   "metadata": {},
   "outputs": [],
   "source": []
  }
 ],
 "metadata": {
  "celltoolbar": "Slideshow",
  "kernelspec": {
   "display_name": "Python 3",
   "language": "python",
   "name": "python3"
  },
  "language_info": {
   "codemirror_mode": {
    "name": "ipython",
    "version": 3
   },
   "file_extension": ".py",
   "mimetype": "text/x-python",
   "name": "python",
   "nbconvert_exporter": "python",
   "pygments_lexer": "ipython3",
   "version": "3.7.1"
  }
 },
 "nbformat": 4,
 "nbformat_minor": 2
}
