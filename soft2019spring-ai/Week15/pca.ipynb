{
 "cells": [
  {
   "cell_type": "markdown",
   "metadata": {
    "slideshow": {
     "slide_type": "slide"
    }
   },
   "source": [
    "# Dimensionality Reduction"
   ]
  },
  {
   "cell_type": "markdown",
   "metadata": {
    "slideshow": {
     "slide_type": "subslide"
    }
   },
   "source": [
    "## Principal Component Analysis\n",
    "Rather than math. Find directions that have (decreasingly) maximal variance. 2D -> 1D example.\n",
    "- The principal components are linear combinations of the feature vector components.\n",
    "- The ratio $\\frac{\\sigma(pc_1)}{\\sigma(p_1)+\\sigma(p_2)}$, is the **scree** for $pc_1$.\n",
    "- **Scree** plot from all components shows how much of the total variance in the data is comtained within any given subset of PCs. \n",
    "![pcaimage](images/pca_example_2d_simple.png)"
   ]
  },
  {
   "cell_type": "markdown",
   "metadata": {
    "slideshow": {
     "slide_type": "subslide"
    }
   },
   "source": [
    "## What's different now?\n",
    "#### Before, we used k-Means to find clusters, and deduce labels for classification, for example.\n",
    "#### Here we use instead PCA to reduce the number of feature dimensions"
   ]
  },
  {
   "cell_type": "markdown",
   "metadata": {},
   "source": [
    "## Exercise\n",
    "Kaggle has a great kernel which does PCA dimension reduction on. the voice data set:\n",
    "https://www.kaggle.com/ataneja2/gender-voice-recognition-using-pca\n",
    "\n",
    "Try to translate that into a Python notebook, and see what you can get away with in terms of remocing stuff. Much in the spirit of Project 3, 5-feature challenge! :-)"
   ]
  },
  {
   "cell_type": "code",
   "execution_count": null,
   "metadata": {},
   "outputs": [],
   "source": []
  }
 ],
 "metadata": {
  "celltoolbar": "Slideshow",
  "kernelspec": {
   "display_name": "Python 3",
   "language": "python",
   "name": "python3"
  },
  "language_info": {
   "codemirror_mode": {
    "name": "ipython",
    "version": 3
   },
   "file_extension": ".py",
   "mimetype": "text/x-python",
   "name": "python",
   "nbconvert_exporter": "python",
   "pygments_lexer": "ipython3",
   "version": "3.7.1"
  }
 },
 "nbformat": 4,
 "nbformat_minor": 2
}
