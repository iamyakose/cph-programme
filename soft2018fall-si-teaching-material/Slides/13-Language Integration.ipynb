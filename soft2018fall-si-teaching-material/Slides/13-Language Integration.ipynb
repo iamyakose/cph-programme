{
 "cells": [
  {
   "cell_type": "markdown",
   "metadata": {
    "slideshow": {
     "slide_type": "slide"
    }
   },
   "source": [
    "# Your Turn!\n",
    "\n",
    "Create the VM with the sources and all the compilers and interpreters that we need for today.\n",
    "\n",
    "Find everything on the course's Github repository under the directory https://github.com/datsoftlyngby/soft2018fall-si-teaching-material/tree/master/lang_integration."
   ]
  },
  {
   "cell_type": "markdown",
   "metadata": {
    "slideshow": {
     "slide_type": "slide"
    }
   },
   "source": [
    "# Integration via Operating System Processes\n",
    "\n",
    "\n",
    "This integration mechanism is the most language agnostic. As soon as you have some binary program that you can call from the CLI, you can integrate it with a simialar mechanism in the language of your choice.\n",
    "\n",
    "![](images/li_os.png)\n",
    "\n",
    "The code for this example can be found under `lang_integration/bin_python`."
   ]
  },
  {
   "cell_type": "markdown",
   "metadata": {
    "slideshow": {
     "slide_type": "subslide"
    }
   },
   "source": [
    "### A Python Program Calling a Binary via a Separate OS Process\n",
    "\n",
    "```python\n",
    "import subprocess\n",
    "import time\n",
    "\n",
    "\n",
    "proc = subprocess.Popen([\"./cli_avg\", '{\"matrix\": [[1,2,3], [3,4,5,5]]}'], \n",
    "                  stdout=subp.PIPE, stdin=subp.PIPE)\n",
    "\n",
    "data = None\n",
    "for line in iter(proc.stdout.readline, b''):\n",
    "    print('Got result: {}'.format(line))\n",
    "    data = [float(el) for el in line.replace('[', '').replace(']', '').split(',')]\n",
    "    print([2 * el for el in data])\n",
    "proc.communicate()\n",
    "```"
   ]
  },
  {
   "cell_type": "markdown",
   "metadata": {
    "slideshow": {
     "slide_type": "subslide"
    }
   },
   "source": [
    "### A Nim CLI Program \n",
    "\n",
    "```nim\n",
    "import os\n",
    "import json\n",
    "import math\n",
    "import sequtils\n",
    "import strutils\n",
    "\n",
    "type\n",
    "  Data = object\n",
    "    matrix: seq[seq[int]]\n",
    "  \n",
    "proc main(): seq[float] =\n",
    "    if paramCount() != 1:\n",
    "        quit(\"Usage: \" & getAppFilename() & \" {\\\"matrix\\\": [[1,2,3], [3,4,5,5]]}\")\n",
    "    else:\n",
    "        let matrixStr = paramStr(1)\n",
    "        let jsonNode = parseJson(matrixStr)\n",
    "        let data = json.to(jsonNode, Data)\n",
    "\n",
    "        var res: seq[float] = @[]\n",
    "        for vector in data.matrix:\n",
    "            res.add(sum(vector) / vector.len)\n",
    "\n",
    "        return res\n",
    "\n",
    "let valSeq = main()\n",
    "let strings = valSeq.mapIt(string, $it).join(\",\")\n",
    "echo \"[\" & strings & \"]\"\n",
    "```"
   ]
  },
  {
   "cell_type": "markdown",
   "metadata": {
    "slideshow": {
     "slide_type": "subslide"
    }
   },
   "source": [
    "After compiling the program above with \n",
    "\n",
    "```bash\n",
    "$ nim compile cli_avg.nim\n",
    "```\n",
    "\n",
    "you have a binary in the local directory, which is called `cli_avg`.\n",
    "\n",
    "You can call that directly, e.g., via `./cli_avg '{\"matrix\": [[1,2,3], [3,4,5,5]]}'`."
   ]
  },
  {
   "cell_type": "markdown",
   "metadata": {
    "slideshow": {
     "slide_type": "subslide"
    }
   },
   "source": [
    "That is, the same as the above Python program does to interact with the binary:\n",
    "\n",
    "```bash\n",
    "$ python call_bin.py\n",
    "Got result: [2.0,4.25]\n",
    "\n",
    "[4.0, 8.5]\n",
    "```\n"
   ]
  },
  {
   "cell_type": "markdown",
   "metadata": {
    "slideshow": {
     "slide_type": "subslide"
    }
   },
   "source": [
    "# Your turn!\n",
    "\n",
    "Take the above `cli_avg` (Linux) binary and call it from the language of your choice. Alternatively, call another CLI program, such as `hostname -I` from the language of your choice and to receive the external IP of your machine."
   ]
  },
  {
   "cell_type": "markdown",
   "metadata": {
    "slideshow": {
     "slide_type": "skip"
    }
   },
   "source": [
    "\n",
    "\n",
    "\n",
    "\n",
    "## Student Solutions 2017\n",
    "\n",
    "### Java\n",
    "\n",
    "```java\n",
    "// Java\n",
    "public static void main(String[] args) {\n",
    "   Main main = new Main();\n",
    "\n",
    "        System.out.println(main.executeShellCmd(\"ipconfig\"));\n",
    "\n",
    "    }\n",
    "\n",
    "    private String executeShellCmd(String command) {\n",
    "        StringBuffer output = new StringBuffer();\n",
    "        Process p;\n",
    "\n",
    "        try {\n",
    "            p = Runtime.getRuntime().exec(command);\n",
    "            p.waitFor();\n",
    "            BufferedReader reader = new BufferedReader(new InputStreamReader(p.getInputStream()));\n",
    "            String line = \"\";\n",
    "\n",
    "            while((line = reader.readLine()) != null) {\n",
    "                output.append(line + \"\\n\");\n",
    "            }\n",
    "        } catch (Exception e) {\n",
    "            e.printStackTrace();\n",
    "        }\n",
    "\n",
    "        return output.toString();\n",
    "    }\n",
    "}\n",
    "```\n",
    "\n",
    "### Javascript\n",
    "\n",
    "```javascript\n",
    "var exec = require('child_process').exec;\n",
    "var child;\n",
    "\n",
    "child = exec(\"hostname -I\", function (error, stdout, stderr) {\n",
    "    console.log(\"\\\"Hostname -I\\\" --- \" + stdout)\n",
    "    if (error !== null) {\n",
    "        console.log('exec error: ' + error);\n",
    "    }\n",
    "});\n",
    "```\n",
    "\n",
    "### Python\n",
    "\n",
    "```python\n",
    "import subprocess\n",
    "\n",
    "p = subprocess.Popen('hostname -i', shell=True, stdout=subprocess.PIPE, stderr=subprocess.STDOUT)\n",
    "for line in p.stdout.readlines():\n",
    "    print line,\n",
    "retval = p.wait()\n",
    "```\n",
    "\n",
    "```python\n",
    "import os\n",
    "cmd = 'hostname -I'\n",
    "os.system(cmd) \n",
    "```\n",
    "\n",
    "\n",
    "### C-Sharp\n",
    "\n",
    "```csharp\n",
    "static void Main(string[] args)\n",
    "        {\n",
    "\n",
    "            Process pro = new Process();\n",
    "            ProcessStartInfo startInfo = new ProcessStartInfo();\n",
    "            startInfo.UseShellExecute = false;\n",
    "            startInfo.RedirectStandardOutput = true;\n",
    "            startInfo.FileName = \"CMD.exe\";\n",
    "            startInfo.Arguments = \"/c hostname\";\n",
    "            pro.StartInfo = startInfo;\n",
    "            pro.Start();\n",
    "            string output = pro.StandardOutput.ReadLine();\n",
    "            Console.WriteLine(output);\n",
    "            Console.ReadKey();\n",
    "        }\n",
    "```\n",
    "\n",
    "### Perl\n",
    "\n",
    "```\n",
    "perl -e 'exec(\"hostname\");'\n",
    "```\n",
    "--------\n",
    "\n",
    "\n",
    "## Student Solutions 2018\n",
    "\n",
    "## Running binary from Nim:\n",
    "\n",
    "```nim\n",
    "import osproc\n",
    "\n",
    "proc runCliAvg(): int =\n",
    "    let (outp, errorCode) = execCmdEx(\"../bin_from_python/cli_avg \\\"{\\\"matrix\\\": [[1,2,3], [3,4,5]]}\\\"\")\n",
    "    \n",
    "    if errorCode != 0:\n",
    "        echo errorCode\n",
    "    else:\n",
    "        echo outp\n",
    "    return errorCode\n",
    "\n",
    "\n",
    "when isMainModule:\n",
    "    discard runCliAvg()\n",
    "```\n",
    "\n",
    "### C\n",
    "```c\n",
    "#include <stdlib.h>\n",
    "\n",
    "int main()\n",
    "{\n",
    "    system(\"../bin_from_python/cli_avg \\\"{\\\"matrix\\\": [[1,2,3], [3,4,5]]}\\\"\");\n",
    "    return 0;\n",
    "}\n",
    "```\n",
    "\n",
    "--------"
   ]
  },
  {
   "cell_type": "markdown",
   "metadata": {
    "slideshow": {
     "slide_type": "slide"
    }
   },
   "source": [
    "# Compilation to the Same Level of Abstraction\n",
    "\n",
    "![](images/li_same_abstraction.png)\n",
    "\n",
    "The code for this example can be found under `lang_integration/groovy_from_java`."
   ]
  },
  {
   "cell_type": "markdown",
   "metadata": {
    "slideshow": {
     "slide_type": "subslide"
    }
   },
   "source": [
    "## JVM Bytecode for Integration\n",
    "For exmple interaction in between Java and Groovy, both languages compiling to JVM bytecode.\n",
    "\n",
    "\n",
    "### A Groovy Script\n",
    "\n",
    "```Groovy\n",
    "def computeAvg(matrix) {\n",
    "\tprintln matrix\n",
    "\tdef result = []\n",
    "\tmatrix.eachWithIndex { a, i ->\n",
    "  \t\tresult.add(a.sum() / a.size())\n",
    "\t}\n",
    "\treturn result\t\n",
    "}\n",
    "\n",
    "def matrix = [[1, 23, 5, 4], [2, 4, 5, 6, 7, 8]]\n",
    "println computeAvg(matrix)\n",
    "```\n",
    "\n",
    "Since the Groovy program is self-contained, you can run it with: `groovy Script.groovy`.\n"
   ]
  },
  {
   "cell_type": "markdown",
   "metadata": {
    "slideshow": {
     "slide_type": "subslide"
    }
   },
   "source": [
    "### A Java Program Calling a Groovy Script\n",
    "\n",
    "```Java\n",
    "public class Main {\n",
    "    public static void main(String[] args) {\n",
    "\n",
    "\t\tint[][] matrix = new int[][]{\n",
    "\t\t  { 1, 2, 3, 4, 5 },\n",
    "\t\t  { 9, 8, 7, 6, 5, 4, 3, 1 },\n",
    "\t\t};\n",
    "    \n",
    "        Script script = new Script();\n",
    "        System.out.println(script.computeAvg(matrix));\n",
    "    }\n",
    "}\n",
    "```"
   ]
  },
  {
   "cell_type": "markdown",
   "metadata": {
    "slideshow": {
     "slide_type": "subslide"
    }
   },
   "source": [
    "### Compiling the Sources\n",
    "\n",
    "\n",
    "After compiling the sources with the following commands...\n",
    "\n",
    "```bash\n",
    "$ groovyc Script.groovy\n",
    "$ javac -classpath .:$GROOVY_HOME/embeddable/groovy-all-2.4.12.jar Main.java\n",
    "```"
   ]
  },
  {
   "cell_type": "markdown",
   "metadata": {
    "slideshow": {
     "slide_type": "subslide"
    }
   },
   "source": [
    "you will find three `.class` files\n",
    "\n",
    "```bash\n",
    "$ ls -ltrh *.class\n",
    "-rw-r--r-- 1 vagrant vagrant 2.7K Dec 11 14:33 Script$_computeAvg_closure1.class\n",
    "-rw-r--r-- 1 vagrant vagrant 3.0K Dec 11 14:33 Script.class\n",
    "-rw-r--r-- 1 vagrant vagrant  580 Dec 11 14:35 Main.class\n",
    "```\n",
    "\n",
    "What is in those `.class` files? Check it for example with `javap -c Main.class`, `javap -c Script.class`, etc."
   ]
  },
  {
   "cell_type": "markdown",
   "metadata": {
    "slideshow": {
     "slide_type": "subslide"
    }
   },
   "source": [
    "### Running the Sources\n",
    "\n",
    "Now, you can execute the compiled program on the JVM with\n",
    "\n",
    "```bash\n",
    "java -classpath .:$GROOVY_HOME/embeddable/groovy-all-2.4.12.jar Main\n",
    "```\n",
    "\n",
    "_Reference:_ This section is based on the following Stackoverflow entry https://stackoverflow.com/a/3990829"
   ]
  },
  {
   "cell_type": "markdown",
   "metadata": {
    "slideshow": {
     "slide_type": "subslide"
    }
   },
   "source": [
    "### Your Turn!\n",
    "\n",
    "\n",
    "What is in those `.class` files? \n",
    "\n",
    "Check their contents for example with `javap -c Main.class`, `javap -c Script.class`, etc. and describe to your neighbour what you see/observe.\n"
   ]
  },
  {
   "cell_type": "markdown",
   "metadata": {
    "slideshow": {
     "slide_type": "subslide"
    }
   },
   "source": [
    "## Object Code as Common Level of Integration\n",
    "\n",
    "Of course you can integrate on any level of abstraction. Above, we integrated our programs on JVM bytecode level. We could do the same on object code level. \n",
    "\n",
    "![](images/li_same_abstraction.png)\n",
    "\n",
    "The code for this example can be found under `lang_integration/ada_from_c`."
   ]
  },
  {
   "cell_type": "markdown",
   "metadata": {
    "slideshow": {
     "slide_type": "subslide"
    }
   },
   "source": [
    "Consider the two following Ada packages, whose functions get called in a C `main` program.\n",
    "\n",
    "```Ada\n",
    "package Unit1 is\n",
    "   function Add (A, B : Integer) return Integer;\n",
    "   pragma Export (C, Add, \"add\");\n",
    "end Unit1;\n",
    "```\n",
    "\n",
    "```Ada\n",
    "package body Unit1 is\n",
    "   function Add (A, B : Integer) return Integer is\n",
    "   begin\n",
    "      return A + B;\n",
    "   end Add;\n",
    "end Unit1;\n",
    "```\n",
    "\n",
    "\n",
    "```Ada\n",
    "package Unit2 is\n",
    "   function Sub (A, B : Integer) return Integer;\n",
    "   pragma Export (C, Sub, \"sub\");\n",
    "end Unit2;\n",
    "```\n",
    "\n",
    "```Ada\n",
    "package body Unit2 is\n",
    "   function Sub (A, B : Integer) return Integer is\n",
    "   begin\n",
    "      return A - B;\n",
    "   end Sub;\n",
    "end Unit2;\n",
    "```"
   ]
  },
  {
   "cell_type": "markdown",
   "metadata": {
    "slideshow": {
     "slide_type": "subslide"
    }
   },
   "source": [
    "Now, we want to call the two functions from above from C main program.\n",
    "\n",
    "```C\n",
    "#include <stdio.h>\n",
    "\n",
    "extern void adainit (void);\n",
    "extern void adafinal (void);\n",
    "extern int add (int, int);\n",
    "extern int sub (int, int);\n",
    "\n",
    "int main (int argc, char *argv[])\n",
    "{\n",
    "   int a = 21, b = 7;\n",
    "\n",
    "   adainit();\n",
    "\n",
    "   /* Should print \"21 + 7 = 28\" */\n",
    "   printf(\"%d + %d = %d\\\\n\", a, b, add(a, b));\n",
    "\n",
    "   /* Should print \"21 - 7 = 14\" */\n",
    "   printf(\"%d - %d = %d\\\\n\", a, b, sub(a, b));\n",
    "\n",
    "   adafinal();\n",
    "}\n",
    "```"
   ]
  },
  {
   "cell_type": "markdown",
   "metadata": {
    "slideshow": {
     "slide_type": "subslide"
    }
   },
   "source": [
    "Now, you can compile the program by linking the object files together.\n",
    "\n",
    "```bash\n",
    "$ gcc -c main.c\n",
    "$ gnatmake -c unit1.adb\n",
    "gcc-4.9 -c unit1.adb\n",
    "$ gnatmake -c unit2.adb\n",
    "gcc-4.9 -c unit2.adb\n",
    "$ gnatbind -n unit1.ali unit2.ali\n",
    "$ gnatlink unit2.ali main.o -o main\n",
    "$ ls -ltrh\n",
    "total 64K\n",
    "-rw-r--r-- 1 vagrant vagrant  111 Nov 22  2017 unit1.ads\n",
    "-rw-r--r-- 1 vagrant vagrant  125 Nov 22  2017 unit1.adb\n",
    "-rw-r--r-- 1 vagrant vagrant  111 Nov 22  2017 unit2.ads\n",
    "-rw-r--r-- 1 vagrant vagrant  125 Nov 22  2017 unit2.adb\n",
    "-rw-r--r-- 1 vagrant vagrant  395 Nov 22  2017 main.c\n",
    "-rw-r--r-- 1 vagrant vagrant  233 Jan 19  2018 Makefile\n",
    "-rw-r--r-- 1 vagrant vagrant 1.9K Dec 11 15:08 main.o\n",
    "-rw-r--r-- 1 vagrant vagrant 1.3K Dec 11 15:08 unit1.o\n",
    "-rw-r--r-- 1 vagrant vagrant  387 Dec 11 15:08 unit1.ali\n",
    "-rw-r--r-- 1 vagrant vagrant 1.3K Dec 11 15:08 unit2.o\n",
    "-rw-r--r-- 1 vagrant vagrant  387 Dec 11 15:08 unit2.ali\n",
    "-rwxr-xr-x 1 vagrant vagrant  17K Dec 11 15:08 main\n",
    "```\n",
    "\n",
    "\n",
    "_Reference:_ This section is based on the GNAT User Manual https://gcc.gnu.org/onlinedocs/gnat_ugn/Interfacing-to-C.html"
   ]
  },
  {
   "cell_type": "markdown",
   "metadata": {},
   "source": [
    "### How do I see the contents of a binary?\n",
    "\n",
    "```bash\n",
    "$ xxd <file>\n",
    "```\n",
    "\n",
    "```bash\n",
    "$ objdump -D -b binary -m i8086 <file>\n",
    "```"
   ]
  },
  {
   "cell_type": "markdown",
   "metadata": {
    "slideshow": {
     "slide_type": "subslide"
    }
   },
   "source": [
    "# Your turn!\n",
    "\n",
    "\n",
    "Try the above type of integration in the language/technology/framework of choice. Protocoll your steps in a script or a `Makefile`.\n",
    "\n",
    "  * **JVM** Call for example a bit of Kotlin code from Java\n",
    "  * **.Net** Try for example to call IronPython from C#, F# from C#"
   ]
  },
  {
   "cell_type": "markdown",
   "metadata": {
    "slideshow": {
     "slide_type": "skip"
    }
   },
   "source": [
    "\n",
    "---------------\n",
    "\n",
    "## Student Solutions\n",
    "\n",
    "### Java & Kotlin\n",
    "```java\n",
    "// JAVA FILE\n",
    "package test;\n",
    "public class Hello {\n",
    "\n",
    "    public static void main(String[] args) {\n",
    "        System.out.println(\"Hi from Java\");\n",
    "    }\n",
    "}\n",
    "```\n",
    "\n",
    "```bash\n",
    "// EXECUTE IN TERMINAL\n",
    "javac Hello.java\n",
    "```\n",
    "\n",
    "```kotlin\n",
    "// KOTLIN FILE\n",
    "import test.Hello\n",
    "\n",
    "fun main(args: Array<String>) {\n",
    "    println(Hello.main(null))\n",
    "}\n",
    "```\n",
    "\n",
    "----------------"
   ]
  },
  {
   "cell_type": "markdown",
   "metadata": {
    "slideshow": {
     "slide_type": "slide"
    }
   },
   "source": [
    "# Integration via Shared Libraries\n",
    "\n",
    "![](images/li_so.png)\n",
    "\n",
    "The code for this example can be found under `lang_integration/cpp_so_from_ruby`."
   ]
  },
  {
   "cell_type": "markdown",
   "metadata": {
    "slideshow": {
     "slide_type": "subslide"
    }
   },
   "source": [
    "Let's say we have a bit of C++ code, which we want to make accesible from another language, which knows how to call shared libraries (`.so`/`.dll`) files.\n",
    "\n",
    "Below, we have a C++ function which can compute the line-wise average of a 2D-numerical array. First the header file `code.h`:\n",
    "\n",
    "```cpp\n",
    "#include <vector>\n",
    "\n",
    "std::vector<double> average (std::vector< std::vector<double> > i_matrix);\n",
    "```\n"
   ]
  },
  {
   "cell_type": "markdown",
   "metadata": {
    "slideshow": {
     "slide_type": "subslide"
    }
   },
   "source": [
    "and the actual implementation in a file called `code.cpp`\n",
    "```cpp\n",
    "#include <vector>\n",
    "#include \"code.h\"\n",
    "\n",
    "using namespace std;\n",
    "\n",
    "vector<double> average (vector< vector<double> > i_matrix) {\n",
    "\n",
    "  // Compute average of each row..\n",
    "  vector <double> averages;\n",
    "  for (int r = 0; r < i_matrix.size(); r++){\n",
    "    double rsum = 0.0;\n",
    "    double ncols= i_matrix[r].size();\n",
    "    for (int c = 0; c < i_matrix[r].size(); c++){\n",
    "      rsum += i_matrix[r][c];\n",
    "    }\n",
    "    averages.push_back(rsum/ncols);\n",
    "  }\n",
    "  return averages;\n",
    "}\n",
    "```"
   ]
  },
  {
   "cell_type": "markdown",
   "metadata": {
    "slideshow": {
     "slide_type": "subslide"
    }
   },
   "source": [
    "### A SWIG Interface\n",
    "\n",
    "With a tool called SWIG (http://www.swig.org), we can declare which parts of that code should be accesible, e.g., to Ruby and build a shared library out of it."
   ]
  },
  {
   "cell_type": "markdown",
   "metadata": {
    "slideshow": {
     "slide_type": "subslide"
    }
   },
   "source": [
    "#### SWIG?\n",
    "\n",
    "  > SWIG is a software development tool that connects programs written in C and C++ with a variety of high-level programming languages. SWIG is used with different types of target languages including common scripting languages such as Javascript, Perl, PHP, Python, Tcl and Ruby. The list of supported languages also includes non-scripting languages such as C#, ..., D, Go language, Java including Android, Lua, Modula-3, OCAML, Octave, Scilab and R.\n",
    "  > http://www.swig.org"
   ]
  },
  {
   "cell_type": "markdown",
   "metadata": {
    "slideshow": {
     "slide_type": "subslide"
    }
   },
   "source": [
    "SWIG requires an interface file such as the following `code.i`:\n",
    "\n",
    "```swig\n",
    "%module code\n",
    "%{\n",
    "#include \"code.h\"\n",
    "%}\n",
    "%include \"std_vector.i\"\n",
    "namespace std {\n",
    "\n",
    "  /* On a side note, the names VecDouble and VecVecdouble can be changed, but the order of first the inner vector matters! */\n",
    "  %template(VecDouble) vector<double>;\n",
    "  %template(VecVecdouble) vector< vector<double> >;\n",
    "}\n",
    "\n",
    "%include \"code.h\"\n",
    "```"
   ]
  },
  {
   "cell_type": "markdown",
   "metadata": {
    "slideshow": {
     "slide_type": "subslide"
    }
   },
   "source": [
    "\n",
    "### Building the Code\n",
    "\n",
    "#### First Using A Ruby Helper for Building a `Makefile`\n",
    "\n",
    "The following Ruby code in a file called `extconf.rb` will create a `Makefile` which we can use for building the C++ code into a shared library:\n",
    "\n",
    "```ruby\n",
    "require 'mkmf'\n",
    "system('swig -c++ -ruby code.i') or abort\n",
    "create_makefile('code')\n",
    "```"
   ]
  },
  {
   "cell_type": "markdown",
   "metadata": {
    "slideshow": {
     "slide_type": "subslide"
    }
   },
   "source": [
    "### Create a Wrapper and a `Makefile`\n",
    "\n",
    "```bash\n",
    "$ ruby extconf.rb  # Create wrapper and Makefile\n",
    "$ make             # Compile to code.so\n",
    "```\n"
   ]
  },
  {
   "cell_type": "markdown",
   "metadata": {
    "slideshow": {
     "slide_type": "subslide"
    }
   },
   "source": [
    "### Running the Code\n",
    "\n",
    "\n",
    "In case you have the file `cli_avg.rb` with the following code\n",
    "\n",
    "```ruby\n",
    "p Code::average([[1,2,3],[4,5,6,7]])\n",
    "```\n",
    "\n",
    "you can run it by adding the library directly from the CLI:\n",
    "\n",
    "```bash\n",
    "$ ruby -r./code cli_avg.rb\n",
    "```\n",
    "\n",
    "Similarly, for running the interactive shell you have to add the link to the shared librery too:\n",
    "\n",
    "```bash\n",
    "$ irb -r./code     # try it\n",
    "```\n"
   ]
  },
  {
   "cell_type": "markdown",
   "metadata": {
    "slideshow": {
     "slide_type": "subslide"
    }
   },
   "source": [
    "_References:_\n",
    "\n",
    "This section is based on the following two sources:\n",
    "  * https://stackoverflow.com/a/23865947\n",
    "  * http://www.davidegrayson.com/presentations/20140910-swig-ruby/swig-ruby.pdf\n",
    "  * https://stackoverflow.com/a/9688536\n"
   ]
  },
  {
   "cell_type": "markdown",
   "metadata": {
    "slideshow": {
     "slide_type": "subslide"
    }
   },
   "source": [
    "## Using SWIG Manually\n",
    "\n",
    "The code for this example can be found under `lang_integration/cpp_so_from_python`.\n",
    "\n",
    "With an interface file, you have to tell SWIG, which parts of your C/C++ code you want to make accessible to another language.\n",
    "\n",
    "```swig\n",
    "%module code\n",
    "%{\n",
    "#include \"code.h\"\n",
    "%}\n",
    "%include \"std_vector.i\"\n",
    "namespace std {\n",
    "\n",
    "  /* On a side note, the names VecDouble and VecVecdouble can be changed, but the order of first the inner vector matters! */\n",
    "  %template(VecDouble) vector<double>;\n",
    "  %template(VecVecdouble) vector< vector<double> >;\n",
    "}\n",
    "\n",
    "%include \"code.h\"\n",
    "```\n",
    "\n",
    "Below is the C++ interface and implementation of the code, which we want to call from Python as a normal module.\n",
    "\n",
    "```cpp\n",
    "#ifndef _code\n",
    "#define _code\n",
    "\n",
    "#include <vector>\n",
    "\n",
    "std::vector<double> average (std::vector< std::vector<double> > i_matrix);\n",
    "\n",
    "#endif\n",
    "```\n",
    "\n",
    "```cpp\n",
    "#include <vector>\n",
    "#include \"code.h\"\n",
    "\n",
    "using namespace std;\n",
    "\n",
    "vector<double> average (vector< vector<double> > i_matrix) {\n",
    "\n",
    "  // Compute average of each row..\n",
    "  vector <double> averages;\n",
    "  for (int r = 0; r < i_matrix.size(); r++){\n",
    "    double rsum = 0.0;\n",
    "    double ncols= i_matrix[r].size();\n",
    "    for (int c = 0; c< i_matrix[r].size(); c++){\n",
    "      rsum += i_matrix[r][c];\n",
    "    }\n",
    "    averages.push_back(rsum/ncols);\n",
    "  }\n",
    "  return averages;\n",
    "}\n",
    "```\n",
    "\n",
    "\n",
    "### Building the Code into a Shared Library, which can be imported in Python\n",
    "\n",
    "\n",
    "```bash\n",
    "$ ls -ltrh\n",
    "total 20K\n",
    "-rw-r--r-- 1 vagrant vagrant 315 Nov 21  2017 code.i\n",
    "-rw-r--r-- 1 vagrant vagrant 436 Nov 21  2017 code.cpp\n",
    "-rw-r--r-- 1 vagrant vagrant 131 Nov 21  2017 code.h\n",
    "-rw-r--r-- 1 vagrant vagrant 100 Dec 12  2017 cli_avg.py\n",
    "-rw-r--r-- 1 vagrant vagrant 356 Dec 12  2017 Makefile\n",
    "$ g++ -c -fPIC code.cpp\n",
    "$ ls -ltrh\n",
    "total 56K\n",
    "-rw-r--r-- 1 vagrant vagrant 315 Nov 21  2017 code.i\n",
    "-rw-r--r-- 1 vagrant vagrant 436 Nov 21  2017 code.cpp\n",
    "-rw-r--r-- 1 vagrant vagrant 131 Nov 21  2017 code.h\n",
    "-rw-r--r-- 1 vagrant vagrant 100 Dec 12  2017 cli_avg.py\n",
    "-rw-r--r-- 1 vagrant vagrant 356 Dec 12  2017 Makefile\n",
    "-rw-r--r-- 1 vagrant vagrant 34K Dec 11  2018 code.o\n",
    "$ swig -c++ -python code.i\n",
    "$ ls -ltrh\n",
    "total 436K\n",
    "-rw-r--r-- 1 vagrant vagrant  315 Nov 21  2017 code.i\n",
    "-rw-r--r-- 1 vagrant vagrant  436 Nov 21  2017 code.cpp\n",
    "-rw-r--r-- 1 vagrant vagrant  131 Nov 21  2017 code.h\n",
    "-rw-r--r-- 1 vagrant vagrant  100 Dec 12  2017 cli_avg.py\n",
    "-rw-r--r-- 1 vagrant vagrant  356 Dec 12  2017 Makefile\n",
    "-rw-r--r-- 1 vagrant vagrant  34K Dec 11  2018 code.o\n",
    "-rw-r--r-- 1 vagrant vagrant 365K Dec 11  2018 code_wrap.cxx\n",
    "-rw-r--r-- 1 vagrant vagrant  11K Dec 11  2018 code.py\n",
    "$ g++ -c -fPIC code_wrap.cxx  -I/usr/include/python2.7 -I/usr/lib/python2.7\n",
    "$ ls -ltrh\n",
    "total 1.1M\n",
    "-rw-r--r-- 1 vagrant vagrant  315 Nov 21  2017 code.i\n",
    "-rw-r--r-- 1 vagrant vagrant  436 Nov 21  2017 code.cpp\n",
    "-rw-r--r-- 1 vagrant vagrant  131 Nov 21  2017 code.h\n",
    "-rw-r--r-- 1 vagrant vagrant  100 Dec 12  2017 cli_avg.py\n",
    "-rw-r--r-- 1 vagrant vagrant  356 Dec 12  2017 Makefile\n",
    "-rw-r--r-- 1 vagrant vagrant  34K Dec 11  2018 code.o\n",
    "-rw-r--r-- 1 vagrant vagrant 365K Dec 11  2018 code_wrap.cxx\n",
    "-rw-r--r-- 1 vagrant vagrant  11K Dec 11  2018 code.py\n",
    "-rw-r--r-- 1 vagrant vagrant 665K Dec 11  2018 code_wrap.o\n",
    "$ g++ -shared -Wl,-soname,_code.so -o _code.so code.o code_wrap.o\n",
    "$ ls -ltrh\n",
    "total 1.6M\n",
    "-rw-r--r-- 1 vagrant vagrant  315 Nov 21  2017 code.i\n",
    "-rw-r--r-- 1 vagrant vagrant  436 Nov 21  2017 code.cpp\n",
    "-rw-r--r-- 1 vagrant vagrant  131 Nov 21  2017 code.h\n",
    "-rw-r--r-- 1 vagrant vagrant  100 Dec 12  2017 cli_avg.py\n",
    "-rw-r--r-- 1 vagrant vagrant  356 Dec 12  2017 Makefile\n",
    "-rw-r--r-- 1 vagrant vagrant  34K Dec 11  2018 code.o\n",
    "-rw-r--r-- 1 vagrant vagrant 365K Dec 11  2018 code_wrap.cxx\n",
    "-rw-r--r-- 1 vagrant vagrant  11K Dec 11  2018 code.py\n",
    "-rw-r--r-- 1 vagrant vagrant 665K Dec 11  2018 code_wrap.o\n",
    "-rwxr-xr-x 1 vagrant vagrant 464K Dec 11  2018 _code.so\n",
    "```\n",
    "\n",
    "If you now had a Python program, called `cli_avg.py`, with the following code:\n",
    "\n",
    "```python\n",
    "import code\n",
    "\n",
    "\n",
    "a = [[3, 5, 7], [8, 10, 12, 13]]\n",
    "b = code.average(a)\n",
    "print(a, b)\n",
    "```\n",
    "\n",
    "You could run it via `python cli_avg.py`. Here you have to use Python 2.7 as we were building the shared library for that version (`g++ -c -fPIC code_wrap.cxx  -I/usr/include/python2.7 -I/usr/lib/python2.7`) \n",
    "\n",
    "_Reference:_ This section is based on https://stackoverflow.com/a/23865947"
   ]
  },
  {
   "cell_type": "markdown",
   "metadata": {
    "slideshow": {
     "slide_type": "subslide"
    }
   },
   "source": [
    "# Your turn!\n",
    "\n",
    "\n",
    "Use the aboce C++ code together with SWIG to create a language binding for the language of your choice.\n",
    "\n",
    "Use the official SWIG documentation at http://www.swig.org/Doc3.0/SWIGDocumentation.html."
   ]
  },
  {
   "cell_type": "markdown",
   "metadata": {
    "slideshow": {
     "slide_type": "slide"
    }
   },
   "source": [
    "# Integration by Transpilation\n",
    "\n",
    "![](images/li_trans.png)\n",
    "\n",
    "The code for this example can be found under `lang_integration/fortran77_to_c`."
   ]
  },
  {
   "cell_type": "markdown",
   "metadata": {
    "slideshow": {
     "slide_type": "subslide"
    }
   },
   "source": [
    "### Modernising an old Fortran Program...\n",
    "\n",
    "\n",
    "The following Fortran 77 program is taken from here: https://en.wikibooks.org/wiki/Fortran/Fortran_examples#FORTRAN_77\n",
    "\n",
    "It finds the greatest common divisor read from user input.\n",
    "\n",
    "```Fortran\n",
    "*     euclid.f (FORTRAN 77)\n",
    "*     Find greatest common divisor using the Euclidean algorithm\n",
    "\n",
    "      PROGRAM EUCLID\n",
    "        PRINT *, 'A?'\n",
    "        READ *, NA\n",
    "        IF (NA.LE.0) THEN\n",
    "          PRINT *, 'A must be a positive integer.'\n",
    "          STOP\n",
    "        END IF\n",
    "        PRINT *, 'B?'\n",
    "        READ *, NB\n",
    "        IF (NB.LE.0) THEN\n",
    "          PRINT *, 'B must be a positive integer.'\n",
    "          STOP\n",
    "        END IF\n",
    "        PRINT *, 'The GCD of', NA, ' and', NB, ' is', NGCD(NA, NB), '.'\n",
    "        STOP\n",
    "      END\n",
    "\n",
    "      FUNCTION NGCD(NA, NB)\n",
    "        IA = NA\n",
    "        IB = NB\n",
    "    1   IF (IB.NE.0) THEN\n",
    "          ITEMP = IA\n",
    "          IA = IB\n",
    "          IB = MOD(ITEMP, IB)\n",
    "          GOTO 1\n",
    "        END IF\n",
    "        NGCD = IA\n",
    "        RETURN\n",
    "      END\n",
    "```"
   ]
  },
  {
   "cell_type": "markdown",
   "metadata": {
    "slideshow": {
     "slide_type": "subslide"
    }
   },
   "source": [
    "As you can see in the list of generated files, `fort77` -which relies on `f2c` for the actual conversion into C code-, creates a C program (`GCD.c`). This is in turn compiled and linked into the `gcd` binary.\n",
    "\n",
    "```bash\n",
    "\n",
    "$ ls -ltrh\n",
    "total 16K\n",
    "-rwxr-xr-x 1 vagrant vagrant  737 Nov 22  2017 GCD.f\n",
    "-rw-r--r-- 1 vagrant vagrant  166 Nov 22  2017 main.c\n",
    "-rw-r--r-- 1 vagrant vagrant 1.6K Nov 22  2017 main.o\n",
    "-rw-r--r-- 1 vagrant vagrant   73 Dec 12  2017 Makefile\n",
    "$ fort77 GCD.f -o gcd\n",
    "   MAIN euclid:\n",
    "   ngcd:\n",
    "$ ls -ltrh\n",
    "total 28K\n",
    "-rwxr-xr-x 1 vagrant vagrant  737 Nov 22  2017 GCD.f\n",
    "-rw-r--r-- 1 vagrant vagrant  166 Nov 22  2017 main.c\n",
    "-rw-r--r-- 1 vagrant vagrant 1.6K Nov 22  2017 main.o\n",
    "-rw-r--r-- 1 vagrant vagrant   73 Dec 12  2017 Makefile\n",
    "-rwxr-xr-x 1 vagrant vagrant 9.5K Dec 11  2018 gcd\n",
    "$ ./gcd\n",
    " A?\n",
    "12\n",
    " B?\n",
    "36\n",
    " The GCD of 12 and 36 is 12.\n",
    "```"
   ]
  },
  {
   "cell_type": "markdown",
   "metadata": {
    "slideshow": {
     "slide_type": "subslide"
    }
   },
   "source": [
    "# Integrating with other Technological Domains\n",
    "\n",
    "![](images/li_trans.png)\n",
    "\n",
    "The code for this example can be found under `lang_integration/nim_to_js`."
   ]
  },
  {
   "cell_type": "markdown",
   "metadata": {
    "slideshow": {
     "slide_type": "subslide"
    }
   },
   "source": [
    "```html\n",
    "<html>\n",
    "  <body>\n",
    "    <script type=\"text/javascript\">\n",
    "    function addTwoIntegers(a, b)\n",
    "    {\n",
    "      return a + b;\n",
    "    }\n",
    "    </script>\n",
    "    <script type=\"text/javascript\" src=\"calculator.js\"></script>\n",
    "  </body>\n",
    "</html>\n",
    "```"
   ]
  },
  {
   "cell_type": "markdown",
   "metadata": {
    "slideshow": {
     "slide_type": "subslide"
    }
   },
   "source": [
    "### Nim (C) Code calling a JavaScript Function\n",
    "\n",
    "```nim\n",
    "proc addTwoIntegers(a, b: int): int {.importc.}\n",
    "\n",
    "when isMainModule:\n",
    "  echo addTwoIntegers(3, 7)\n",
    "```"
   ]
  },
  {
   "cell_type": "markdown",
   "metadata": {
    "slideshow": {
     "slide_type": "subslide"
    }
   },
   "source": [
    "### Building the Code\n",
    "\n",
    "```bash\n",
    "$ ls -ltrh\n",
    "total 12K\n",
    "-rw-r--r-- 1 vagrant vagrant  96 Nov 22  2017 calculator.nim\n",
    "-rw-r--r-- 1 vagrant vagrant 215 Nov 22  2017 host.html\n",
    "-rw-r--r-- 1 vagrant vagrant  73 Dec 11  2018 Makefile\n",
    "$ nim js -o:calculator.js calculator.nim\n",
    "Hint: used config file '/home/vagrant/nim-0.17.2/config/nim.cfg' [Conf]\n",
    "Hint: system [Processing]\n",
    "Hint: calculator [Processing]\n",
    "Hint: operation successful (5475 lines compiled; 0.030 sec total; 3.758MiB peakmem; Debug Build) [SuccessX]\n",
    "$ ls -ltrh\n",
    "total 16K\n",
    "-rw-r--r-- 1 vagrant vagrant   96 Nov 22  2017 calculator.nim\n",
    "-rw-r--r-- 1 vagrant vagrant  215 Nov 22  2017 host.html\n",
    "-rw-r--r-- 1 vagrant vagrant   73 Dec 11  2018 Makefile\n",
    "-rw-r--r-- 1 vagrant vagrant 2.7K Dec 11  2018 calculator.js\n",
    "```"
   ]
  },
  {
   "cell_type": "markdown",
   "metadata": {
    "slideshow": {
     "slide_type": "subslide"
    }
   },
   "source": [
    "![](images/nim_js.png)"
   ]
  },
  {
   "cell_type": "markdown",
   "metadata": {
    "slideshow": {
     "slide_type": "slide"
    }
   },
   "source": [
    "### Integration via AST-rewriting\n",
    "\n",
    "![](images/li_ast_rewrite.png)\n",
    "\n",
    "The code for this example can be found under `lang_integration/hy_to_python`\n",
    "\n",
    "\n",
    "#### Hylang http://hylang.org\n",
    "\n",
    "```lisp\n",
    "(defn simple-conversation []\n",
    "   (print \"Hello!  I'd like to get to know you.  Tell me about yourself!\")\n",
    "   (setv name (raw-input \"What is your name? \"))\n",
    "   (setv age (raw-input \"What is your age? \"))\n",
    "   (print (+ \"Hello \" name \"!  I see you are \"\n",
    "              age \" years old.\")))\n",
    "\n",
    "(simple-conversation)\n",
    "```\n",
    "\n",
    "#### To Python\n",
    "```bash\n",
    "$ hy example.hy\n",
    "Hello!  I'd like to get to know you.  Tell me about yourself!\n",
    "What is your name? Bumm\n",
    "What is your age? 4\n",
    "Hello Bumm!  I see you are 4 years old.\n",
    "$ hy2py example.hy\n",
    "from hy.core.language import name\n",
    "\n",
    "\n",
    "def simple_conversation():\n",
    "    print(u\"Hello!  I'd like to get to know you.  Tell me about yourself!\")\n",
    "    name = raw_input(u'What is your name? ')\n",
    "    age = raw_input(u'What is your age? ')\n",
    "    return print(u'Hello ' + name + u'!  I see you are ' + age + u' years old.'\n",
    "        )\n",
    "\n",
    "\n",
    "simple_conversation()\n",
    "```\n"
   ]
  },
  {
   "cell_type": "markdown",
   "metadata": {
    "slideshow": {
     "slide_type": "slide"
    }
   },
   "source": [
    "# Embedding an other Language as String\n",
    "\n",
    "\n",
    "![](images/li_embed.png)\n",
    "\n",
    "### SQL Embedded in Java\n",
    "\n",
    "```java\n",
    "package dk.cphbusiness.db.neo4j.intro;\n",
    "\n",
    "import java.sql.Connection;\n",
    "import java.sql.DriverManager;\n",
    "import java.sql.ResultSet;\n",
    "import java.sql.SQLException;\n",
    "import java.sql.Statement;\n",
    "\n",
    "\n",
    "public class ConnectionTest {\n",
    "\n",
    "    public static void main(String[] args) {\n",
    "        Connection con = null;\n",
    "        Statement st = null;\n",
    "        ResultSet rs = null;\n",
    "\n",
    "        String url = \"jdbc:mysql://localhost:3306/your_db\";\n",
    "        String user = \"root\";\n",
    "        String password = \"pwd\";\n",
    "\n",
    "        String query = \"SELECT * FROM your_db.t_user\";\n",
    "\n",
    "        try {\n",
    "\n",
    "            con = DriverManager.getConnection(url, user, password);\n",
    "\n",
    "            st = con.createStatement();\n",
    "            rs = st.executeQuery(query);\n",
    "\n",
    "            if (rs.next()) {                \n",
    "                System.out.println(rs.getString(1));\n",
    "            }\n",
    "\n",
    "        } catch (SQLException ex) {\n",
    "            System.err.println(ex.getMessage());\n",
    "            System.err.println(ex);\n",
    "        } finally { \n",
    "            try {\n",
    "                if (rs != null) {\n",
    "                    rs.close();\n",
    "                }\n",
    "                if (st != null) {\n",
    "                    st.close();\n",
    "                }\n",
    "                if (con != null) {\n",
    "                    con.close();\n",
    "                }\n",
    "            } catch (SQLException ex) {\n",
    "                System.err.println(ex.getMessage());\n",
    "                System.err.println(ex);\n",
    "            }\n",
    "        }\n",
    "    }\n",
    "}\n",
    "```\n",
    "\n",
    "### Cypher Embedded in Java\n",
    "\n",
    "\n",
    "```java\n",
    "package dk.cphbusiness.db.neo4j.intro;\n",
    "\n",
    "import org.neo4j.driver.v1.*;\n",
    "\n",
    "public class ConnectionTest {\n",
    "\n",
    "    public static void main(String[] args) {\n",
    "        Driver driver = GraphDatabase.driver( \n",
    "                \"bolt://localhost:7687\", \n",
    "                AuthTokens.basic( \"neo4j\", \"class\" ) );\n",
    "        Session session = driver.session();\n",
    "\n",
    "        // Run a query matching all nodes\n",
    "        StatementResult result = session.run( \n",
    "                \"MATCH (s)\" +\n",
    "                \"RETURN s.name AS name, s.job AS job\");\n",
    "\n",
    "        while ( result.hasNext() ) {\n",
    "            Record record = result.next();\n",
    "            System.out.println( record.get(\"name\").asString() );\n",
    "        }\n",
    "\n",
    "        session.close();\n",
    "        driver.close();\n",
    "    }\n",
    "}\n",
    "```\n",
    "\n",
    "--------------------------"
   ]
  },
  {
   "cell_type": "markdown",
   "metadata": {
    "slideshow": {
     "slide_type": "slide"
    }
   },
   "source": [
    "# Embedding another Language's Interpreter Directly\n",
    "\n",
    "![](images/li_embed_inter.png)\n",
    "\n",
    "\n",
    "Some languages are design as extension languages. Lua (http://www.lua.org) is one of such. Usually, you embed the entire Lua interpreter via a library into your program.\n",
    "\n",
    "The code for this example can be found under `lang_integration/lua_from_c`.\n",
    "\n",
    "\n",
    "In the following a possible Lua script, which is interpreted as a configuration file by the C program below.\n",
    "\n",
    "```lua\n",
    "-- configuration file for program `pp'\n",
    "if getenv(\"DISPLAY\") == \":0.0\" then\n",
    "  width = 300; height = 300\n",
    "else\n",
    "  width = 200; height = 200\n",
    "end\n",
    "```\n",
    "------------\n",
    "```c\n",
    "#include <stdio.h>\n",
    "#include \"lua.h\"\n",
    "#include \"lauxlib.h\"\n",
    "#include \"lualib.h\"\n",
    "\n",
    "void load (char *filename, int *width, int *height) {\n",
    "  lua_State *L = lua_open();\n",
    "  luaopen_base(L);\n",
    "  luaopen_io(L);\n",
    "  luaopen_string(L);\n",
    "  luaopen_math(L);\n",
    "\n",
    "  if (luaL_loadfile(L, filename) || lua_pcall(L, 0, 0, 0))\n",
    "    error(L, \"cannot run configuration file: %s\",\n",
    "             lua_tostring(L, -1));\n",
    "\n",
    "  lua_getglobal(L, \"width\");\n",
    "  lua_getglobal(L, \"height\");\n",
    "  if (!lua_isnumber(L, -2))\n",
    "    error(L, \"`width' should be a number\\n\");\n",
    "  if (!lua_isnumber(L, -1))\n",
    "    error(L, \"`height' should be a number\\n\");\n",
    "  *width = (int)lua_tonumber(L, -2);\n",
    "  *height = (int)lua_tonumber(L, -1);\n",
    "\n",
    "  lua_close(L);\n",
    "}\n",
    "\n",
    "int main() {\n",
    "    int width = 10;\n",
    "    int height = 5;\n",
    "    int *width_p = &width;\n",
    "    int *height_p = &height;\n",
    "    load(\"config.lua\", width_p, height_p);\n",
    "    printf(\"%d, %d\\\\n\", *width_p, *height_p);\n",
    "    return 0;\n",
    "}\n",
    "```\n",
    "\n",
    "_Reference:_ This section is based on http://www.lua.org/pil/25.html\n",
    "\n",
    "\n",
    "# Your turn!\n",
    "\n",
    "Write and **build** a C program with the code from above that consumes the Lua configuration script and prints the product of the two variables `width` and `height`. The product shall be computed in the C host program.\n",
    "\n",
    "--------------------------"
   ]
  },
  {
   "cell_type": "code",
   "execution_count": null,
   "metadata": {
    "slideshow": {
     "slide_type": "skip"
    }
   },
   "outputs": [],
   "source": [
    "gcc -I/usr/include/lua5.3 -ansi -pedantic -Wall -Wextra -O2 pp.c\n"
   ]
  }
 ],
 "metadata": {
  "celltoolbar": "Slideshow",
  "kernelspec": {
   "display_name": "Python 3",
   "language": "python",
   "name": "python3"
  },
  "language_info": {
   "codemirror_mode": {
    "name": "ipython",
    "version": 3
   },
   "file_extension": ".py",
   "mimetype": "text/x-python",
   "name": "python",
   "nbconvert_exporter": "python",
   "pygments_lexer": "ipython3",
   "version": "3.6.4"
  }
 },
 "nbformat": 4,
 "nbformat_minor": 2
}
