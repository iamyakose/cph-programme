{
 "cells": [
  {
   "cell_type": "markdown",
   "metadata": {
    "slideshow": {
     "slide_type": "slide"
    }
   },
   "source": [
    "# Services???\n",
    "\n",
    "  * Service\n",
    "  * Microservice\n",
    "  * Webservice\n",
    "  * Softwareservice"
   ]
  },
  {
   "cell_type": "markdown",
   "metadata": {
    "slideshow": {
     "slide_type": "slide"
    }
   },
   "source": [
    "# Services???\n",
    "\n",
    "  * Service\n",
    "  * Microservice\n",
    "  * Webservice\n",
    "  * Softwareservice"
   ]
  },
  {
   "cell_type": "markdown",
   "metadata": {
    "slideshow": {
     "slide_type": "subslide"
    }
   },
   "source": [
    "# What is a Microservice?\n",
    "\n",
    "  > * 1000 lines or fewer?\n",
    "  > * Deployed in a Docker container?\n",
    "  > * Written in Node?"
   ]
  },
  {
   "cell_type": "markdown",
   "metadata": {
    "slideshow": {
     "slide_type": "subslide"
    }
   },
   "source": [
    "## Perspective: Size\n",
    "\n",
    "  > A single programmer can design, implement, deploy, and maintain.\n",
    "  > \n",
    "  > Fred George, https://www.infoq.com/news/2015/07/microservices-programming-style\n",
    "\n",
    "----------\n",
    "  > Software that fits in your head.\n",
    "  >\n",
    "  > Dan North, https://www.infoq.com/presentations/microservices-replaceability-consistency"
   ]
  },
  {
   "cell_type": "markdown",
   "metadata": {
    "slideshow": {
     "slide_type": "subslide"
    }
   },
   "source": [
    "## Persepctive: Data\n",
    "\n",
    "  > A microservice implements a single bounded context.\n",
    "  > \n",
    "  > Martin Fowler, Sam Newman, https://martinfowler.com/bliki/BoundedContext.html\n",
    "\n",
    "<img src=\"https://martinfowler.com/bliki/images/boundedContext/sketch.png\" width=500px>\n"
   ]
  },
  {
   "cell_type": "markdown",
   "metadata": {
    "slideshow": {
     "slide_type": "subslide"
    }
   },
   "source": [
    "  > A single logical database per service.\n",
    "  >\n",
    "  > Chris Richardson, https://microservices.io/patterns/data/database-per-service.html\n",
    "  \n",
    "<img src=\"https://microservices.io/i/customersandorders.png\" width=400px>"
   ]
  },
  {
   "cell_type": "markdown",
   "metadata": {
    "slideshow": {
     "slide_type": "subslide"
    }
   },
   "source": [
    "## Perpective: Operations\n",
    "\n",
    "  > Built & deployed independently. Stateless; state as backing services.\n",
    "  >\n",
    "  > 12Factor.net, http://12factor.net/\n",
    "\n",
    "---------\n",
    "\n",
    "  > Addressable through a service discovery system.\n",
    "  > \n",
    "  > Chris Richardson, https://microservices.io/patterns/service-registry.html\n",
    "\n",
    "  "
   ]
  },
  {
   "cell_type": "markdown",
   "metadata": {
    "slideshow": {
     "slide_type": "subslide"
    }
   },
   "source": [
    "## Perspective: Architecture\n",
    "\n",
    "  * CRUD-oriented\n",
    "  * Typically RPC, often HTTP\n",
    "  * Request processing\n",
    "  * Monolith → microservices\n",
    "  * Ruby on Rails, Java+Tomcat/Jetty (Spring Boot), Scala+Akka/Play...\n",
    "  \n",
    "  \n",
    "  \n",
    "Source:\n",
    "  * The above five slides are adapted from Peter Bourgon's talk, see https://peter.bourgon.org/applied-go-kit/#5\n",
    "  * The talk itself: https://www.youtube.com/watch?v=JXEjAwNWays"
   ]
  },
  {
   "cell_type": "markdown",
   "metadata": {
    "slideshow": {
     "slide_type": "slide"
    }
   },
   "source": [
    "# Microservices\n",
    "\n",
    "I am going for the following definition\n",
    "\n",
    "  > Microservices are small, autonomous services that work together\n",
    "  > \n",
    "  > Sam Newman. Building Microservices."
   ]
  },
  {
   "cell_type": "markdown",
   "metadata": {
    "slideshow": {
     "slide_type": "subslide"
    }
   },
   "source": [
    "  * Small, and Focused on Doing One Thing Well\n",
    "  * Autonomous:\n",
    "    - a microservice is a separate entity. It might be deployed as an isolated service on a platform as a service (PaaS), or it might be its own operating system process\n",
    "    - All communication between the services ... via network calls, to enforce separation ...\n",
    "    - Services need to be able to change independently of each other, and be deployed by themselves without requiring consumers to change.\n",
    "    - \"Micro\" is aligned to team structures. If the codebase is too big to be managed by a small team, looking to break it down is very sensible."
   ]
  },
  {
   "cell_type": "markdown",
   "metadata": {
    "slideshow": {
     "slide_type": "subslide"
    }
   },
   "source": [
    "# The Monolith\n",
    "\n",
    "Micro-services can be thought of as the opposite to the monolith\n",
    "\n",
    "<img src=\"images/service_monolith.png\" width=600px>"
   ]
  },
  {
   "cell_type": "markdown",
   "metadata": {
    "slideshow": {
     "slide_type": "subslide"
    }
   },
   "source": [
    "# The Monolith Exists\n",
    "\n",
    "Submodule dependencies in the Linux kernel:\n",
    "![](https://cdn-images-1.medium.com/max/2000/1*4hAdaZsw1dptEybpt56VJQ.gif)\n"
   ]
  },
  {
   "cell_type": "markdown",
   "metadata": {
    "slideshow": {
     "slide_type": "subslide"
    }
   },
   "source": [
    "# A Service-oriented Architecture\n",
    "\n",
    "<img src=\"images/service_oriented.png\" width=600px>\n"
   ]
  },
  {
   "cell_type": "markdown",
   "metadata": {
    "slideshow": {
     "slide_type": "subslide"
    }
   },
   "source": [
    "# What did you do?\n",
    "\n",
    "\n",
    "  * What did you build in your LSD Project?\n",
    "  * What did you build in your SI Project?\n"
   ]
  },
  {
   "cell_type": "markdown",
   "metadata": {
    "slideshow": {
     "slide_type": "slide"
    }
   },
   "source": [
    "# What Should Be a Service?\n",
    "\n",
    "How do you decide when a piece of an application or system should be separated out into its own service?\n",
    "\n"
   ]
  },
  {
   "cell_type": "markdown",
   "metadata": {
    "slideshow": {
     "slide_type": "subslide"
    }
   },
   "source": [
    "## Dividing into Services\n",
    "\n",
    "\n",
    "High-level guidelines:\n",
    "  \n",
    "  * Specific business requirements\n",
    "  * Distinct and separable team ownership\n",
    "  * Naturally separable data\n",
    "  * Shared capabilities/data"
   ]
  },
  {
   "cell_type": "markdown",
   "metadata": {
    "slideshow": {
     "slide_type": "subslide"
    }
   },
   "source": [
    "### Guideline #1: Specific Business Requirements\n",
    "\n",
    "In some cases, there are business requirements that dictate a service's boundary.\n",
    "\n",
    "These might be:\n",
    "\n",
    "  * Legal/regulatory requirements\n",
    "  * Security\n",
    "  * Validation\n",
    "  * Restricting access"
   ]
  },
  {
   "cell_type": "markdown",
   "metadata": {
    "slideshow": {
     "slide_type": "subslide"
    }
   },
   "source": [
    "\n",
    "### Guideline #2: Distinct and Separable Team Ownership\n",
    "\n",
    "  * A single service should be owned and operated by a single team.\n",
    "  * Typically no larger than three to eight developers.\n",
    "  * Team should be responsible for all aspects of that service.\n",
    "  * A single team can own and operate more than one service.\n",
    "  * If several services are very similar in nature, it might be easier for a single team to manage all those services."
   ]
  },
  {
   "cell_type": "markdown",
   "metadata": {
    "slideshow": {
     "slide_type": "subslide"
    }
   },
   "source": [
    "### Guideline #3: Naturally Separable Data\n",
    "\n",
    "  * Services' state and data needs are separated from other data. \n",
    "  * It is problematic when multiple independent code bases operate on the same data. \n",
    "  * Separating the code and the ownership is only effective if you also separate the data. → **Encapsulation**"
   ]
  },
  {
   "cell_type": "markdown",
   "metadata": {
    "slideshow": {
     "slide_type": "subslide"
    }
   },
   "source": [
    "Can I meaningfully encapsulate data with the corresponding behaviour (API)?\n",
    "  - _Yes_, good candidate for a service\n",
    "  - _No_, not a good candidate for a service\n",
    "\n",
    "Services that need to operate on data owned by other services do so via published interfaces (APIs)\n",
    "\n",
    "<img src=\"images/service_data_sharing.png\" width=400px>"
   ]
  },
  {
   "cell_type": "markdown",
   "metadata": {
    "slideshow": {
     "slide_type": "subslide"
    }
   },
   "source": [
    "##### Should be strictly avoided\n",
    "\n",
    "<img src=\"images/service_data_sharing_incorrect.png\" width=400px>\n",
    "\n",
    "  * Problematic when data maintenance and schema migration activities occur.\n",
    "  * Can cause serious data versioning and data corruption issues\n"
   ]
  },
  {
   "cell_type": "markdown",
   "metadata": {
    "slideshow": {
     "slide_type": "subslide"
    }
   },
   "source": [
    "### Guideline #4: Shared Capabilities/Data\n",
    "\n",
    "\n",
    "Sometimes a service can be created simply because it is responsible for a set of capabilities and its data. These capabilities and data might need to be shared by a variety of other services.\n",
    "\n",
    "<img src=\"images/service_shared_cap.png\" width=400px>\n",
    "\n",
    "\n",
    "\n",
    "\n",
    "Source: \n",
    "The above slides are adapted from chapter 11 of _Architechting for Scale_"
   ]
  },
  {
   "cell_type": "markdown",
   "metadata": {
    "slideshow": {
     "slide_type": "subslide"
    }
   },
   "source": [
    "### How to do it?\n",
    "\n",
    "  * Loose Coupling\n",
    "  * High Cohesion\n",
    "\n",
    "Are your best friends as always when slicing big things :)"
   ]
  },
  {
   "cell_type": "markdown",
   "metadata": {
    "slideshow": {
     "slide_type": "subslide"
    }
   },
   "source": [
    "## Benefits of Services\n",
    "\n",
    "  * Technology Heterogeneity\n",
    "  <img src=\"images/services_benefits.png\" width=600px>\n",
    "\n"
   ]
  },
  {
   "cell_type": "markdown",
   "metadata": {
    "slideshow": {
     "slide_type": "fragment"
    }
   },
   "source": [
    "  * Resilience"
   ]
  },
  {
   "cell_type": "markdown",
   "metadata": {
    "slideshow": {
     "slide_type": "subslide"
    }
   },
   "source": [
    "  * Scaling\n",
    "  <img src=\"images/services_scaling.png\" width=600px>"
   ]
  },
  {
   "cell_type": "markdown",
   "metadata": {
    "slideshow": {
     "slide_type": "fragment"
    }
   },
   "source": [
    "  * Ease of Deployment\n",
    "  * Organizational Alignment\n",
    "  * Composability\n",
    "  * Optimizing for Replaceability"
   ]
  },
  {
   "cell_type": "markdown",
   "metadata": {
    "slideshow": {
     "slide_type": "slide"
    }
   },
   "source": [
    "## Drawbacks"
   ]
  },
  {
   "cell_type": "code",
   "execution_count": 3,
   "metadata": {},
   "outputs": [
    {
     "data": {
      "text/html": [
       "\n",
       "        <iframe\n",
       "            width=\"100%\"\n",
       "            height=\"500\"\n",
       "            src=\"https://peter.bourgon.org/applied-go-kit/#11\"\n",
       "            frameborder=\"0\"\n",
       "            allowfullscreen\n",
       "        ></iframe>\n",
       "        "
      ],
      "text/plain": [
       "<IPython.lib.display.IFrame at 0x111f39390>"
      ]
     },
     "execution_count": 3,
     "metadata": {},
     "output_type": "execute_result"
    }
   ],
   "source": [
    "from IPython.display import IFrame\n",
    "\n",
    "url = 'https://peter.bourgon.org/applied-go-kit/#11'\n",
    "IFrame(url, width='100%', height=500)"
   ]
  },
  {
   "cell_type": "code",
   "execution_count": 7,
   "metadata": {},
   "outputs": [
    {
     "data": {
      "text/html": [
       "\n",
       "        <iframe\n",
       "            width=\"100%\"\n",
       "            height=\"600\"\n",
       "            src=\"https://peter.bourgon.org/applied-go-kit/#12\"\n",
       "            frameborder=\"0\"\n",
       "            allowfullscreen\n",
       "        ></iframe>\n",
       "        "
      ],
      "text/plain": [
       "<IPython.lib.display.IFrame at 0x111f39668>"
      ]
     },
     "execution_count": 7,
     "metadata": {},
     "output_type": "execute_result"
    }
   ],
   "source": [
    "url = 'https://peter.bourgon.org/applied-go-kit/#12'\n",
    "IFrame(url, width='100%', height=600)"
   ]
  },
  {
   "cell_type": "code",
   "execution_count": 8,
   "metadata": {},
   "outputs": [
    {
     "data": {
      "text/html": [
       "\n",
       "        <iframe\n",
       "            width=\"100%\"\n",
       "            height=\"600\"\n",
       "            src=\"https://peter.bourgon.org/applied-go-kit/#13\"\n",
       "            frameborder=\"0\"\n",
       "            allowfullscreen\n",
       "        ></iframe>\n",
       "        "
      ],
      "text/plain": [
       "<IPython.lib.display.IFrame at 0x111f397f0>"
      ]
     },
     "execution_count": 8,
     "metadata": {},
     "output_type": "execute_result"
    }
   ],
   "source": [
    "url = 'https://peter.bourgon.org/applied-go-kit/#13'\n",
    "IFrame(url, width='100%', height=600)"
   ]
  },
  {
   "cell_type": "markdown",
   "metadata": {
    "slideshow": {
     "slide_type": "slide"
    }
   },
   "source": [
    "# Are there Service, which are no Webservices?"
   ]
  },
  {
   "cell_type": "markdown",
   "metadata": {
    "slideshow": {
     "slide_type": "subslide"
    }
   },
   "source": [
    "  * Shared Libraries\n",
    "  * Modules"
   ]
  },
  {
   "cell_type": "markdown",
   "metadata": {
    "slideshow": {
     "slide_type": "subslide"
    }
   },
   "source": [
    "  <img src=\"https://upload.wikimedia.org/wikipedia/commons/thumb/c/c9/Osgi-system-layering.svg/745px-Osgi-system-layering.svg.png\" width=400px>\n",
    "\n",
    "\n",
    "  <img src=\"https://upload.wikimedia.org/wikipedia/commons/c/cc/OSGi_Bundle_Life-Cycle.svg\" width=400px>\n",
    "\n"
   ]
  },
  {
   "cell_type": "markdown",
   "metadata": {
    "slideshow": {
     "slide_type": "slide"
    }
   },
   "source": [
    "# $X$aaS\n",
    "\n",
    "<img src=\"images/xaas.png\" width=800px>\n",
    "\n",
    "The book is already dated, where is FaaS? And what is that?\n",
    "\n",
    "What did you use in this terms projects?"
   ]
  },
  {
   "cell_type": "markdown",
   "metadata": {
    "slideshow": {
     "slide_type": "subslide"
    }
   },
   "source": [
    " * IaaS\n",
    "   - Digital Ocean\n",
    "   - Amazon Web Services\n",
    "   - Microsoft Azure\n",
    "   - Google Cloud\n",
    "   - and many more\n",
    " * PaaS\n",
    "   - Heroku\n",
    "   - Cloud Foundry\n",
    "   - Deis\n",
    "   - and many more\n",
    " * SaaS \n",
    "   - Your favorite DB\n",
    "   - Salesforce\n",
    "   - Microsoft Office 365\n",
    "   - Stripe\n",
    "   - etc.\n",
    " * FaaS"
   ]
  },
  {
   "cell_type": "markdown",
   "metadata": {
    "slideshow": {
     "slide_type": "subslide"
    }
   },
   "source": [
    "\n",
    "\n",
    "## Cloud computing\n",
    "\n",
    "  > Cloud computing: parts of a system is managed by someone else then you/your team/your company\n",
    "  >\n",
    "  > Chapter 9 _Go in Practice_\n"
   ]
  },
  {
   "cell_type": "markdown",
   "metadata": {
    "slideshow": {
     "slide_type": "fragment"
    }
   },
   "source": [
    "  * Is cloud a marketing term?\n",
    "     - → Yes. \n",
    "  * Is there something else fundamentally different going on? \n",
    "     - → Book says: Yes\n",
    "     - → I say: _hmm_\n",
    "     \n",
    "Source: Chapter 9 _Go in Practice_"
   ]
  }
 ],
 "metadata": {
  "celltoolbar": "Slideshow",
  "kernelspec": {
   "display_name": "Python 3",
   "language": "python",
   "name": "python3"
  },
  "language_info": {
   "codemirror_mode": {
    "name": "ipython",
    "version": 3
   },
   "file_extension": ".py",
   "mimetype": "text/x-python",
   "name": "python",
   "nbconvert_exporter": "python",
   "pygments_lexer": "ipython3",
   "version": "3.6.4"
  }
 },
 "nbformat": 4,
 "nbformat_minor": 2
}
