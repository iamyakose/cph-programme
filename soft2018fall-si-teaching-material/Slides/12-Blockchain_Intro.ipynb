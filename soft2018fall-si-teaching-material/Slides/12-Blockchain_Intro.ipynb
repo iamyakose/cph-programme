{
 "cells": [
  {
   "cell_type": "markdown",
   "metadata": {},
   "source": [
    "# Your turn at home!\n",
    "\n",
    "![](images/dev.gif)\n",
    "\n",
    "  * Read the following article https://www.igvita.com/2014/05/05/minimum-viable-block-chain/ and try to understand what are the necessary building blocks of a blockchain.\n",
    "  * Watch the following video https://youtu.be/_160oMzblY8 and play with the demo at https://anders.com/blockchain/.\n",
    "    - https://anders.com/blockchain/hash.html\n",
    "    - https://anders.com/blockchain/block.html  \n",
    "    - https://anders.com/blockchain/blockchain.html\n",
    "    - https://anders.com/blockchain/distributed.html\n",
    "    - https://anders.com/blockchain/tokens.html\n",
    "    - https://anders.com/blockchain/coinbase.html\n",
    "  \n",
    "  Note down, necessary building blocks of a blockchain and basic concepts demonstrated there.\n",
    "  * Optional for now, but perhaps important later: The original Bitcoin white paper, see https://bitcoin.org/bitcoin.pdf\n",
    "        \n",
    "\n",
    "## Reflection\n",
    "\n",
    "  * Note some possible applications of a Blockchain. \n",
    "  * Why may Blockchains be interesting?\n",
    "  * Why do you think we talk about Blockchains at this point in the System Integration course?\n",
    "  * From where do you know the data structure of a blockchain already? What is its name?\n",
    "        \n",
    "        "
   ]
  },
  {
   "cell_type": "markdown",
   "metadata": {},
   "source": [
    "# What is Blockchain Technology?\n",
    "\n",
    "\n",
    "  - https://anders.com/blockchain/hash.html\n",
    "  - https://anders.com/blockchain/block.html  \n",
    "  - https://anders.com/blockchain/blockchain.html\n",
    "  - https://anders.com/blockchain/distributed.html\n",
    "  - https://anders.com/blockchain/tokens.html\n",
    "  - https://anders.com/blockchain/coinbase.html"
   ]
  },
  {
   "cell_type": "markdown",
   "metadata": {},
   "source": [
    "# What is Blockchain Technology?\n",
    "\n",
    "\n",
    "![](images/do_i_need_a_blockchain.png)\n",
    "https://pbs.twimg.com/media/CwbGtvAXEAA_eK8.png\n",
    "\n",
    "## Possible Use Cases \n",
    "\n",
    "\n",
    "### OpenBazaar (https://openbazaar.org)\n",
    "\n",
    "  > OpenBazaar is a new way to buy and sell goods and services online. By running a program on your computer, you can connect directly to other users in the OpenBazaar network and trade with them. The network isn't controlled by a company or organisation. OpenBazaar is a decentralised peer-to-peer network, which means there are no listing fees and the marketplace is censorship-resistant.\n",
    "  >\n",
    "  > Goods and services are bought and sold on OpenBazaar using Bitcoin, a digital cryptocurrency that is decentralised and censorship-resistant. Transaction fees on the Bitcoin network are very cheap.\n",
    "  > http://docs.openbazaar.org/\n",
    "\n",
    "\n",
    "### Direct and Decentralized Music Distribution (https://ujomusic.com)\n",
    "\n",
    "That experiment (https://alpha.ujomusic.com/#/imogen_heap/tiny_human/tiny_human), did not seem to work too well as it is already offline...\n",
    "\n",
    "See the archived version here: https://web.archive.org/web/20160326233613/http://www.alpha.ujomusic.com/#/imogen_heap/tiny_human/tiny_human\n",
    "\n",
    "\n",
    "### Smart Contracts\n",
    "\n",
    "See below...\n",
    "\n",
    "\n",
    "## Drawbacks?\n",
    "\n",
    "  > Ever since its inception Bitcoin’s trust-minimizing consensus has been enabled by its proof-of-work algorithm. The machines performing the “work” are consuming huge amounts of energy while doing so. The Bitcoin Energy Consumption Index was created to provide insight into this amount, and raise awareness on the unsustainability of the proof-of-work algorithm. https://digiconomist.net/bitcoin-energy-consumption\n",
    "  \n",
    "**For refelction:** Why do blockchains require so much energy?"
   ]
  },
  {
   "cell_type": "code",
   "execution_count": 1,
   "metadata": {},
   "outputs": [
    {
     "data": {
      "text/html": [
       "\n",
       "        <iframe\n",
       "            width=\"700\"\n",
       "            height=\"500\"\n",
       "            src=\"https://cloud.highcharts.com/embed/ywoqita/\"\n",
       "            frameborder=\"0\"\n",
       "            allowfullscreen\n",
       "        ></iframe>\n",
       "        "
      ],
      "text/plain": [
       "<IPython.lib.display.IFrame at 0x10b54ec18>"
      ]
     },
     "execution_count": 1,
     "metadata": {},
     "output_type": "execute_result"
    }
   ],
   "source": [
    "from IPython.display import IFrame\n",
    "IFrame('https://cloud.highcharts.com/embed/ywoqita/', width=700, height=500)"
   ]
  },
  {
   "cell_type": "code",
   "execution_count": 2,
   "metadata": {},
   "outputs": [
    {
     "data": {
      "text/html": [
       "\n",
       "        <iframe\n",
       "            width=\"700\"\n",
       "            height=\"500\"\n",
       "            src=\"https://cloud.highcharts.com/embed/yjazijo/\"\n",
       "            frameborder=\"0\"\n",
       "            allowfullscreen\n",
       "        ></iframe>\n",
       "        "
      ],
      "text/plain": [
       "<IPython.lib.display.IFrame at 0x10b54eef0>"
      ]
     },
     "execution_count": 2,
     "metadata": {},
     "output_type": "execute_result"
    }
   ],
   "source": [
    "from IPython.display import IFrame\n",
    "IFrame('https://cloud.highcharts.com/embed/yjazijo/', width=700, height=500)"
   ]
  },
  {
   "cell_type": "markdown",
   "metadata": {},
   "source": [
    "# Intro to Ethereum and Smart Contracts with Solidity\n",
    "\n",
    "On top of transactions, one can 'put behaviour' on the blockchain. These are small programs (Distributed Applications or \"Dapps\"), which are executed, for example, when they receive a transaction. Furthermore, they can initiate transactions.\n",
    "\n",
    "To get started we install MetaMask, a tool for working with Ethereum enabled distributed applications, we connect to an Ethereum test network, and get some test Ether (Bitcoin equivalent).\n",
    "\n",
    "  * Install [MetaMask](https://metamask.io) in a Chrome-based browser, extension here: https://chrome.google.com/webstore/detail/nkbihfbeogaeaoehlefnkodbefgpgknn.\n",
    "  * Watch the video https://youtu.be/6Gf_kRE4MJU\n",
    "  \n",
    "  * Create a new Vault, see https://www.cryptocompare.com/wallets/guides/how-to-use-metamask/\n",
    "  * Connect to the test network `Ropsten Test Net`\n",
    "  * Get you some test Ether (coins): \n",
    "    - Click in MetaMask on `Buy` \n",
    "      ![](images/Buy_ether.png)\n",
    "    - Click `ROPSTEN TEST FAUCET` \n",
    "      ![](images/get_test_ether.png)\n",
    "    - Request some test Ether by clicking the green button for some times.\n",
    "      ![](images/request_test_ether.png)\n",
    "\n",
    "\n",
    "On Ethereum, smart contracts are implemented in Solidity, a language similar to JavaScript, see https://solidity.readthedocs.io/en/develop/index.html\n",
    "\n",
    "In the following, we will implement a small smart contract, which allows a parent to pay into a 'savings account' and a child to withdraw from that under certain conditions. To start implementation:\n",
    "\n",
    "  * navigate in your Chrome-based browser, i.e., the one in which you have MetaMask installed to: ethereum.github.io/browser-solidity or https://remix.ethereum.org/#version=soljson-v0.4.18+commit.9cf6e910.js\n",
    "  * Create a new contract by pressing (`+`) in the top left corner. Call the contract `FatherAndChild.sol` and add the following contract code.\n",
    "\n",
    "\n",
    "```js\n",
    "pragma solidity ^0.4.13;\n",
    "\n",
    "contract FatherAndChild {\n",
    "    \n",
    "    address public father;\n",
    "    address public child;\n",
    "    \n",
    "    uint256 public lastWithdraw = 0;\n",
    "\n",
    "    modifier onlyChild {\n",
    "        if (msg.sender == child)\n",
    "            _;\n",
    "    }\n",
    "\n",
    "    function FatherAndChild(address kid) {\n",
    "        father = msg.sender;\n",
    "        child = kid;\n",
    "    }\n",
    "    \n",
    "    function depositBalance() payable {\n",
    "    }\n",
    "    \n",
    "    function withDraw() onlyChild {\n",
    "        if (lastWithdraw < now - 5 minutes){\n",
    "            if (msg.sender.send(this.balance)) {\n",
    "                lastWithdraw = now;\n",
    "            }\n",
    "        }\n",
    "    }\n",
    "}\n",
    "```\n",
    "![](images/Solidity.png)\n",
    "\n",
    "![](images/Create_contract.png)\n"
   ]
  },
  {
   "cell_type": "markdown",
   "metadata": {},
   "source": [
    "\n",
    "\n",
    "# Your turn!\n",
    "\n",
    "![](images/your_turn.gif)\n",
    "\n",
    "  \n",
    "## Blockchain in General\n",
    "\n",
    "  * Write your own blockchain. You can do that in the language and technology of your choice. Additionally, you choose network protocols and data exchange formats according to what you deem most suitable.\n",
    "  * Your blockchain has to be able to run on a network of distributed nodes. That is, use either containers, virtual machines, or machines in the cloud as your nodes.\n",
    "  * Implement actions, such as, adding transactions, mining of blocks, a simple consensus algorithm of your choice, etc.\n",
    "  * Implement at least two versions for mining, especially for the proof of work, so that they do the same but are differently fast.\n",
    "\n",
    "  \n",
    "\n",
    "### Formal Requirements:\n",
    "\n",
    "\n",
    "  * Of course, your network has to be a peer-to-peer network. \n",
    "  * There have to be at least four nodes in your blockchain network.\n",
    "  * You do not need a UI for your application. It is sufficient if it can ingest calls to API endpoints correctly.\n",
    "\n",
    "  * Provide a reproducible setup. That is, provide a Bash script, that can be run from any Linux machine, which instantiates your blockchain with some example nodes and which executes a test scenario on your blockchain.\n",
    "  * Provide a screencast demonstrating all functions of your running blockchain, with the help of the above script.\n",
    "  * Provide references to **all** sources that you used for your implementation.\n",
    "\n",
    "\n",
    "### Hand-in Procedure\n",
    "\n",
    "  * Provide all code, documentation (a Markdown (.md) file called `README.md` in the root of your project), etc. for this assignment in a repository on Github.\n",
    "  * Create a release of your project on Github, see https://help.github.com/articles/creating-releases/\n",
    "  * Hand-in a link to the **release** on Moodle, see https://help.github.com/articles/linking-to-releases/\n",
    "  * Hand-in at latest on Tuesday 18th Dec. 2018 at 23:59. You will upload a link to the **release** on Moodle (one link per group).\n"
   ]
  },
  {
   "cell_type": "markdown",
   "metadata": {},
   "source": [
    "# Additional Resources\n",
    "\n",
    "  * https://d28rh4a8wq0iu5.cloudfront.net/bitcointech/readings/princeton_bitcoin_book.pdf?a=1\n",
    "  * https://crypto.stanford.edu/cs251/syllabus.html\n",
    "  * Free ebook Mastering Bitcoin: http://chimera.labs.oreilly.com/books/1234000001802/index.html\n",
    "  * http://bitcoinbook.cs.princeton.edu\n",
    "  * http://blockgeeks.com/guides/what-is-blockchain-technology-a-step-by-step-guide-than-anyone-can-understand/"
   ]
  }
 ],
 "metadata": {
  "kernelspec": {
   "display_name": "Python 3",
   "language": "python",
   "name": "python3"
  },
  "language_info": {
   "codemirror_mode": {
    "name": "ipython",
    "version": 3
   },
   "file_extension": ".py",
   "mimetype": "text/x-python",
   "name": "python",
   "nbconvert_exporter": "python",
   "pygments_lexer": "ipython3",
   "version": "3.6.4"
  }
 },
 "nbformat": 4,
 "nbformat_minor": 2
}
