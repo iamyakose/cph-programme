{
 "cells": [
  {
   "cell_type": "code",
   "execution_count": 33,
   "metadata": {},
   "outputs": [],
   "source": [
    "import numpy as np\n",
    "import pandas as pd\n",
    "%matplotlib inline"
   ]
  },
  {
   "cell_type": "code",
   "execution_count": 40,
   "metadata": {},
   "outputs": [],
   "source": [
    "# Let's draw a sample \n",
    "sample = np.random.sample(10000)"
   ]
  },
  {
   "cell_type": "code",
   "execution_count": 42,
   "metadata": {},
   "outputs": [],
   "source": [
    "# Plot the sample using the `hist(bins=100)` function from pandas"
   ]
  },
  {
   "cell_type": "code",
   "execution_count": 43,
   "metadata": {},
   "outputs": [],
   "source": [
    "# We want to know how our sample relates to the population\n",
    "# (If you don't know what this means, then ask!)\n",
    "# How would you find out how our sample is different from the population?\n",
    "# .. Think about the central limit theorem: your sample is _probably_ centered around the population mean"
   ]
  },
  {
   "cell_type": "code",
   "execution_count": 44,
   "metadata": {},
   "outputs": [],
   "source": [
    "# Try to think of a way to measure how your sample is different - how it _deviates_ from the population"
   ]
  },
  {
   "cell_type": "code",
   "execution_count": 37,
   "metadata": {},
   "outputs": [],
   "source": [
    "# ... Spend 5 minutes here. If you're completely lost, continue below"
   ]
  },
  {
   "cell_type": "code",
   "execution_count": 38,
   "metadata": {},
   "outputs": [],
   "source": [
    "# SPOILER: If our sample is centered around the mean, then we can simply just measure how far away\n",
    "#          from the mean is value is. In other words if a sample is 0.5 it is exactly in the center.\n",
    "#          So the difference from the population mean is == 0. If a sample is 1.0 it is exactly 0.5 away\n",
    "#          from the mean. The formula for this would be:    (actual value - expected value)\n",
    "#          Now, we have many values, so we need to do this many times"
   ]
  },
  {
   "cell_type": "code",
   "execution_count": 39,
   "metadata": {},
   "outputs": [],
   "source": [
    "# Continue with the Deviations 2 notebook if you finished or are lost"
   ]
  }
 ],
 "metadata": {
  "kernelspec": {
   "display_name": "Python 3",
   "language": "python",
   "name": "python3"
  },
  "language_info": {
   "codemirror_mode": {
    "name": "ipython",
    "version": 3
   },
   "file_extension": ".py",
   "mimetype": "text/x-python",
   "name": "python",
   "nbconvert_exporter": "python",
   "pygments_lexer": "ipython3",
   "version": "3.5.3"
  }
 },
 "nbformat": 4,
 "nbformat_minor": 2
}
