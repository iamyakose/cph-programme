{
 "cells": [
  {
   "cell_type": "markdown",
   "metadata": {},
   "source": [
    "# Inference test\n",
    "In this small example you will make inference tests on samples from\n",
    "American political ratings."
   ]
  },
  {
   "cell_type": "code",
   "execution_count": null,
   "metadata": {},
   "outputs": [],
   "source": [
    "import numpy as np\n",
    "import pandas as pd\n",
    "import scipy.stats as stats"
   ]
  },
  {
   "cell_type": "code",
   "execution_count": null,
   "metadata": {},
   "outputs": [],
   "source": [
    "# Here I generate a dataset where Americans rate themselves\n",
    "# from 1 (liberal) to 7 (conservative)\n",
    "# The below code generates three arrays collected from\n",
    "# african-american (black), european-american (whites) and\n",
    "# others\n",
    "def repeat_data(a):\n",
    "    xs = [np.repeat(k + 1, v) for k, v in enumerate(a)] # Creates a number of responses\n",
    "    np.random.shuffle(xs)\n",
    "    return np.hstack(xs)\n",
    "\n",
    "# These numbers indicate the number of responses within a\n",
    "# category (1 - 7)         1   2    3    4    5    6    7\n",
    "data_blacks = repeat_data([10, 21,  22,  74,  21,  27,  11])\n",
    "data_whites = repeat_data([36, 109, 124, 421, 179, 176, 28])\n",
    "data_others = repeat_data([1,  13,  13,  27,  9,   7,   2])"
   ]
  },
  {
   "cell_type": "code",
   "execution_count": null,
   "metadata": {},
   "outputs": [],
   "source": [
    "# First job is to stack them all together in an array of shape (1331, )\n",
    "# -- in one long column that is\n",
    "# Store this in a variable I will refer to as 'the entire data' from now on"
   ]
  },
  {
   "cell_type": "code",
   "execution_count": null,
   "metadata": {},
   "outputs": [],
   "source": [
    "# Now print the mean of the black data and the entire data"
   ]
  },
  {
   "cell_type": "code",
   "execution_count": null,
   "metadata": {},
   "outputs": [],
   "source": [
    "# Now you should use the ttest_1samp to see how likely it is\n",
    "# that the blacks have the same distribution of responses as\n",
    "# the population - which is assumed to have a mean of 4\n",
    "# What does the numbers mean?"
   ]
  },
  {
   "cell_type": "code",
   "execution_count": null,
   "metadata": {},
   "outputs": [],
   "source": [
    "# I have invented the coolest null hypothesis: the distribution\n",
    "# of blacks and whites on a political scale is the same. Cool, right?\n",
    "# How can you test that using the stats.ttest_ind?"
   ]
  }
 ],
 "metadata": {
  "kernelspec": {
   "display_name": "Python 3",
   "language": "python",
   "name": "python3"
  },
  "language_info": {
   "codemirror_mode": {
    "name": "ipython",
    "version": 3
   },
   "file_extension": ".py",
   "mimetype": "text/x-python",
   "name": "python",
   "nbconvert_exporter": "python",
   "pygments_lexer": "ipython3",
   "version": "3.5.3"
  }
 },
 "nbformat": 4,
 "nbformat_minor": 2
}
