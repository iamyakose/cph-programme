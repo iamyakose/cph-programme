{
 "cells": [
  {
   "cell_type": "code",
   "execution_count": null,
   "metadata": {},
   "outputs": [],
   "source": [
    "import numpy as np\n",
    "import pandas as pd\n",
    "%matplotlib inline"
   ]
  },
  {
   "cell_type": "code",
   "execution_count": null,
   "metadata": {},
   "outputs": [],
   "source": [
    "# Using numpy's np.random.sample, construct a 1-d array with 10 numbers\n",
    "# What is the shape of the array?"
   ]
  },
  {
   "cell_type": "code",
   "execution_count": null,
   "metadata": {},
   "outputs": [],
   "source": [
    "# Using numpy's np.random.sample, construct a 2-d array with 10 numbers in each dimension\n",
    "# What is the shape of the array?\n",
    "# Plot it in a 2-d plot"
   ]
  },
  {
   "cell_type": "code",
   "execution_count": null,
   "metadata": {},
   "outputs": [],
   "source": [
    "# Now create two 1-d arrays with 10 numbers in each. \n",
    "# Using numpy's np.stack, try to merge them into a two dimensional matrix where each number\n",
    "# is \"zipped\" with the number from the other dimension like so:\n",
    "# xs = [1, 2, 3, ...]\n",
    "# ys = [1, 2, 3, ...]\n",
    "# matrix = [[1, 1], [2, 2], [3, 3], ...]\n",
    "# The documentation is here: https://docs.scipy.org/doc/numpy/reference/generated/numpy.stack.html\n",
    "# Read at least the first paragraph!"
   ]
  },
  {
   "cell_type": "code",
   "execution_count": null,
   "metadata": {},
   "outputs": [],
   "source": [
    "# Now create a 3-d array with 10 numbers in each dimension\n",
    "# What is the shape of the tensor?\n",
    "# Try to play around with the numbers in each dimension. How does the shape change?"
   ]
  },
  {
   "cell_type": "code",
   "execution_count": null,
   "metadata": {},
   "outputs": [],
   "source": [
    "# Now try to reduce the dimensionality of the 3-d array you made before\n",
    "# Before we do anything, we have to standardise our input using\n",
    "# sklearn.preprocessing.scale()\n",
    "# Documentation is here: http://scikit-learn.org/stable/modules/generated/sklearn.preprocessing.scale.html#sklearn.preprocessing.scale\n",
    "from sklearn.preprocessing import scale"
   ]
  },
  {
   "cell_type": "code",
   "execution_count": null,
   "metadata": {},
   "outputs": [],
   "source": [
    "# Second we need to import the PCA class from sklearn\n",
    "from sklearn.decomposition import PCA\n",
    "# ... and now we can fit the PCA model. Use the 3-d tensor you made before"
   ]
  },
  {
   "cell_type": "code",
   "execution_count": null,
   "metadata": {},
   "outputs": [],
   "source": [
    "# Then try to reduce the dimensionality of the actual data by using the .transform method"
   ]
  },
  {
   "cell_type": "code",
   "execution_count": null,
   "metadata": {},
   "outputs": [],
   "source": [
    "# Print the data and compare it. Is it different? Why/why not?"
   ]
  },
  {
   "cell_type": "code",
   "execution_count": null,
   "metadata": {},
   "outputs": [],
   "source": [
    "# Now print the explained variance of each of the dimensions\n",
    "# This will tell you exactly how much, each dimension help you\n",
    "# to explain the variance\n",
    "# you can get it using the .explained_variance_ratio_ value from your pca model"
   ]
  },
  {
   "cell_type": "code",
   "execution_count": null,
   "metadata": {},
   "outputs": [],
   "source": [
    "# Let's try to re-analyse the wine data set now that we\n",
    "# we have stronger and better tools for our analysis\n",
    "data = pd.read_csv(\"http://archive.ics.uci.edu/ml/machine-learning-databases/wine-quality/winequality-red.csv\", sep=';')"
   ]
  },
  {
   "cell_type": "code",
   "execution_count": null,
   "metadata": {},
   "outputs": [],
   "source": [
    "# This takes all data, except for the quality score in the end (our dependent variable, y)\n",
    "X = np.array(data.loc[:, \"fixed acidity\":\"alcohol\"])"
   ]
  },
  {
   "cell_type": "code",
   "execution_count": null,
   "metadata": {},
   "outputs": [],
   "source": [
    "# Before doing anything, we have to scale the data\n",
    "# Optional: How can you test that this is standardised?"
   ]
  },
  {
   "cell_type": "code",
   "execution_count": null,
   "metadata": {},
   "outputs": [],
   "source": [
    "# Now we can do dimensionality reduction on the data\n",
    "# In this case we would like to preserve 95% of the variance\n",
    "# This is indicated by constructing your PCA model like so:\n",
    "# pca = PCA(n_components=0.95)\n",
    "# First construct the model, then fit it"
   ]
  },
  {
   "cell_type": "code",
   "execution_count": null,
   "metadata": {},
   "outputs": [],
   "source": [
    "# Now transform the X values with your new pca model\n",
    "# How many dimensions do you end up with (hint: use numpy.shape)"
   ]
  },
  {
   "cell_type": "code",
   "execution_count": null,
   "metadata": {},
   "outputs": [],
   "source": [
    "# Finally, build a linear model using your reduced X and\n",
    "# report its score. Is it better or worse than your previous model?"
   ]
  }
 ],
 "metadata": {
  "kernelspec": {
   "display_name": "Python 3",
   "language": "python",
   "name": "python3"
  },
  "language_info": {
   "codemirror_mode": {
    "name": "ipython",
    "version": 3
   },
   "file_extension": ".py",
   "mimetype": "text/x-python",
   "name": "python",
   "nbconvert_exporter": "python",
   "pygments_lexer": "ipython3",
   "version": "3.5.3"
  }
 },
 "nbformat": 4,
 "nbformat_minor": 2
}
