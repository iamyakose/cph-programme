{
 "cells": [
  {
   "cell_type": "code",
   "execution_count": 2,
   "metadata": {},
   "outputs": [],
   "source": [
    "import numpy as np\n",
    "import pandas as pd\n",
    "%matplotlib inline"
   ]
  },
  {
   "cell_type": "code",
   "execution_count": 6,
   "metadata": {},
   "outputs": [],
   "source": [
    "# Let's draw a sample \n",
    "sample = np.random.sample(10000)"
   ]
  },
  {
   "cell_type": "code",
   "execution_count": 29,
   "metadata": {},
   "outputs": [],
   "source": [
    "# Plot the sample using the `hist(bins=100)` function from pandas"
   ]
  },
  {
   "cell_type": "code",
   "execution_count": 31,
   "metadata": {},
   "outputs": [],
   "source": [
    "# We want to know how our sample relates to the population\n",
    "# (If you don't know what this means, then ask!)\n",
    "# How would you find out how our sample is different from the population?\n",
    "\n",
    "# .. Think about the central limit theorem: your sample is _probably_ centered around the population mean\n",
    "# SPOILER: If our sample is centered around the mean, then we can simply just measure how far away\n",
    "#          from the mean is value is. In other words if a sample is 0.5 it is exactly in the center.\n",
    "#          So the difference from the population mean is == 0. If a sample is 1.0 it is exactly 0.5 away\n",
    "#          from the mean. The formula for this would be:    (actual value - expected value)\n",
    "#          Now, we have many values, so we need to do this many timestimes"
   ]
  },
  {
   "cell_type": "code",
   "execution_count": 14,
   "metadata": {},
   "outputs": [],
   "source": [
    "# Solution: You measure the _deviation_ of each sample value from the expected population value (the population mean)\n",
    "deviations = [value - 0.5 for value in sample]"
   ]
  },
  {
   "cell_type": "code",
   "execution_count": 18,
   "metadata": {},
   "outputs": [],
   "source": [
    "# Plot those values using Pandas `hist(bins=100)` function\n",
    "# What do you see?\n",
    "# What is the mean?\n",
    "# What are the extreme values?\n",
    "# Why is that bad"
   ]
  },
  {
   "cell_type": "code",
   "execution_count": 21,
   "metadata": {},
   "outputs": [],
   "source": [
    "# SPOILER: It's bad because we can't have negative values\n",
    "#          Try to take the square of all the values and plot them\n",
    "#          (hint: this is much easier if you transform the list to a numpy array)"
   ]
  },
  {
   "cell_type": "code",
   "execution_count": 26,
   "metadata": {},
   "outputs": [],
   "source": [
    "# If all the values of the sample was a perfect copy of the population,\n",
    "# what would the sum of all the squared deviations be?\n",
    "# Try to sum all the deviations. Is that what you expect?"
   ]
  },
  {
   "cell_type": "code",
   "execution_count": 27,
   "metadata": {},
   "outputs": [],
   "source": [
    "# Would this number change with the size of the sample?\n",
    "# Does that matter? If so, how could you fix that?"
   ]
  },
  {
   "cell_type": "code",
   "execution_count": null,
   "metadata": {},
   "outputs": [],
   "source": [
    "# Think about that for a minute. If you're done, continue to Deviations 3"
   ]
  }
 ],
 "metadata": {
  "kernelspec": {
   "display_name": "Python 3",
   "language": "python",
   "name": "python3"
  },
  "language_info": {
   "codemirror_mode": {
    "name": "ipython",
    "version": 3
   },
   "file_extension": ".py",
   "mimetype": "text/x-python",
   "name": "python",
   "nbconvert_exporter": "python",
   "pygments_lexer": "ipython3",
   "version": "3.5.3"
  }
 },
 "nbformat": 4,
 "nbformat_minor": 2
}
