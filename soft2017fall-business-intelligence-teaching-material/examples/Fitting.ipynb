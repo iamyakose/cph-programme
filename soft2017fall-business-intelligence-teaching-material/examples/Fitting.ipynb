{
 "cells": [
  {
   "cell_type": "code",
   "execution_count": null,
   "metadata": {},
   "outputs": [],
   "source": [
    "import pandas as pd\n",
    "import numpy as np\n",
    "import matplotlib.pyplot as plt\n",
    "\n",
    "%matplotlib inline"
   ]
  },
  {
   "cell_type": "code",
   "execution_count": null,
   "metadata": {},
   "outputs": [],
   "source": [
    "n_samples = 30\n",
    "\n",
    "# Let's create the \"true\" function\n",
    "def true_fun(X):\n",
    "    return np.cos(1.5 * np.pi * X)"
   ]
  },
  {
   "cell_type": "code",
   "execution_count": null,
   "metadata": {},
   "outputs": [],
   "source": [
    "# We generate some fake data that's close to the actual function\n",
    "X = np.sort(np.random.rand(n_samples))\n",
    "y = true_fun(X) + np.random.randn(n_samples) * 0.1"
   ]
  },
  {
   "cell_type": "code",
   "execution_count": null,
   "metadata": {},
   "outputs": [],
   "source": [
    "# Plot the fake data\n",
    "plt.scatter(X, y)\n",
    "# Plot the actual function\n",
    "X_true = np.linspace(0, 1, 100)\n",
    "plt.plot(X_true, true_fun(X_true), label=\"True function\")"
   ]
  },
  {
   "cell_type": "code",
   "execution_count": null,
   "metadata": {},
   "outputs": [],
   "source": [
    "from sklearn.pipeline import Pipeline\n",
    "from sklearn.preprocessing import PolynomialFeatures \n",
    "#http://scikit-learn.org/stable/modules/generated/sklearn.preprocessing.PolynomialFeatures.html#sklearn.preprocessing.PolynomialFeatures\n",
    "from sklearn.linear_model import LinearRegression"
   ]
  },
  {
   "cell_type": "code",
   "execution_count": null,
   "metadata": {},
   "outputs": [],
   "source": [
    "def train_features(degrees):\n",
    "    # Limit the plot to [0, 1] and [-2, 2]\n",
    "    plt.xlim((0, 1))\n",
    "    plt.ylim((-2, 2))\n",
    "    \n",
    "    # Plot the true function\n",
    "    plt.plot(X_true, true_fun(X_true))\n",
    "    # Plot the mock data\n",
    "    plt.scatter(X, y)\n",
    "    \n",
    "    # Create a training pipeline with polynomial features and linear regression\n",
    "    pl = PolynomialFeatures(degree=degrees, include_bias=False)\n",
    "    lm = LinearRegression()\n",
    "    pipeline = Pipeline([(\"pl\", pl), (\"lm\", lm)])\n",
    "    pipeline.fit(X[:, None], y)\n",
    "    # Print the score\n",
    "    print(\"Score: \" + str(pipeline.score(X[:, None], y)))\n",
    "    \n",
    "    X_predict = np.linspace(0, 1, 100)\n",
    "    plt.plot(X_predict, pipeline.predict(X_predict[:, None]))"
   ]
  },
  {
   "cell_type": "code",
   "execution_count": null,
   "metadata": {},
   "outputs": [],
   "source": [
    "train_features(1)"
   ]
  },
  {
   "cell_type": "code",
   "execution_count": null,
   "metadata": {},
   "outputs": [],
   "source": [
    "train_features(5)"
   ]
  },
  {
   "cell_type": "code",
   "execution_count": null,
   "metadata": {},
   "outputs": [],
   "source": [
    "train_features(17)"
   ]
  },
  {
   "cell_type": "code",
   "execution_count": null,
   "metadata": {},
   "outputs": [],
   "source": [
    "# Cross validation scoring\n",
    "# http://scikit-learn.org/stable/modules/generated/sklearn.model_selection.cross_val_score.html#sklearn.model_selection.cross_val_score\n",
    "from sklearn.model_selection import cross_val_score\n",
    "from sklearn.model_selection import KFold"
   ]
  },
  {
   "cell_type": "code",
   "execution_count": null,
   "metadata": {},
   "outputs": [],
   "source": [
    "def train_features(degrees):\n",
    "    # Limit the plot to [0, 1] and [-2, 2]\n",
    "    plt.xlim((0, 1))\n",
    "    plt.ylim((-2, 2))\n",
    "    \n",
    "    # Plot the true function\n",
    "    plt.plot(X_true, true_fun(X_true))\n",
    "    # Plot the mock data\n",
    "    plt.scatter(X, y)\n",
    "    \n",
    "    folds = KFold(n_splits=10)\n",
    "    \n",
    "    # For each fold ...\n",
    "    for train_indices, test_indices in folds.split(X, y): \n",
    "        X_train, X_test = X[train_indices], X[test_indices]\n",
    "        y_train, y_test = y[train_indices], y[test_indices]\n",
    "        \n",
    "        # Create a training pipeline with polynomial features and linear regression\n",
    "        pl = PolynomialFeatures(degree=degrees, include_bias=False)\n",
    "        lm = LinearRegression()\n",
    "        pipeline = Pipeline([(\"pl\", pl), (\"lm\", lm)])\n",
    "        # Fit the pipeline with the TRAINING data\n",
    "        pipeline.fit(X_train[:, None], y_train)\n",
    "    \n",
    "        # Print the scores\n",
    "        print(\"Score: \" + str(pipeline.score(X_test[:, None], y_test)))\n",
    "    \n",
    "        X_predict = np.linspace(0, 1, 100)\n",
    "        plt.plot(X, pipeline.predict(X[:, None]))"
   ]
  },
  {
   "cell_type": "code",
   "execution_count": null,
   "metadata": {},
   "outputs": [],
   "source": [
    "train_features(10)"
   ]
  },
  {
   "cell_type": "code",
   "execution_count": null,
   "metadata": {},
   "outputs": [],
   "source": [
    "train_features(16)"
   ]
  },
  {
   "cell_type": "code",
   "execution_count": null,
   "metadata": {},
   "outputs": [],
   "source": [
    "train_features(100)"
   ]
  },
  {
   "cell_type": "code",
   "execution_count": null,
   "metadata": {},
   "outputs": [],
   "source": [
    "# Last tip: do this using cross_val_score\n",
    "from sklearn.model_selection import cross_val_score\n",
    "\n",
    "def cross_score(degrees):\n",
    "    # Create a training pipeline with polynomial features and linear regression\n",
    "    pl = PolynomialFeatures(degree=degrees, include_bias=False)\n",
    "    lm = LinearRegression()\n",
    "    pipeline = Pipeline([(\"pl\", pl), (\"lm\", lm)])\n",
    "    print(cross_val_score(pipeline, X[:, None], y, cv=10))\n",
    "cross_score(8)"
   ]
  }
 ],
 "metadata": {
  "kernelspec": {
   "display_name": "Python 3",
   "language": "python",
   "name": "python3"
  },
  "language_info": {
   "codemirror_mode": {
    "name": "ipython",
    "version": 3
   },
   "file_extension": ".py",
   "mimetype": "text/x-python",
   "name": "python",
   "nbconvert_exporter": "python",
   "pygments_lexer": "ipython3",
   "version": "3.5.3"
  }
 },
 "nbformat": 4,
 "nbformat_minor": 2
}
