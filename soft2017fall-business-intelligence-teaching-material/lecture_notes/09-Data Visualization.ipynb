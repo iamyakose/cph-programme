{
 "cells": [
  {
   "cell_type": "markdown",
   "metadata": {},
   "source": [
    "# Reading Your Geocoded Data\n",
    "\n",
    "After assignment 3, you should have a file, which contains a latitude, longitude pair for more or less each sales record."
   ]
  },
  {
   "cell_type": "code",
   "execution_count": null,
   "metadata": {
    "collapsed": true
   },
   "outputs": [],
   "source": [
    "%matplotlib notebook\n",
    "\n",
    "\n",
    "import numpy as np\n",
    "import pandas as pd\n",
    "import matplotlib.pyplot as plt"
   ]
  },
  {
   "cell_type": "code",
   "execution_count": null,
   "metadata": {},
   "outputs": [],
   "source": [
    "# A CSV file containing all scraped data, the result of assignment number two\n",
    "complete_data = './data/boliga_all_loc.csv'\n",
    "\n",
    "df = pd.read_csv(complete_data)\n",
    "df.head()"
   ]
  },
  {
   "cell_type": "markdown",
   "metadata": {},
   "source": [
    "If you want to convert the `sell_date` column into a a proper `Datetime` object, you can do so via one of the following methods.\n",
    "\n",
    "  * Let Pandas figure out in which form your dates are stored and parse them while reading the CSV file. **OBS**: This will take a bit for the entire dataset."
   ]
  },
  {
   "cell_type": "code",
   "execution_count": null,
   "metadata": {
    "collapsed": true
   },
   "outputs": [],
   "source": [
    "df = pd.read_csv(complete_data, parse_dates=['sell_date'])\n",
    "df.head()"
   ]
  },
  {
   "cell_type": "markdown",
   "metadata": {},
   "source": [
    "  * Let Pandas figure out in which form your dates are stored and convert a column in an existing `DataFrame`.  **OBS**: This will take a bit for the entire dataset. "
   ]
  },
  {
   "cell_type": "code",
   "execution_count": null,
   "metadata": {
    "collapsed": true
   },
   "outputs": [],
   "source": [
    "pd.to_datetime(df['sell_date'])"
   ]
  },
  {
   "cell_type": "markdown",
   "metadata": {},
   "source": [
    " * Specify in which format your dates are stored and parse them while reading the CSV file."
   ]
  },
  {
   "cell_type": "code",
   "execution_count": null,
   "metadata": {},
   "outputs": [],
   "source": [
    "dateparse = lambda x: pd.datetime.strptime(x, '%d-%m-%Y')\n",
    "\n",
    "df = pd.read_csv(complete_data, parse_dates=['sell_date'], date_parser=dateparse)\n",
    "df.head()"
   ]
  },
  {
   "cell_type": "markdown",
   "metadata": {},
   "source": [
    "# A bit more of preprocessing...\n",
    "\n",
    "Again, we would like to have for each sales record an integer number for the zip code, so that we can use those values for boolean indexing."
   ]
  },
  {
   "cell_type": "code",
   "execution_count": null,
   "metadata": {
    "collapsed": true
   },
   "outputs": [],
   "source": [
    "df['zip_nr'] = [int(el.split(' ')[0]) \n",
    "                for el in df['zip_code'].values]"
   ]
  },
  {
   "cell_type": "markdown",
   "metadata": {},
   "source": [
    "Futhermore, we would like an extra column containing the sales year.\n",
    "\n",
    "Note, in case you did not convert the `sell_date` to proper `Datetime` objects you would have to treat them as strings as in the follwing.\n",
    "\n",
    "```python\n",
    "df['sell_year'] = [int(el.split('-')[-1]) \n",
    "                   for el in df['sell_date'].values] \n",
    "```\n"
   ]
  },
  {
   "cell_type": "code",
   "execution_count": null,
   "metadata": {
    "collapsed": true
   },
   "outputs": [],
   "source": [
    "df['sell_year'] = df['sell_date'].dt.year"
   ]
  },
  {
   "cell_type": "code",
   "execution_count": null,
   "metadata": {},
   "outputs": [],
   "source": [
    "df.head()"
   ]
  },
  {
   "cell_type": "code",
   "execution_count": null,
   "metadata": {},
   "outputs": [],
   "source": [
    "mask = ((df['zip_nr'] < 4800) & \n",
    "        (df['sell_year'] <= 2005) & \n",
    "        (df['sell_year'] >= 2000))\n",
    "df_zealand_00_05 = df[mask]\n",
    "df_zealand_00_05.head()"
   ]
  },
  {
   "cell_type": "markdown",
   "metadata": {},
   "source": [
    "## Scatter Plots\n",
    "\n",
    "If you wanted to get a first impression for the locations for which we have sales records, you could plot the latitude and longitude values in a two-dimensional plot, where each location is a dot."
   ]
  },
  {
   "cell_type": "code",
   "execution_count": null,
   "metadata": {},
   "outputs": [],
   "source": [
    "%matplotlib notebook\n",
    "\n",
    "\n",
    "x_values = df['lon']\n",
    "y_values = df['lat']\n",
    "\n",
    "plt.scatter(x_values, y_values, s=1, edgecolor='none')"
   ]
  },
  {
   "cell_type": "markdown",
   "metadata": {},
   "source": [
    "Note, that these plots are not really well suited for geographical data as they just plot raw value combinations. There is no information carried about a suitable projection, see https://en.wikipedia.org/wiki/Map_projection. "
   ]
  },
  {
   "cell_type": "code",
   "execution_count": null,
   "metadata": {},
   "outputs": [],
   "source": [
    "%matplotlib notebook\n",
    "\n",
    "\n",
    "x_values = df_zealand_00_05['lon']\n",
    "y_values = df_zealand_00_05['lat']\n",
    "\n",
    "plt.scatter(x_values, y_values, s=1, edgecolor='none')"
   ]
  },
  {
   "cell_type": "markdown",
   "metadata": {},
   "source": [
    "You can modify the same plot, by just adding more values to it as in the following. "
   ]
  },
  {
   "cell_type": "code",
   "execution_count": null,
   "metadata": {},
   "outputs": [],
   "source": [
    "%matplotlib notebook\n",
    "\n",
    "\n",
    "x_values = df['lon']\n",
    "y_values = df['lat']\n",
    "\n",
    "plt.scatter(x_values[:], y_values[:], s=1, edgecolor='none')\n",
    "\n",
    "center_x = x_values.min() + (x_values.max() - x_values.min()) / 2\n",
    "center_y = y_values.min() + (y_values.max() - y_values.min()) * 0.5\n",
    "\n",
    "plt.scatter(center_x, center_y, s=10, c='red')"
   ]
  },
  {
   "cell_type": "markdown",
   "metadata": {},
   "source": [
    "## Color\n",
    "\n",
    "\n",
    "We use the Haversine Distance (https://en.wikipedia.org/wiki/Haversine_formula) to compute an array of distance values, which we use for color coding."
   ]
  },
  {
   "cell_type": "code",
   "execution_count": null,
   "metadata": {
    "collapsed": true
   },
   "outputs": [],
   "source": [
    "import math\n",
    "\n",
    "\n",
    "def haversine_distance(origin, destination):\n",
    "\n",
    "    lat_orig, lon_orig = origin\n",
    "    lat_dest, lon_dest = destination\n",
    "    radius = 6371\n",
    "\n",
    "    dlat = math.radians(lat_dest-lat_orig)\n",
    "    dlon = math.radians(lon_dest-lon_orig)\n",
    "    a = (math.sin(dlat / 2) * math.sin(dlat / 2) + math.cos(math.radians(lat_orig)) \n",
    "        * math.cos(math.radians(lat_dest)) * math.sin(dlon / 2) * math.sin(dlon / 2))\n",
    "    c = 2 * math.atan2(math.sqrt(a), math.sqrt(1 - a))\n",
    "    d = radius * c\n",
    "\n",
    "    return d\n",
    "\n",
    "\n",
    "distances = [haversine_distance((center_x, center_y), el) \n",
    "             for el in df[['lon', 'lat']].values]"
   ]
  },
  {
   "cell_type": "code",
   "execution_count": null,
   "metadata": {},
   "outputs": [],
   "source": [
    "%matplotlib notebook\n",
    "\n",
    "\n",
    "x_values = df['lon']\n",
    "y_values = df['lat']\n",
    "\n",
    "plt.scatter(x_values, y_values, s=1, c=distances, \n",
    "            cmap=plt.cm.Blues, edgecolor='none')\n",
    "plt.scatter(center_x, center_y, s=10, c='red')"
   ]
  },
  {
   "cell_type": "code",
   "execution_count": null,
   "metadata": {
    "collapsed": true
   },
   "outputs": [],
   "source": [
    "import math\n",
    "\n",
    "\n",
    "def distance(origin, destination):\n",
    "\n",
    "    lat_orig, lon_orig = origin\n",
    "    lat_dest, lon_dest = destination\n",
    "\n",
    "    dlat = lat_dest - lat_orig\n",
    "    dlon = lon_dest - lon_orig\n",
    "\n",
    "    d = math.sqrt(dlat ** 2 + dlon ** 2)\n",
    "\n",
    "    return d\n",
    "\n",
    "\n",
    "distances = [distance((center_x, center_y), el) \n",
    "             for el in df[['lon', 'lat']].values]"
   ]
  },
  {
   "cell_type": "code",
   "execution_count": null,
   "metadata": {},
   "outputs": [],
   "source": [
    "%matplotlib notebook\n",
    "\n",
    "\n",
    "x_values = df['lon']\n",
    "y_values = df['lat']\n",
    "\n",
    "plt.scatter(x_values[:], y_values[:], s=1, c=distances, \n",
    "            cmap=plt.cm.Blues, edgecolor='none')\n",
    "plt.scatter(center_x, center_y, s=10, c='red')"
   ]
  },
  {
   "cell_type": "markdown",
   "metadata": {},
   "source": [
    "## Line Plots\n",
    "\n",
    "Line plots are a good tool for visualizing trends from one value to another. For example, let's create a line plot which compares the number of rooms to the average and median price per square meter."
   ]
  },
  {
   "cell_type": "code",
   "execution_count": null,
   "metadata": {},
   "outputs": [],
   "source": [
    "mask = (df_zealand_00_05['sell_year'] == 2003)\n",
    "no_rooms_series = df_zealand_00_05[mask]['no_rooms']\n",
    "stats = [(no,\n",
    "          df_zealand_00_05[(df_zealand_00_05['no_rooms'] == no)]['price_per_sq_m'].mean(), \n",
    "          df_zealand_00_05[(df_zealand_00_05['no_rooms'] == no)]['price_per_sq_m'].median()) \n",
    "         for no in range(int(no_rooms_series.min()), int(no_rooms_series.max()))]\n",
    "\n",
    "\n",
    "df_stats = pd.DataFrame(stats, columns=['no_rooms', 'mean_price', 'median_price'])\n",
    "df_stats"
   ]
  },
  {
   "cell_type": "code",
   "execution_count": null,
   "metadata": {},
   "outputs": [],
   "source": [
    "%matplotlib notebook\n",
    "\n",
    "\n",
    "plt.plot(df_stats.no_rooms, df_stats.mean_price, \n",
    "         label=\"Mean price per sqm\")\n",
    "plt.plot(df_stats.no_rooms, df_stats.median_price, \n",
    "         label=\"Median price per sqm\")\n",
    "plt.legend()"
   ]
  },
  {
   "cell_type": "markdown",
   "metadata": {},
   "source": [
    "What can you read out of the plot above?\n",
    "\n",
    "### A side note on sorting values...\n",
    "\n",
    "You can sort your `DataFrame` for example with the help of the `sort_values` method."
   ]
  },
  {
   "cell_type": "code",
   "execution_count": null,
   "metadata": {},
   "outputs": [],
   "source": [
    "df_stats.sort_values(by='mean_price')"
   ]
  },
  {
   "cell_type": "code",
   "execution_count": null,
   "metadata": {
    "collapsed": true
   },
   "outputs": [],
   "source": [
    "df_stats.sort_values(by='mean_price', inplace=True)"
   ]
  },
  {
   "cell_type": "markdown",
   "metadata": {},
   "source": [
    "## Bar Plots"
   ]
  },
  {
   "cell_type": "code",
   "execution_count": null,
   "metadata": {
    "scrolled": true
   },
   "outputs": [],
   "source": [
    "%matplotlib notebook\n",
    "\n",
    "\n",
    "from collections import Counter\n",
    "\n",
    "\n",
    "mask = ((df_zealand_00_05['sell_year'] == 2005) &\n",
    "        (~df_zealand_00_05['no_rooms'].isnull()))\n",
    "no_rooms = df_zealand_00_05[mask]['no_rooms']\n",
    "\n",
    "no_room_freq = list(Counter(no_rooms).values())\n",
    "no_rooms = list(Counter(no_rooms).keys())\n",
    "\n",
    "plt.bar(no_rooms, no_room_freq)"
   ]
  },
  {
   "cell_type": "markdown",
   "metadata": {},
   "source": [
    "Since bar plots are most often used for plotting hsitograms, you can also resort to the `hist` function, which comutes the histogram in the background for you."
   ]
  },
  {
   "cell_type": "code",
   "execution_count": null,
   "metadata": {},
   "outputs": [],
   "source": [
    "%matplotlib notebook\n",
    "\n",
    "\n",
    "mask = ((df_zealand_00_05['sell_year'] == 2005) &\n",
    "        (~df_zealand_00_05['price_per_sq_m'].isnull()))\n",
    "prices = df_zealand_00_05[mask]['price_per_sq_m']\n",
    "binwidth = 1000\n",
    "plt.hist(prices, bins=range(int(prices.min()), \n",
    "                            int(prices.max() + binwidth), binwidth))"
   ]
  },
  {
   "cell_type": "markdown",
   "metadata": {},
   "source": [
    "# Your Turn!\n",
    "\n",
    "![](https://camo.githubusercontent.com/320b4791da998fd94e34ad4a85d44d8d5a581ca4/68747470733a2f2f732d6d656469612d63616368652d616b302e70696e696d672e636f6d2f6f726967696e616c732f39662f37332f65332f39663733653366386139353864626530336230663736663838313161353461312e676966)\n",
    "\n",
    "\n",
    "We get all steps of this weeks assignment to run!\n",
    "\n",
    "You will need some of the files for next week. In case you have a working solution we try to make your code more short, effective, good looking, and easily runable."
   ]
  },
  {
   "cell_type": "markdown",
   "metadata": {},
   "source": [
    "# Plotting Geographic Data with `Basemap`s\n",
    "\n",
    "\n",
    "If you want to plot your data, which contains geo-locations with with a proper projection onto a plane, then you might want to have a look on the `Basemap` class."
   ]
  },
  {
   "cell_type": "code",
   "execution_count": null,
   "metadata": {},
   "outputs": [],
   "source": [
    "%matplotlib notebook\n",
    "\n",
    "\n",
    "import warnings\n",
    "warnings.filterwarnings('ignore')\n",
    "from mpl_toolkits.basemap import Basemap\n",
    "\n",
    "\n",
    "plt.figure(figsize=(5, 5))\n",
    "m = Basemap(projection='ortho', resolution=None, lat_0=50, lon_0=10)\n",
    "m.bluemarble(scale=0.5)"
   ]
  },
  {
   "cell_type": "markdown",
   "metadata": {},
   "source": [
    "Lambert conformal conic projection https://en.wikipedia.org/wiki/Lambert_conformal_conic_projection"
   ]
  },
  {
   "cell_type": "code",
   "execution_count": null,
   "metadata": {},
   "outputs": [],
   "source": [
    "%matplotlib notebook\n",
    "\n",
    "\n",
    "fig = plt.figure(figsize=(8, 8))\n",
    "m = Basemap(projection='lcc', resolution=None,\n",
    "            width=5000000, height=5000000, \n",
    "            lat_0=55, lon_0=10,)\n",
    "m.etopo(scale=1.0, alpha=0.5)\n",
    "\n",
    "# Map (long, lat) to (x, y) for plotting\n",
    "coords = {'København': (55.676111, 12.568333), \n",
    "          'Odense': (55.395833, 10.388611), \n",
    "          'Aalborg': (57.05, 9.916667)}\n",
    "\n",
    "for city, coord in coords.items():\n",
    "    y_adjust = 100000 if city is 'Odense' else 0\n",
    "    \n",
    "    x, y = m(coord[1], coord[0])\n",
    "    plt.plot(x, y, 'ok', markersize=5)\n",
    "    \n",
    "    plt.text(x + 50000, y - y_adjust, city, fontsize=8)\n"
   ]
  },
  {
   "cell_type": "markdown",
   "metadata": {},
   "source": [
    "Mercator projection https://en.wikipedia.org/wiki/Mercator_projection"
   ]
  },
  {
   "cell_type": "code",
   "execution_count": null,
   "metadata": {
    "collapsed": true
   },
   "outputs": [],
   "source": [
    "mask = ((~df_zealand_00_05.lat.isnull()) & \n",
    "        (~df_zealand_00_05.lon.isnull()) & \n",
    "        (df_zealand_00_05.no_rooms >= 5))\n",
    "df_zealand_00_05_large = df_zealand_00_05[mask]"
   ]
  },
  {
   "cell_type": "code",
   "execution_count": null,
   "metadata": {},
   "outputs": [],
   "source": [
    "%matplotlib inline\n",
    "\n",
    "\n",
    "# create new figure, axes instances.\n",
    "fig = plt.figure()\n",
    "ax = fig.add_axes([x_values.min(), y_values.min(), \n",
    "                   x_values.max(), y_values.max()])\n",
    "\n",
    "# setup mercator map projection.\n",
    "m = Basemap(llcrnrlon=7., llcrnrlat=54., \n",
    "            urcrnrlon=16., urcrnrlat=58.,\n",
    "            rsphere=(6378137.00, 6356752.3142),\n",
    "            resolution='h', projection='merc',\n",
    "            lat_0=40., lon_0=-20., lat_ts=20.)\n",
    "\n",
    "m.drawcoastlines()\n",
    "m.fillcontinents(zorder=0)\n",
    "m.scatter(df_zealand_00_05_large.lon.values, \n",
    "          df_zealand_00_05_large.lat.values, \n",
    "          3, marker='o', latlon=True)\n",
    "\n",
    "# draw parallels\n",
    "m.drawparallels(np.arange(10, 90,  1), \n",
    "                labels=[1, 1, 0, 1])\n",
    "# draw meridians\n",
    "m.drawmeridians(np.arange(-180, 180, 1), \n",
    "                labels=[1, 1, 0, 1])\n",
    "ax.set_title('Big Flats on Zealand')\n",
    "plt.show()"
   ]
  },
  {
   "cell_type": "markdown",
   "metadata": {},
   "source": [
    "# Plotting Geodata with `folium`\n",
    "\n",
    "The above `Basemap` plots are nice. However, they are static images. In case you want to create plots for the web, you might want to have a look on the `folium` module, see http://folium.readthedocs.io/en/latest/, which is a Python wrapper for `Leaflet` http://leafletjs.com."
   ]
  },
  {
   "cell_type": "code",
   "execution_count": null,
   "metadata": {},
   "outputs": [],
   "source": [
    "from datetime import date\n",
    "from datetime import datetime\n",
    "\n",
    "\n",
    "mask = ((~df_zealand_00_05.lat.isnull()) & \n",
    "        (~df_zealand_00_05.lon.isnull()) & \n",
    "        (df_zealand_00_05.no_rooms >= 6) &\n",
    "        (df_zealand_00_05.sell_date >= datetime(2003, 3, 24)) & \n",
    "        (df_zealand_00_05.sell_date <= datetime(2003, 9, 15))\n",
    "       )\n",
    "df_zealand_00_05_large = df_zealand_00_05[mask]\n",
    "df_zealand_00_05_large"
   ]
  },
  {
   "cell_type": "code",
   "execution_count": null,
   "metadata": {},
   "outputs": [],
   "source": [
    "import folium\n",
    "\n",
    "\n",
    "my_map = folium.Map(location=[55.88207495748612, 10.636574309440173], zoom_start=6)\n",
    "\n",
    "for coords in zip(df_zealand_00_05_large.lon.values, \n",
    "                  df_zealand_00_05_large.lat.values):\n",
    "    folium.CircleMarker(location=[coords[1], coords[0]], radius=2).add_to(my_map)\n",
    "my_map.save('data/large_flat_trades.html')\n",
    "my_map"
   ]
  },
  {
   "cell_type": "code",
   "execution_count": null,
   "metadata": {},
   "outputs": [],
   "source": [
    "%%bash\n",
    "\n",
    "ls -ltrh data/large_flat_trades.html"
   ]
  },
  {
   "cell_type": "code",
   "execution_count": null,
   "metadata": {},
   "outputs": [],
   "source": [
    "%%bash\n",
    "\n",
    "tail -30 data/large_flat_trades.html"
   ]
  },
  {
   "cell_type": "markdown",
   "metadata": {},
   "source": [
    "### GeoJson File for Danish Postnumre Data\n",
    "\n",
    "I got it from https://github.com/ok-dk/dagi, which says that the data is originally from Geodatastyrelsen and Danske Kommuner."
   ]
  },
  {
   "cell_type": "code",
   "execution_count": null,
   "metadata": {
    "collapsed": true
   },
   "outputs": [],
   "source": [
    "%%bash\n",
    "\n",
    "wget https://raw.githubusercontent.com/ok-dk/dagi/master/geojson/postnumre.geojson"
   ]
  },
  {
   "cell_type": "code",
   "execution_count": null,
   "metadata": {},
   "outputs": [],
   "source": [
    "import os\n",
    "import json\n",
    "import folium\n",
    "import requests\n",
    "\n",
    "\n",
    "def get_geojson(url):\n",
    "    local_file = os.path.basename(url)\n",
    "    if os.path.isfile(local_file):\n",
    "        # if file exists locally load it\n",
    "        with open(local_file, encoding='utf-8') as f: \n",
    "            geo_json = json.load(f)\n",
    "    else:\n",
    "        # otherwise read it from remote\n",
    "        response = requests.get(url)\n",
    "        geo_json = response.json()\n",
    "    return geo_json\n",
    "\n",
    "\n",
    "def get_city_location(city='Copenhagen'):\n",
    "    url_googleapi = \"https://maps.googleapis.com/maps/api/geocode/json\"\n",
    "    r = requests.get(url_googleapi, params={'sensor': 'false', 'address': city})\n",
    "    results = r.json()['results']\n",
    "    \n",
    "    location = results[0]['geometry']['location']\n",
    "    lat, lon = location['lat'], location['lng']\n",
    "    return lat, lon\n",
    "\n",
    "\n",
    "url = \"https://raw.githubusercontent.com/ok-dk/dagi/master/geojson/postnumre.geojson\"\n",
    "geo_json = get_geojson(url)\n",
    "\n",
    "lat, lon = get_city_location(city='Helsingør')\n",
    "map_osm = folium.Map(location=(lat, lon), zoom_start=6)\n",
    "folium.GeoJson(geo_json, name='geojson').add_to(map_osm)\n",
    "map_osm.save('./osm2.html')\n",
    "map_osm"
   ]
  },
  {
   "cell_type": "markdown",
   "metadata": {},
   "source": [
    "## Filtering a GeoJSON File"
   ]
  },
  {
   "cell_type": "code",
   "execution_count": null,
   "metadata": {},
   "outputs": [],
   "source": [
    "%%bash\n",
    "\n",
    "ls -ltrh postnumre.geojson"
   ]
  },
  {
   "cell_type": "code",
   "execution_count": null,
   "metadata": {},
   "outputs": [],
   "source": [
    "%%bash\n",
    "\n",
    "cat postnumre.geojson"
   ]
  },
  {
   "cell_type": "code",
   "execution_count": null,
   "metadata": {
    "collapsed": true
   },
   "outputs": [],
   "source": [
    "import json\n",
    "\n",
    "\n",
    "geo_json_zealand = {}\n",
    "\n",
    "geo_json_zealand['type'] = geo_json['type']\n",
    "geo_json_zealand['crs'] = geo_json['crs']\n",
    "geo_json_zealand['features'] = []\n",
    "\n",
    "for feature in geo_json['features']:\n",
    "    if '-' in feature['properties']['POSTNR_TXT']:\n",
    "        zip_code = int(feature['properties']['POSTNR_TXT'].split('-')[-1])\n",
    "    else:\n",
    "        zip_code = int(feature['properties']['POSTNR_TXT'])\n",
    "    if zip_code < 4800:\n",
    "        # keep this feature\n",
    "        geo_json_zealand['features'].append(feature)\n",
    "\n",
    "        \n",
    "with open('./data/zip_areas_zealand.geojson', 'w', encoding='utf-8') as f:\n",
    "    json.dump(geo_json_zealand, f)"
   ]
  },
  {
   "cell_type": "code",
   "execution_count": null,
   "metadata": {},
   "outputs": [],
   "source": [
    "lat, lon = get_city_location(city='Helsingør')\n",
    "map_osm = folium.Map(location=(lat, lon) , zoom_start=7)\n",
    "folium.GeoJson(geo_json_zealand, name='geojson').add_to(map_osm)\n",
    "map_osm"
   ]
  },
  {
   "cell_type": "markdown",
   "metadata": {},
   "source": [
    "We add a new column with an integer value for the zip code, so that we can easily filter out data for various  regions."
   ]
  },
  {
   "cell_type": "code",
   "execution_count": null,
   "metadata": {
    "collapsed": true
   },
   "outputs": [],
   "source": [
    "zip_strings = []\n",
    "# ['1800-1899', '1500-1799', '1000-1499']\n",
    "for z in df_zealand_00_05['zip_nr'].values:\n",
    "    if 1000 <= z <= 1499:\n",
    "        zip_str = '1000-1499'\n",
    "    elif 1500 <= z <= 1799:\n",
    "        zip_str = '1500-1799'\n",
    "    elif 1800 <= z <= 1899:\n",
    "        zip_str = '1800-1899'\n",
    "    else:\n",
    "        zip_str = str(z)\n",
    "    zip_strings.append(zip_str)\n",
    "\n",
    "#df_zealand_00_05['zip_strings'] = zip_strings\n",
    "df_zealand_00_05 = df_zealand_00_05.assign(zip_strings=zip_strings)"
   ]
  },
  {
   "cell_type": "code",
   "execution_count": null,
   "metadata": {
    "collapsed": true
   },
   "outputs": [],
   "source": [
    "zip_codes_str = df_zealand_00_05['zip_strings'].unique()\n",
    "year_of_interest = 2005\n",
    "avg_sq_m_prices_per_zip = [df_zealand_00_05[(df_zealand_00_05['zip_strings'] == z) & \n",
    "                                            (df_zealand_00_05['sell_year'] == year_of_interest)]['price_per_sq_m'].mean() \n",
    "                           for z in zip_codes_str]"
   ]
  },
  {
   "cell_type": "code",
   "execution_count": null,
   "metadata": {},
   "outputs": [],
   "source": [
    "len(avg_sq_m_prices_per_zip)"
   ]
  },
  {
   "cell_type": "code",
   "execution_count": null,
   "metadata": {},
   "outputs": [],
   "source": [
    "data = {'avg_sq_m_prices_per_zip': avg_sq_m_prices_per_zip,\n",
    "        'zip_code': zip_codes_str}\n",
    "\n",
    "df_avg_price = pd.DataFrame(data)\n",
    "df_avg_price.head()"
   ]
  },
  {
   "cell_type": "code",
   "execution_count": null,
   "metadata": {},
   "outputs": [],
   "source": [
    "geo_json_zealand"
   ]
  },
  {
   "cell_type": "code",
   "execution_count": null,
   "metadata": {},
   "outputs": [],
   "source": [
    "import folium\n",
    "\n",
    "\n",
    "#Let Folium determine the scale\n",
    "my_map = folium.Map(location=[55.712401893184655, 12.36683945946928], \n",
    "                    zoom_start=7)\n",
    "my_map.choropleth(geo_path='data/zip_areas_zealand.geojson', \n",
    "                  data=df_avg_price,\n",
    "                  columns=['zip_code', 'avg_sq_m_prices_per_zip'],\n",
    "                  key_on='feature.properties.POSTNR_TXT',\n",
    "                  fill_color='YlOrRd', fill_opacity=0.7, \n",
    "                  line_opacity=0.2,\n",
    "                  legend_name='Average Price per square meter')\n",
    "    \n",
    "my_map"
   ]
  }
 ],
 "metadata": {
  "kernelspec": {
   "display_name": "Python 3",
   "language": "python",
   "name": "python3"
  },
  "language_info": {
   "codemirror_mode": {
    "name": "ipython",
    "version": 3
   },
   "file_extension": ".py",
   "mimetype": "text/x-python",
   "name": "python",
   "nbconvert_exporter": "python",
   "pygments_lexer": "ipython3",
   "version": "3.6.1"
  }
 },
 "nbformat": 4,
 "nbformat_minor": 2
}
