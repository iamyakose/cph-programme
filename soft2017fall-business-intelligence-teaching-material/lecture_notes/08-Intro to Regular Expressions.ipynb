{
 "cells": [
  {
   "cell_type": "markdown",
   "metadata": {},
   "source": [
    "# Regular Expressions\n",
    "\n",
    "http://www.pyregex.com\n",
    "\n",
    "This tutorial is based on chapter 7 \"Pattern Matching With Regular Expressions\" of the book *Automate The Boring Stuff The Boring Stuff With Python* by Al Sweigart.\n",
    "\n",
    "\n",
    "\n",
    "*Regular expressions* allow you to specify a pattern of text to search for.\n",
    "\n",
    "Regular expressions are huge time-savers, not just for software users but also for programmers. In fact, tech writer Cory Doctorow argues that even before teaching programming, we should be teaching regular expressions:\n",
    "\n",
    "> Knowing [regular expressions] can mean the difference between solving a problem in 3 steps and solving it in 3,000 steps. When you’re a nerd, you forget that the problems you solve with a couple keystrokes can take other people days of tedious, error-prone work to slog through.\n",
    "https://www.theguardian.com/technology/2012/dec/04/ict-teach-kids-regular-expressions\n",
    "\n",
    "\n",
    "## Finding Patterns of Text with Regular Expressions\n",
    "\n",
    "Regular expressions, called regexes for short, are descriptions for a pattern of text. For example, a `\\d` in a regex stands for a digit character, that is, any single numeral `0` to `9`. The regex `\\d\\d \\d\\d \\d\\d \\d\\d` could be used  by Python to match a Danish telefon number, a string of eight numbers separated by whitespaces.\n",
    "\n",
    "But regular expressions can be much more sophisticated. For example, adding a `2` in curly brackets (`{2}`) after a pattern is like saying, \"Match this pattern two times.\" So the regex `\\d{2} \\d{2} \\d{2} \\d{2}` also matches the correct phone number format. It could be shortened even more to `(\\d{2} ){3}\\d{2}`.\n",
    "\n",
    "### Creating Regex Objects\n",
    "\n",
    "All the regex functions in Python are in the `re` module.\n",
    "\n",
    "Passing a string value representing your regular expression to `re.compile()` returns a Regex pattern object (or simply, a Regex object). Note, since regular expressions frequently use backslashes in them, it is convenient to pass raw strings to the `re.compile()` function instead of typing extra backslashes. Typing `r'\\d{2} \\d{2} \\d{2} \\d{2}'` is much easier than typing `'\\\\d{2} \\\\d{2} \\\\d{2} \\\\d{2}'`.\n",
    "\n",
    "\n"
   ]
  },
  {
   "cell_type": "code",
   "execution_count": 7,
   "metadata": {},
   "outputs": [
    {
     "data": {
      "text/plain": [
       "re.compile(r'\\d{2} \\d{2} \\d{2} \\d{2} \\d{2}', re.UNICODE)"
      ]
     },
     "execution_count": 7,
     "metadata": {},
     "output_type": "execute_result"
    }
   ],
   "source": [
    "import re\n",
    "\n",
    "\n",
    "phone_num_reg = re.compile(r'\\d{2} \\d{2} \\d{2} \\d{2}')"
   ]
  },
  {
   "cell_type": "markdown",
   "metadata": {},
   "source": [
    "### Matching Regex Objects\n",
    "\n",
    "A Regex object’s `search()` method searches the string it is passed for any matches to the regex. The `search()` method will return `None` if the regex pattern is not found in the string. If the pattern is found, the `search()` method returns a `Match` object. `Match` objects have a `group()` method that will return the actual matched text from the searched string."
   ]
  },
  {
   "cell_type": "code",
   "execution_count": 6,
   "metadata": {},
   "outputs": [
    {
     "data": {
      "text/plain": [
       "'20 86 46 44'"
      ]
     },
     "execution_count": 6,
     "metadata": {},
     "output_type": "execute_result"
    }
   ],
   "source": [
    "import re\n",
    "\n",
    "\n",
    "phone_num_reg = re.compile(r'\\d{2} \\d{2} \\d{2} \\d{2}')\n",
    "\n",
    "address_entry = \"\"\"Møller \n",
    "20 86 46 44 \n",
    "Herningvej 8\n",
    "4800\n",
    "Nykøbing F\"\"\"\n",
    "\n",
    "mo = phone_num_reg.search(address_entry)\n",
    "mo.group()\n",
    "\n"
   ]
  },
  {
   "cell_type": "markdown",
   "metadata": {},
   "source": [
    "### Grouping with Parentheses\n",
    "\n",
    "\n",
    "Adding parentheses will create groups in the regex: `r'(\\d{4})\\n(Nykøbing F)'`. Then you can use the `group()` match object method to grab the matching text from just one group. The first set of parentheses in a regex string will be group 1. The second set will be group 2. By passing the integer 1 or 2 to the `group()` match object method, you can grab different parts of the matched text. Passing 0 or nothing to the `group()` method will return the entire matched text.\n"
   ]
  },
  {
   "cell_type": "code",
   "execution_count": 23,
   "metadata": {},
   "outputs": [
    {
     "name": "stdout",
     "output_type": "stream",
     "text": [
      "4800\n",
      "Nykøbing F\n",
      "Group 1:  4800\n",
      "Group 2:  Nykøbing F\n"
     ]
    },
    {
     "data": {
      "text/plain": [
       "('4800', 'Nykøbing F')"
      ]
     },
     "execution_count": 23,
     "metadata": {},
     "output_type": "execute_result"
    }
   ],
   "source": [
    "phone_num_reg = re.compile(r'(\\d{4})\\n(Nykøbing F)')\n",
    "\n",
    "address_entry = \"\"\"Møller \n",
    "20 86 46 44 \n",
    "Herningvej 8\n",
    "4800\n",
    "Nykøbing F\"\"\"\n",
    "\n",
    "mo = phone_num_reg.search(address_entry)\n",
    "print(mo.group(0))\n",
    "print('Group 1: ', mo.group(1))\n",
    "print('Group 2: ', mo.group(2))\n",
    "mo.groups()"
   ]
  },
  {
   "cell_type": "markdown",
   "metadata": {},
   "source": [
    "### The `findall()` Method\n",
    "\n",
    "In addition to the `search()` method, Regex objects also have a `findall()` method. While `search()` will return a Match object of the first matched text in the searched string, the `findall()` method will return the strings of every match in the searched string. \n",
    "\n",
    "\n",
    "If there are groups in the regular expression, then findall() will return a list of tuples."
   ]
  },
  {
   "cell_type": "code",
   "execution_count": 29,
   "metadata": {},
   "outputs": [
    {
     "name": "stdout",
     "output_type": "stream",
     "text": [
      "All matches: ['20 86 46 44', '86 14 18 31', '54 94 41 81']\n",
      "First match: 20 86 46 44\n"
     ]
    }
   ],
   "source": [
    "phone_num_reg = re.compile(r'\\d{2} \\d{2} \\d{2} \\d{2}')\n",
    "\n",
    "address_entry = \"\"\"Møller \n",
    "20 86 46 44 \n",
    "Herningvej 8\n",
    "4800\n",
    "Nykøbing F\n",
    "\n",
    "A Bischoff Møller\n",
    "86 14 18 31 \n",
    "Stenkildevej 14\n",
    "8260\n",
    "Viby J\n",
    "\n",
    "A Egelund-Møller\n",
    "54 94 41 81 \n",
    "Rønnebærparken 1 0011\n",
    "4983\n",
    "Dannemare\"\"\"\n",
    "\n",
    "numbers = phone_num_reg.findall(address_entry)\n",
    "print('All matches: {}'.format(numbers))\n",
    "\n",
    "mo = phone_num_reg.search(address_entry)\n",
    "print('First match: {}'.format(mo.group()))"
   ]
  },
  {
   "cell_type": "markdown",
   "metadata": {},
   "source": [
    "### More Regexp Syntax\n",
    "\n",
    "On top of grouping and repetitions, Regexps can express quite a bit more. Have a look to http://www.pyregex.com to see what else is possible. Now, we will play a bit with Regexps in the editor."
   ]
  },
  {
   "cell_type": "code",
   "execution_count": 31,
   "metadata": {},
   "outputs": [
    {
     "name": "stdout",
     "output_type": "stream",
     "text": [
      "Møller \n",
      "20 86 46 44 \n",
      "Herningvej 8\n",
      "4800\n",
      "Nykøbing F\n",
      "\n",
      "A Bischoff Møller\n",
      "86 14 18 31 \n",
      "Stenkildevej 14\n",
      "8260\n",
      "Viby J\n",
      "\n",
      "A Egelund-Møller\n",
      "54 94 41 81 \n",
      "Rønnebærparken 1 0011\n",
      "4983\n",
      "Dannemare\n",
      "\n",
      "A K Møller\n",
      "75 50 75 14 \n",
      "Bregnerødvej 75, st. 0002\n",
      "3460\n",
      "Birkerød\n",
      "\n",
      "A Møller\n",
      "86 45 44 36 \n",
      "Violvej 3\n",
      "Ø. Bjerregrav\n",
      "8920\n",
      "Randers NV\n",
      "\n",
      "A Møller\n",
      "97 95 20 01 \n",
      "Dalstræde 11\n",
      "Heltborg\n",
      "7760\n",
      "Hurup Thy\n",
      "\n",
      "A Møller\n",
      "76 42 00 81 \n",
      "Hyrdevej 16A\n",
      "7000\n",
      "Fredericia\n",
      "\n",
      "A Møller\n",
      "74 74 36 62 \n",
      "Jørgensgaardvej 13\n",
      "6240\n",
      "Løgumkloster\n",
      "\n",
      "A Møller\n",
      "86 13 22 99 \n",
      "Brammersgade 45\n",
      "8000\n",
      "Aarhus C\n",
      "\n",
      "A Møller Andersen\n",
      "45 80 47 14 \n",
      "Gammel Holtevej 60\n",
      "Gl Holte\n",
      "2840\n",
      "Holte\n",
      "\n",
      "A Møller Hansen\n",
      "86 28 39 14 \n",
      "Rugbjergvej 23\n",
      "Stavtrup\n",
      "8260\n",
      "Viby J\n",
      "\n",
      "A Møller Jensen\n",
      "86 15 31 51 \n",
      "Viborgvej 115, 1. tv\n",
      "Hasle\n",
      "8210\n",
      "Aarhus V\n",
      "\n",
      "A Møller Knudsen\n",
      "86 15 99 81 \n",
      "Julivej 15\n",
      "8210\n",
      "Aarhus V\n",
      "\n",
      "A Møller Pedersen\n",
      "75 62 16 57 \n",
      "Fredrik Bajers Gade 26, 1. th\n",
      "8700\n",
      "Horsens\n",
      "\n",
      "A Møller Pedersen\n",
      "75 89 54 29 \n",
      "Apotekerhaven 6, 2. mf\n",
      "8722\n",
      "Hedensted\n",
      "\n",
      "A Møller Sørensen\n",
      "35 38 97 81 \n",
      "Korsørgade 4, 6. tv\n",
      "2100\n",
      "København Ø\n",
      "\n",
      "A Porse Møller\n",
      "86 94 66 60 \n",
      "Røddikvej 60\n",
      "8464\n",
      "Galten\n",
      "\n",
      "A S Møller\n",
      "56 95 21 31 \n",
      "Store Torv 17, 2. 0006\n",
      "Rønne\n",
      "3700\n",
      "Rønne\n",
      "\n",
      "Aage Beck Møller\n",
      "74 84 11 35 \n",
      "Rødding Nørregade 8\n",
      "6630\n",
      "Rødding\n",
      "\n",
      "Aage Bojsen-Møller\n",
      "55 81 46 76 \n",
      "Noret 3\n",
      "4780\n",
      "Stege\n",
      "\n",
      "Aage Christian Møller Andersen\n",
      "64 66 01 21 \n",
      "Jordemodervej 7\n",
      "Bislev\n",
      "9240\n",
      "Nibe\n",
      "\n",
      "Aage Hansen Møller\n",
      "62 24 10 81 \n",
      "Filippavej 38\n",
      "Hundstrup\n",
      "5762\n",
      "Vester Skerninge\n",
      "\n",
      "Aage Jan Møller\n",
      "20 83 88 62 \n",
      "Næsborgvej 50, st. th\n",
      "2650\n",
      "Hvidovre\n",
      "\n",
      "Aage Karl Møller\n",
      "22 48 97 59 \n",
      "Dyrevænget 21\n",
      "Tibirke Sand\n",
      "3300\n",
      "Frederiksværk\n",
      "\n",
      "Aage Leon Hanefeld Møller\n",
      "22 13 31 84 \n",
      "Gammel Køge Landevej 180, 2. h\n",
      "2500\n",
      "Valby\n"
     ]
    }
   ],
   "source": [
    "import re\n",
    "\n",
    "\n",
    "with open('./addresses.txt') as f:\n",
    "    addresses = f.read()\n",
    "\n",
    "print(addresses)\n"
   ]
  }
 ],
 "metadata": {
  "kernelspec": {
   "display_name": "Python 3",
   "language": "python",
   "name": "python3"
  },
  "language_info": {
   "codemirror_mode": {
    "name": "ipython",
    "version": 3
   },
   "file_extension": ".py",
   "mimetype": "text/x-python",
   "name": "python",
   "nbconvert_exporter": "python",
   "pygments_lexer": "ipython3",
   "version": "3.6.1"
  }
 },
 "nbformat": 4,
 "nbformat_minor": 2
}
