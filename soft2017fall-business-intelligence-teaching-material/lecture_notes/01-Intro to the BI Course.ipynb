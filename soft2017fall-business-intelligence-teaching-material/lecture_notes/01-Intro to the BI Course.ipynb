{
 "cells": [
  {
   "cell_type": "markdown",
   "metadata": {},
   "source": [
    "# Welcome...\n",
    "\n",
    "![back_to_school](https://camo.githubusercontent.com/021cd7223ce9288131176e7ab15bfa288bc7bb7c/68747470733a2f2f732d6d656469612d63616368652d616b302e70696e696d672e636f6d2f373336782f39332f38662f37352f39333866373561636531343263666130623232623464626535636335353861332e6a7067)"
   ]
  },
  {
   "cell_type": "markdown",
   "metadata": {},
   "source": [
    "# Organisational Notes\n",
    "\n",
    "\n",
    "## The Exam\n",
    "\n",
    "The exam date is:\n",
    "\n",
    "  * Dec. 8th 2017 8:30 \n",
    "  * room 2.03\n",
    "  * Hand-in latest 12 o'clock (noon)\n",
    "\n",
    "  * During the exam each student will implement a task on their own computer in school.\n",
    "  * The exam lasts 3.5 hours. Each student is assessed indiviually.\n",
    "  * The results of the exam will be made accessible latest the: 15. Dec. 12 o'clock\n",
    "  * All course material is allowed for use in the exam as well as other internet resources.\n",
    "  * At least on of the teachers is physically present under the exam.\n",
    "\n",
    "Exam grade is computed like: \n",
    "\n",
    "  * mean of weekly (8) assignments counts half of the final grade\n",
    "  * grade of exam assignment counts as the other half\n",
    "\n",
    "\n",
    "## Assignments\n",
    "\n",
    "  * Eight mandatory assignments in groups (one per session)\n",
    "  * You hand-in the solutions as repositories on Github\n",
    "  * You hand-in each time until Sunday night (23:59)\n",
    "  * You will get a grade per solution and these grades are part of your final grade\n",
    "  * If you do all your exercises, the exam will be easy\n",
    "\n",
    "\n",
    "## Course Material\n",
    "\n",
    "  * You will find all the notebooks (the presentation you are looking at) and other code examples with corresponding data under the following GitHub repository:\n",
    "https://github.com/datsoftlyngby/soft2017fall-business-intelligence-teaching-material\n",
    "For cloning use:\n",
    "`git@github.com:datsoftlyngby/soft2017fall-business-intelligence-teaching-material.git`\n",
    "\n",
    "\n",
    "## Literature\n",
    "\n",
    "You should not really need any other literature besides all the information given in the notebooks in the `lecture_notes` directory.\n",
    "\n",
    "However, this course uses in it's first session the **free** ebook _A Whirlwind Tour of Python_ (http://www.oreilly.com/programming/free/a-whirlwind-tour-of-python.csp). ![](http://covers.oreillystatic.com/images/0636920053194/cat.gif) \n",
    "You can read it online https://jakevdp.github.io/WhirlwindTourOfPython/\n",
    "\n",
    "\n",
    "Later sessions are inspired by the book _Hands-On Machine Learning with Scikit-Learn and TensorFlow_ (http://shop.oreilly.com/product/0636920052289.do). ![](https://covers.oreillystatic.com/images/0636920052289/cat.gif)\n",
    "\n",
    "The **free** _\"Python Data Science Handbook\"_ ebook https://jakevdp.github.io/PythonDataScienceHandbook/index.html might be a useful source too.\n",
    "![](https://covers.oreillystatic.com/images/0636920034919/cat.gif) "
   ]
  },
  {
   "cell_type": "markdown",
   "metadata": {},
   "source": [
    "# Schedule\n",
    "\n",
    "  * Course in two blocks\n",
    "    - Data Processing Fundamentals Block\n",
    "    - Modelling and Machine Learning Basics Block\n",
    "  * Tuesday mornings (8.30 to 12.00)\n",
    "  * Lokale 2.03\n",
    "\n",
    "\n",
    "## Data Processing Fundamentals Block\n",
    "\n",
    "  * Session 1: Whirlwind Tour of Python (5th September)\n",
    "  * Session 2: Data Collection (12th September)\n",
    "  * Session 3: Data Preprocessing (19th September)\n",
    "  * Session 4: Data Visualisation (26th September)\n",
    "  \n",
    "In this block you will meet me, Helge.\n",
    "\n",
    "\n",
    "## Modelling and Machine Learning Basics Block\n",
    "\n",
    "  * Session 1: Basic machine learning (7th November)\n",
    "  * Session 2: Multivariate regression, Logistic regression and cross validation (14th November)\n",
    "  * Session 3: Classification and geospatial data (21st November)\n",
    "  * Session 4: Deep learning and populations (28th November)\n",
    "  \n",
    "In this block you will meet Jens."
   ]
  },
  {
   "cell_type": "markdown",
   "metadata": {},
   "source": [
    "# Groups\n",
    "\n",
    "  * Each group should not have more than three members.\n",
    "  * We will form them **now**\n",
    "  \n",
    "![](https://camo.githubusercontent.com/3f522a859f6fd04365e8d3e4e0928bbfa29eeac5/68747470733a2f2f6d2e706f706b65792e636f2f6133636265632f61724e676b2e676966)\n",
    "  "
   ]
  },
  {
   "cell_type": "markdown",
   "metadata": {},
   "source": [
    "# What is Business Intelligence?\n",
    "\n",
    "\n",
    "### Definition 1\n",
    "> Business intelligence, or BI, is an umbrella term that refers to a variety of software applications used to analyze an organization’s raw data. BI as a discipline is made up of several related activities, including data mining, online analytical processing, querying and reporting.\n",
    "> \n",
    "> Companies use BI to improve decision making, cut costs and identify new business opportunities. BI is more than just corporate reporting and more than a set of tools to coax data out of enterprise systems. CIOs use BI to identify inefficient business processes that are ripe for re-engineering.\n",
    "http://www.cio.com/article/2439504/business-intelligence/business-intelligence-business-intelligence-definition-and-solutions.html\n",
    "\n",
    "### Definition 2\n",
    "> First of all, BI isn't just a pile of information, it's actually a whole set of theories and processes that help professionals sort through and analyze the information they collect.\n",
    "> \n",
    "> A lot of information passes through a company's internal network, but this information must be organized and presented in a relevant, contextualized way before it is useful in the decision-making processes of an organization.\n",
    "> \n",
    "> Good BI is instrumental in making businesses successful. The information gathered and sorted by BI analysts helps companies better understand their history, where they stand and how they might grow in the future.\n",
    "http://www.businessnewsdaily.com/4692-business-intelligence.html\n",
    "\n",
    "\n",
    "### Definition 3\n",
    "> Business intelligence (BI) simplifies information discovery and analysis, making it possible for decision-makers at all levels of an organization to more easily access, understand, analyze, collaborate, and act on information, anytime and anywhere. https://technet.microsoft.com/en-us/library/cc811595(v=office.12).aspx\n",
    "\n",
    "\n",
    "\n",
    "\n"
   ]
  }
 ],
 "metadata": {
  "kernelspec": {
   "display_name": "Python 3",
   "language": "python",
   "name": "python3"
  },
  "language_info": {
   "codemirror_mode": {
    "name": "ipython",
    "version": 3
   },
   "file_extension": ".py",
   "mimetype": "text/x-python",
   "name": "python",
   "nbconvert_exporter": "python",
   "pygments_lexer": "ipython3",
   "version": "3.6.1"
  }
 },
 "nbformat": 4,
 "nbformat_minor": 2
}
